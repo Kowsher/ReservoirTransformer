{
 "cells": [
  {
   "cell_type": "code",
   "execution_count": 1,
   "id": "3eeaaae3",
   "metadata": {},
   "outputs": [],
   "source": [
    "import reservoirtransformers\n",
    "import math\n",
    "import os\n",
    "import warnings\n",
    "from dataclasses import dataclass\n",
    "from typing import List, Optional, Tuple, Union\n",
    "\n",
    "import torch\n",
    "import torch.utils.checkpoint\n",
    "from torch import nn\n",
    "from torch.nn import BCEWithLogitsLoss, CrossEntropyLoss, MSELoss\n",
    "import torch.nn.functional as F"
   ]
  },
  {
   "cell_type": "code",
   "execution_count": 2,
   "id": "7eb58cec",
   "metadata": {},
   "outputs": [],
   "source": [
    "from configuration import ReservoirTConfig\n",
    "\n",
    "configuration = ReservoirTConfig()\n",
    "\n",
    "configuration.output_size=7\n",
    "configuration.re_output_size=20\n",
    "configuration.max_sequence_length=1399\n",
    "configuration.sequence_length=384\n",
    "configuration.pred_len=96\n",
    "configuration.hidden_size=8\n",
    "configuration.num_attention_heads=4\n",
    "configuration.hidden_dropout_prob=0.0\n",
    "configuration.num_hidden_layers=2\n",
    "configuration.num_reservoirs = 10\n",
    "configuration.reservoir_size = [30, 15, 20, 25, 30, 35, 40, 45, 50, 50]\n",
    "configuration.spectral_radius = [0.6, 0.8, 0.55, 0.6, 0.5, 0.4, 0.3, 0.2, 0.81, 0.05]\n",
    "configuration.sparsity = [0.6, 0.55, 0.5, 0.45, 0.4, 0.35, 0.3, 0.25, 0.2, 0.15]\n",
    "configuration.leaky = [0.3, 0.31, 0.32, 0.33, 0.34, 0.35, 0.36, 0.37, 0.38, 0.39]\n",
    "configuration.attention_probs_dropout_prob=0.0\n",
    "#bert_model = TabularBertForRegression(config=configuration).to(\"cpu\", dtype=float)\n",
    "model = reservoirtransformers.ReservoirTTimeSeries(config=configuration).to(\"cpu\", dtype=float)\n"
   ]
  },
  {
   "cell_type": "code",
   "execution_count": 3,
   "id": "0f6bf41e",
   "metadata": {},
   "outputs": [
    {
     "data": {
      "text/plain": [
       "\"\\nzero_col = np.zeros((X.shape[0], 1))\\n\\n# Concatenate the original array with the zero column along the second axis (columns)\\nX = np.hstack((X, zero_col))\\n#X =  dataset.drop(['ate'], axis = 1).values\\n\\n#X_train, X_test, y_train, y_test =train_test_split(X.values, y, test_size=0.2, shuffle=False)\\n\""
      ]
     },
     "execution_count": 3,
     "metadata": {},
     "output_type": "execute_result"
    }
   ],
   "source": [
    "import numpy as np\n",
    "# prepare data for lstm\n",
    "from sklearn.preprocessing import StandardScaler\n",
    "from pandas import read_csv\n",
    "from pandas import DataFrame\n",
    "import random\n",
    "from sklearn.model_selection import train_test_split\n",
    "from pandas import concat\n",
    "from sklearn.preprocessing import LabelEncoder\n",
    "from sklearn.preprocessing import MinMaxScaler\n",
    "dataset= read_csv('ETTh2.csv')\n",
    "dataset=dataset.dropna()\n",
    "dataset = dataset.drop(['date'], axis = 1)\n",
    "dataset = dataset.dropna()\n",
    "#data = dataset.values[0:14000]\n",
    "\n",
    "\n",
    "y = dataset.OT.values\n",
    "\n",
    "\n",
    "X = dataset.values\n",
    "\n",
    "scaler = StandardScaler()\n",
    "X = scaler.fit_transform(X)\n",
    "\n",
    "\n",
    "\n",
    "#X=X[1:]\n",
    "\n",
    "#Reservoir_id = np.array([[0] * len(X[0])] + X[:-1].tolist())\n",
    "# Create a zero column of shape (100, 1)\n",
    "'''\n",
    "zero_col = np.zeros((X.shape[0], 1))\n",
    "\n",
    "# Concatenate the original array with the zero column along the second axis (columns)\n",
    "X = np.hstack((X, zero_col))\n",
    "#X =  dataset.drop(['ate'], axis = 1).values\n",
    "\n",
    "#X_train, X_test, y_train, y_test =train_test_split(X.values, y, test_size=0.2, shuffle=False)\n",
    "'''"
   ]
  },
  {
   "cell_type": "code",
   "execution_count": 4,
   "id": "6d0706c5",
   "metadata": {},
   "outputs": [
    {
     "data": {
      "application/vnd.jupyter.widget-view+json": {
       "model_id": "4eecb935ab0b46d8905425acdee75ca6",
       "version_major": 2,
       "version_minor": 0
      },
      "text/plain": [
       "  0%|          | 0/16941 [00:00<?, ?it/s]"
      ]
     },
     "metadata": {},
     "output_type": "display_data"
    },
    {
     "name": "stderr",
     "output_type": "stream",
     "text": [
      "C:\\Users\\Kowsher\\AppData\\Local\\Temp\\ipykernel_18312\\4055334564.py:9: UserWarning: Creating a tensor from a list of numpy.ndarrays is extremely slow. Please consider converting the list to a single numpy.ndarray with numpy.array() before converting to a tensor. (Triggered internally at ..\\torch\\csrc\\utils\\tensor_new.cpp:248.)\n",
      "  return torch.tensor(sequences), torch.tensor(targets)\n"
     ]
    },
    {
     "name": "stdout",
     "output_type": "stream",
     "text": [
      "torch.Size([16941, 384, 7])\n"
     ]
    }
   ],
   "source": [
    "from tqdm.auto import tqdm\n",
    "# 1. Preprocess the data into the required format\n",
    "def create_sequences(data, seq_length, pred_length):\n",
    "    sequences = []\n",
    "    targets = []\n",
    "    for i in tqdm(range(len(data) - seq_length - pred_length + 1)):\n",
    "        sequences.append(data[i:i+seq_length])\n",
    "        targets.append(data[i+seq_length:i+seq_length+pred_length])\n",
    "    return torch.tensor(sequences), torch.tensor(targets)\n",
    "\n",
    "X, y = create_sequences(X, seq_length=configuration.sequence_length, pred_length=configuration.pred_len)\n",
    "# Zeros tensor of shape [16941, 384, 1]\n",
    "print(X.shape)\n",
    "zeros = torch.zeros((X.size(0), X.size(1), 1), dtype=X.dtype)\n",
    "\n",
    "# Concatenate along the last dimension\n",
    "X = torch.cat((X, zeros), dim=-1)"
   ]
  },
  {
   "cell_type": "code",
   "execution_count": 5,
   "id": "3e13e0d0",
   "metadata": {},
   "outputs": [
    {
     "data": {
      "text/plain": [
       "(torch.Size([16941, 384, 8]), torch.Size([16941, 96, 7]))"
      ]
     },
     "execution_count": 5,
     "metadata": {},
     "output_type": "execute_result"
    }
   ],
   "source": [
    "X.shape, y.shape"
   ]
  },
  {
   "cell_type": "code",
   "execution_count": 6,
   "id": "7955f82a",
   "metadata": {},
   "outputs": [],
   "source": [
    "\n",
    "batch=64\n",
    "indices = np.arange(len(X)) \n",
    "barrier = int(len(indices)/batch)*batch\n",
    "indices = indices[0:barrier]\n",
    "soft_border = int((configuration.sequence_length/batch))+16\n",
    "\n",
    "indices = [indices[i:i+batch] for i in range(0, len(indices), batch)]\n",
    "\n",
    "border1 = int(len(indices)*0.7)\n",
    "border2 = border1+int(len(indices)*0.1)\n",
    "border3 = border2+int(len(indices)*0.2)\n",
    "\n",
    "train_ind = indices[0:border1]\n",
    "val_ind = indices[border1-soft_border: border2]\n",
    "test_ind = indices[border2-soft_border: border3]\n",
    "\n",
    "random.shuffle(train_ind)\n",
    "random.shuffle(val_ind)\n",
    "#random.shuffle(test_ind)\n",
    "\n",
    "\n",
    "X_train = [X[item] for sublist in train_ind for item in sublist]\n",
    "y_train = [y[item] for sublist in train_ind for item in sublist]\n",
    "\n",
    "X_val = [X[item] for sublist in val_ind for item in sublist]\n",
    "y_val = [y[item] for sublist in val_ind for item in sublist]\n",
    "\n",
    "X_test = [X[item] for sublist in test_ind for item in sublist]\n",
    "y_test = [y[item] for sublist in test_ind for item in sublist]\n",
    "\n",
    "#train_indices, test_indices =train_test_split(indices,  test_size=0.2, shuffle=False)\n",
    "#indices = [item for sublist in indices for item in sublist]"
   ]
  },
  {
   "cell_type": "code",
   "execution_count": 7,
   "id": "26d5bda1",
   "metadata": {},
   "outputs": [],
   "source": [
    "import torch\n",
    "from torch.utils.data import Dataset, DataLoader\n",
    "\n",
    "class CustomDataset(Dataset):\n",
    "    def __init__(self, tokenized_inputs,  labels=None, pos=None):\n",
    "        self.tokenized_inputs = tokenized_inputs\n",
    "        self.labels = labels\n",
    "        self.pos = pos\n",
    "        self.id_list = None\n",
    "        self.re = None\n",
    "\n",
    "    def __len__(self):\n",
    "        return len(self.tokenized_inputs)\n",
    "\n",
    "    def __getitem__(self, idx):\n",
    "        if self.labels is not None:\n",
    "            return {\n",
    "                \"inputs_embeds\": torch.tensor(self.tokenized_inputs[idx]),\n",
    "                \"labels_ids\": torch.tensor(self.labels[idx]),\n",
    "                #\"id\": torch.tensor(self.id_list[idx]),  # Include the id directly\n",
    "                #\"reservoir_ids\": torch.tensor(self.re[idx]),\n",
    "            }\n",
    "        else:\n",
    "            return {\n",
    "                \"inputs_embeds\": torch.tensor(self.tokenized_inputs[idx]),\n",
    "            }\n",
    "\n",
    "# Assuming you have X_train, y_train, X_test, y_test, trainpos, and testpos defined\n",
    "\n",
    "\n",
    "train_dataset = CustomDataset(X_train, y_train)\n",
    "\n",
    "test_dataset = CustomDataset(X_test, y_test)\n",
    "\n",
    "val_dataset = CustomDataset(X_val, y_val)"
   ]
  },
  {
   "cell_type": "code",
   "execution_count": 8,
   "id": "13806390",
   "metadata": {},
   "outputs": [],
   "source": [
    "from transformers import Trainer, TrainingArguments\n",
    "from torch.utils.data import DataLoader\n",
    "from torch.cuda.amp import GradScaler\n",
    "class CustomTrainer(Trainer):\n",
    "    def __init__(self, *args, gradient_accumulation_steps=1, **kwargs):\n",
    "        super().__init__(*args, **kwargs)\n",
    "        self.gradient_accumulation_steps = gradient_accumulation_steps\n",
    "        self.scaler = GradScaler()\n",
    "\n",
    "    def training_step(self, model, inputs):\n",
    "        model.train()\n",
    "        inputs = self._prepare_inputs(inputs)\n",
    "        loss = self.compute_loss(model, inputs)\n",
    "\n",
    "        if self.args.n_gpu > 1:\n",
    "            loss = loss.mean()  # mean() to average on multi-gpu parallel training\n",
    "\n",
    "        loss = loss / self.gradient_accumulation_steps\n",
    "        self.scaler.scale(loss).backward()\n",
    "\n",
    "        return loss.detach()\n",
    "\n",
    "\n",
    "    def get_train_dataloader(self) -> DataLoader:\n",
    "        \"\"\"\n",
    "        Returns the training [`~torch.utils.data.DataLoader`].\n",
    "        Will use no sampler if `train_dataset` does not implement `__len__`, a random sampler (adapted to distributed\n",
    "        training if necessary) otherwise.\n",
    "        Subclass and override this method if you want to inject some custom behavior.\n",
    "        \"\"\"\n",
    "        if self.train_dataset is None:\n",
    "            raise ValueError(\"Trainer: training requires a train_dataset.\")\n",
    "\n",
    "        train_dataset = self.train_dataset\n",
    "\n",
    "\n",
    "        loader =  DataLoader(\n",
    "            train_dataset,\n",
    "            batch_size=self._train_batch_size,\n",
    "            drop_last=self.args.dataloader_drop_last,\n",
    "            shuffle = False,\n",
    "        )\n",
    "        return loader\n",
    "\n",
    "#bert_model = TabularBertForSequenceClassification(config=configuration).to(\"cpu\", dtype=float)\n"
   ]
  },
  {
   "cell_type": "code",
   "execution_count": 9,
   "id": "cb4d10de",
   "metadata": {
    "scrolled": true
   },
   "outputs": [
    {
     "name": "stderr",
     "output_type": "stream",
     "text": [
      "C:\\Users\\Kowsher\\AppData\\Local\\Temp\\ipykernel_18312\\2303645629.py:18: UserWarning: To copy construct from a tensor, it is recommended to use sourceTensor.clone().detach() or sourceTensor.clone().detach().requires_grad_(True), rather than torch.tensor(sourceTensor).\n",
      "  \"inputs_embeds\": torch.tensor(self.tokenized_inputs[idx]),\n",
      "C:\\Users\\Kowsher\\AppData\\Local\\Temp\\ipykernel_18312\\2303645629.py:19: UserWarning: To copy construct from a tensor, it is recommended to use sourceTensor.clone().detach() or sourceTensor.clone().detach().requires_grad_(True), rather than torch.tensor(sourceTensor).\n",
      "  \"labels_ids\": torch.tensor(self.labels[idx]),\n",
      "Could not estimate the number of tokens of the input, floating-point operations will not be computed\n"
     ]
    },
    {
     "name": "stdout",
     "output_type": "stream",
     "text": [
      "{'loss': 0.3792, 'learning_rate': 0.0009922360248447205, 'epoch': 0.27}\n",
      "{'eval_loss': 0.5039566500443828, 'eval_r2_score': -1.0309102078481929, 'eval_mse': 1.2118611699671722, 'eval_runtime': 11.154, 'eval_samples_per_second': 275.416, 'eval_steps_per_second': 4.303, 'epoch': 0.27}\n"
     ]
    },
    {
     "name": "stderr",
     "output_type": "stream",
     "text": [
      "C:\\Users\\Kowsher\\AppData\\Local\\Temp\\ipykernel_18312\\2303645629.py:18: UserWarning: To copy construct from a tensor, it is recommended to use sourceTensor.clone().detach() or sourceTensor.clone().detach().requires_grad_(True), rather than torch.tensor(sourceTensor).\n",
      "  \"inputs_embeds\": torch.tensor(self.tokenized_inputs[idx]),\n",
      "C:\\Users\\Kowsher\\AppData\\Local\\Temp\\ipykernel_18312\\2303645629.py:19: UserWarning: To copy construct from a tensor, it is recommended to use sourceTensor.clone().detach() or sourceTensor.clone().detach().requires_grad_(True), rather than torch.tensor(sourceTensor).\n",
      "  \"labels_ids\": torch.tensor(self.labels[idx]),\n"
     ]
    },
    {
     "name": "stdout",
     "output_type": "stream",
     "text": [
      "{'loss': 0.3983, 'learning_rate': 0.000984472049689441, 'epoch': 0.54}\n",
      "{'eval_loss': 0.3915457479513658, 'eval_r2_score': -0.5297256797535859, 'eval_mse': 0.9128001547440042, 'eval_runtime': 10.8438, 'eval_samples_per_second': 283.296, 'eval_steps_per_second': 4.426, 'epoch': 0.54}\n"
     ]
    },
    {
     "name": "stderr",
     "output_type": "stream",
     "text": [
      "C:\\Users\\Kowsher\\AppData\\Local\\Temp\\ipykernel_18312\\2303645629.py:18: UserWarning: To copy construct from a tensor, it is recommended to use sourceTensor.clone().detach() or sourceTensor.clone().detach().requires_grad_(True), rather than torch.tensor(sourceTensor).\n",
      "  \"inputs_embeds\": torch.tensor(self.tokenized_inputs[idx]),\n",
      "C:\\Users\\Kowsher\\AppData\\Local\\Temp\\ipykernel_18312\\2303645629.py:19: UserWarning: To copy construct from a tensor, it is recommended to use sourceTensor.clone().detach() or sourceTensor.clone().detach().requires_grad_(True), rather than torch.tensor(sourceTensor).\n",
      "  \"labels_ids\": torch.tensor(self.labels[idx]),\n"
     ]
    },
    {
     "name": "stdout",
     "output_type": "stream",
     "text": [
      "{'loss': 0.2849, 'learning_rate': 0.0009767080745341616, 'epoch': 0.82}\n",
      "{'eval_loss': 0.3195047267927968, 'eval_r2_score': -0.25352140890354113, 'eval_mse': 0.7479867476673263, 'eval_runtime': 10.9576, 'eval_samples_per_second': 280.353, 'eval_steps_per_second': 4.381, 'epoch': 0.82}\n"
     ]
    },
    {
     "name": "stderr",
     "output_type": "stream",
     "text": [
      "C:\\Users\\Kowsher\\AppData\\Local\\Temp\\ipykernel_18312\\2303645629.py:18: UserWarning: To copy construct from a tensor, it is recommended to use sourceTensor.clone().detach() or sourceTensor.clone().detach().requires_grad_(True), rather than torch.tensor(sourceTensor).\n",
      "  \"inputs_embeds\": torch.tensor(self.tokenized_inputs[idx]),\n",
      "C:\\Users\\Kowsher\\AppData\\Local\\Temp\\ipykernel_18312\\2303645629.py:19: UserWarning: To copy construct from a tensor, it is recommended to use sourceTensor.clone().detach() or sourceTensor.clone().detach().requires_grad_(True), rather than torch.tensor(sourceTensor).\n",
      "  \"labels_ids\": torch.tensor(self.labels[idx]),\n"
     ]
    },
    {
     "name": "stdout",
     "output_type": "stream",
     "text": [
      "{'loss': 0.2123, 'learning_rate': 0.0009689440993788821, 'epoch': 1.09}\n",
      "{'eval_loss': 0.26479227502842223, 'eval_r2_score': -0.006056454637402231, 'eval_mse': 0.6003223320550864, 'eval_runtime': 10.7901, 'eval_samples_per_second': 284.706, 'eval_steps_per_second': 4.449, 'epoch': 1.09}\n"
     ]
    },
    {
     "name": "stderr",
     "output_type": "stream",
     "text": [
      "C:\\Users\\Kowsher\\AppData\\Local\\Temp\\ipykernel_18312\\2303645629.py:18: UserWarning: To copy construct from a tensor, it is recommended to use sourceTensor.clone().detach() or sourceTensor.clone().detach().requires_grad_(True), rather than torch.tensor(sourceTensor).\n",
      "  \"inputs_embeds\": torch.tensor(self.tokenized_inputs[idx]),\n",
      "C:\\Users\\Kowsher\\AppData\\Local\\Temp\\ipykernel_18312\\2303645629.py:19: UserWarning: To copy construct from a tensor, it is recommended to use sourceTensor.clone().detach() or sourceTensor.clone().detach().requires_grad_(True), rather than torch.tensor(sourceTensor).\n",
      "  \"labels_ids\": torch.tensor(self.labels[idx]),\n"
     ]
    },
    {
     "name": "stdout",
     "output_type": "stream",
     "text": [
      "{'loss': 0.273, 'learning_rate': 0.0009611801242236025, 'epoch': 1.36}\n",
      "{'eval_loss': 0.20725555983433752, 'eval_r2_score': 0.2369912368542756, 'eval_mse': 0.4552937342220988, 'eval_runtime': 10.7617, 'eval_samples_per_second': 285.455, 'eval_steps_per_second': 4.46, 'epoch': 1.36}\n"
     ]
    },
    {
     "name": "stderr",
     "output_type": "stream",
     "text": [
      "C:\\Users\\Kowsher\\AppData\\Local\\Temp\\ipykernel_18312\\2303645629.py:18: UserWarning: To copy construct from a tensor, it is recommended to use sourceTensor.clone().detach() or sourceTensor.clone().detach().requires_grad_(True), rather than torch.tensor(sourceTensor).\n",
      "  \"inputs_embeds\": torch.tensor(self.tokenized_inputs[idx]),\n",
      "C:\\Users\\Kowsher\\AppData\\Local\\Temp\\ipykernel_18312\\2303645629.py:19: UserWarning: To copy construct from a tensor, it is recommended to use sourceTensor.clone().detach() or sourceTensor.clone().detach().requires_grad_(True), rather than torch.tensor(sourceTensor).\n",
      "  \"labels_ids\": torch.tensor(self.labels[idx]),\n"
     ]
    },
    {
     "name": "stdout",
     "output_type": "stream",
     "text": [
      "{'loss': 0.2583, 'learning_rate': 0.000953416149068323, 'epoch': 1.63}\n",
      "{'eval_loss': 0.1557560184381968, 'eval_r2_score': 0.4411220572669309, 'eval_mse': 0.333487160058614, 'eval_runtime': 10.6556, 'eval_samples_per_second': 288.298, 'eval_steps_per_second': 4.505, 'epoch': 1.63}\n"
     ]
    },
    {
     "name": "stderr",
     "output_type": "stream",
     "text": [
      "C:\\Users\\Kowsher\\AppData\\Local\\Temp\\ipykernel_18312\\2303645629.py:18: UserWarning: To copy construct from a tensor, it is recommended to use sourceTensor.clone().detach() or sourceTensor.clone().detach().requires_grad_(True), rather than torch.tensor(sourceTensor).\n",
      "  \"inputs_embeds\": torch.tensor(self.tokenized_inputs[idx]),\n",
      "C:\\Users\\Kowsher\\AppData\\Local\\Temp\\ipykernel_18312\\2303645629.py:19: UserWarning: To copy construct from a tensor, it is recommended to use sourceTensor.clone().detach() or sourceTensor.clone().detach().requires_grad_(True), rather than torch.tensor(sourceTensor).\n",
      "  \"labels_ids\": torch.tensor(self.labels[idx]),\n"
     ]
    },
    {
     "name": "stdout",
     "output_type": "stream",
     "text": [
      "{'loss': 0.2054, 'learning_rate': 0.0009456521739130435, 'epoch': 1.9}\n",
      "{'eval_loss': 0.12075560566289341, 'eval_r2_score': 0.5712964720244238, 'eval_mse': 0.2558109939936695, 'eval_runtime': 10.6621, 'eval_samples_per_second': 288.123, 'eval_steps_per_second': 4.502, 'epoch': 1.9}\n"
     ]
    },
    {
     "name": "stderr",
     "output_type": "stream",
     "text": [
      "C:\\Users\\Kowsher\\AppData\\Local\\Temp\\ipykernel_18312\\2303645629.py:18: UserWarning: To copy construct from a tensor, it is recommended to use sourceTensor.clone().detach() or sourceTensor.clone().detach().requires_grad_(True), rather than torch.tensor(sourceTensor).\n",
      "  \"inputs_embeds\": torch.tensor(self.tokenized_inputs[idx]),\n",
      "C:\\Users\\Kowsher\\AppData\\Local\\Temp\\ipykernel_18312\\2303645629.py:19: UserWarning: To copy construct from a tensor, it is recommended to use sourceTensor.clone().detach() or sourceTensor.clone().detach().requires_grad_(True), rather than torch.tensor(sourceTensor).\n",
      "  \"labels_ids\": torch.tensor(self.labels[idx]),\n"
     ]
    },
    {
     "name": "stdout",
     "output_type": "stream",
     "text": [
      "{'loss': 0.1762, 'learning_rate': 0.0009378881987577639, 'epoch': 2.17}\n",
      "{'eval_loss': 0.11445230660593646, 'eval_r2_score': 0.593846593968462, 'eval_mse': 0.2423551469274622, 'eval_runtime': 10.7284, 'eval_samples_per_second': 286.344, 'eval_steps_per_second': 4.474, 'epoch': 2.17}\n"
     ]
    },
    {
     "name": "stderr",
     "output_type": "stream",
     "text": [
      "C:\\Users\\Kowsher\\AppData\\Local\\Temp\\ipykernel_18312\\2303645629.py:18: UserWarning: To copy construct from a tensor, it is recommended to use sourceTensor.clone().detach() or sourceTensor.clone().detach().requires_grad_(True), rather than torch.tensor(sourceTensor).\n",
      "  \"inputs_embeds\": torch.tensor(self.tokenized_inputs[idx]),\n",
      "C:\\Users\\Kowsher\\AppData\\Local\\Temp\\ipykernel_18312\\2303645629.py:19: UserWarning: To copy construct from a tensor, it is recommended to use sourceTensor.clone().detach() or sourceTensor.clone().detach().requires_grad_(True), rather than torch.tensor(sourceTensor).\n",
      "  \"labels_ids\": torch.tensor(self.labels[idx]),\n"
     ]
    },
    {
     "name": "stdout",
     "output_type": "stream",
     "text": [
      "{'loss': 0.2376, 'learning_rate': 0.0009301242236024845, 'epoch': 2.45}\n",
      "{'eval_loss': 0.13789365238837495, 'eval_r2_score': 0.5104594541219547, 'eval_mse': 0.29211295328645126, 'eval_runtime': 11.0827, 'eval_samples_per_second': 277.189, 'eval_steps_per_second': 4.331, 'epoch': 2.45}\n"
     ]
    },
    {
     "name": "stderr",
     "output_type": "stream",
     "text": [
      "C:\\Users\\Kowsher\\AppData\\Local\\Temp\\ipykernel_18312\\2303645629.py:18: UserWarning: To copy construct from a tensor, it is recommended to use sourceTensor.clone().detach() or sourceTensor.clone().detach().requires_grad_(True), rather than torch.tensor(sourceTensor).\n",
      "  \"inputs_embeds\": torch.tensor(self.tokenized_inputs[idx]),\n",
      "C:\\Users\\Kowsher\\AppData\\Local\\Temp\\ipykernel_18312\\2303645629.py:19: UserWarning: To copy construct from a tensor, it is recommended to use sourceTensor.clone().detach() or sourceTensor.clone().detach().requires_grad_(True), rather than torch.tensor(sourceTensor).\n",
      "  \"labels_ids\": torch.tensor(self.labels[idx]),\n"
     ]
    },
    {
     "name": "stdout",
     "output_type": "stream",
     "text": [
      "{'loss': 0.2269, 'learning_rate': 0.000922360248447205, 'epoch': 2.72}\n",
      "{'eval_loss': 0.13907905060583992, 'eval_r2_score': 0.5036328760681559, 'eval_mse': 0.2961864297184369, 'eval_runtime': 10.7404, 'eval_samples_per_second': 286.023, 'eval_steps_per_second': 4.469, 'epoch': 2.72}\n"
     ]
    },
    {
     "name": "stderr",
     "output_type": "stream",
     "text": [
      "C:\\Users\\Kowsher\\AppData\\Local\\Temp\\ipykernel_18312\\2303645629.py:18: UserWarning: To copy construct from a tensor, it is recommended to use sourceTensor.clone().detach() or sourceTensor.clone().detach().requires_grad_(True), rather than torch.tensor(sourceTensor).\n",
      "  \"inputs_embeds\": torch.tensor(self.tokenized_inputs[idx]),\n",
      "C:\\Users\\Kowsher\\AppData\\Local\\Temp\\ipykernel_18312\\2303645629.py:19: UserWarning: To copy construct from a tensor, it is recommended to use sourceTensor.clone().detach() or sourceTensor.clone().detach().requires_grad_(True), rather than torch.tensor(sourceTensor).\n",
      "  \"labels_ids\": torch.tensor(self.labels[idx]),\n"
     ]
    },
    {
     "name": "stdout",
     "output_type": "stream",
     "text": [
      "{'loss': 0.1598, 'learning_rate': 0.0009145962732919255, 'epoch': 2.99}\n",
      "{'eval_loss': 0.15806633030828346, 'eval_r2_score': 0.44073595564380597, 'eval_mse': 0.3337175501383518, 'eval_runtime': 10.9663, 'eval_samples_per_second': 280.131, 'eval_steps_per_second': 4.377, 'epoch': 2.99}\n"
     ]
    },
    {
     "name": "stderr",
     "output_type": "stream",
     "text": [
      "C:\\Users\\Kowsher\\AppData\\Local\\Temp\\ipykernel_18312\\2303645629.py:18: UserWarning: To copy construct from a tensor, it is recommended to use sourceTensor.clone().detach() or sourceTensor.clone().detach().requires_grad_(True), rather than torch.tensor(sourceTensor).\n",
      "  \"inputs_embeds\": torch.tensor(self.tokenized_inputs[idx]),\n",
      "C:\\Users\\Kowsher\\AppData\\Local\\Temp\\ipykernel_18312\\2303645629.py:19: UserWarning: To copy construct from a tensor, it is recommended to use sourceTensor.clone().detach() or sourceTensor.clone().detach().requires_grad_(True), rather than torch.tensor(sourceTensor).\n",
      "  \"labels_ids\": torch.tensor(self.labels[idx]),\n"
     ]
    },
    {
     "name": "stdout",
     "output_type": "stream",
     "text": [
      "{'loss': 0.1564, 'learning_rate': 0.000906832298136646, 'epoch': 3.26}\n",
      "{'eval_loss': 0.117551016049121, 'eval_r2_score': 0.5844125808336771, 'eval_mse': 0.2479845017609875, 'eval_runtime': 11.0255, 'eval_samples_per_second': 278.627, 'eval_steps_per_second': 4.354, 'epoch': 3.26}\n"
     ]
    },
    {
     "name": "stderr",
     "output_type": "stream",
     "text": [
      "C:\\Users\\Kowsher\\AppData\\Local\\Temp\\ipykernel_18312\\2303645629.py:18: UserWarning: To copy construct from a tensor, it is recommended to use sourceTensor.clone().detach() or sourceTensor.clone().detach().requires_grad_(True), rather than torch.tensor(sourceTensor).\n",
      "  \"inputs_embeds\": torch.tensor(self.tokenized_inputs[idx]),\n",
      "C:\\Users\\Kowsher\\AppData\\Local\\Temp\\ipykernel_18312\\2303645629.py:19: UserWarning: To copy construct from a tensor, it is recommended to use sourceTensor.clone().detach() or sourceTensor.clone().detach().requires_grad_(True), rather than torch.tensor(sourceTensor).\n",
      "  \"labels_ids\": torch.tensor(self.labels[idx]),\n"
     ]
    },
    {
     "name": "stdout",
     "output_type": "stream",
     "text": [
      "{'loss': 0.2542, 'learning_rate': 0.0008990683229813664, 'epoch': 3.53}\n",
      "{'eval_loss': 0.12110096776147539, 'eval_r2_score': 0.5711481331248095, 'eval_mse': 0.25589950906033443, 'eval_runtime': 10.7829, 'eval_samples_per_second': 284.897, 'eval_steps_per_second': 4.452, 'epoch': 3.53}\n"
     ]
    },
    {
     "name": "stderr",
     "output_type": "stream",
     "text": [
      "C:\\Users\\Kowsher\\AppData\\Local\\Temp\\ipykernel_18312\\2303645629.py:18: UserWarning: To copy construct from a tensor, it is recommended to use sourceTensor.clone().detach() or sourceTensor.clone().detach().requires_grad_(True), rather than torch.tensor(sourceTensor).\n",
      "  \"inputs_embeds\": torch.tensor(self.tokenized_inputs[idx]),\n",
      "C:\\Users\\Kowsher\\AppData\\Local\\Temp\\ipykernel_18312\\2303645629.py:19: UserWarning: To copy construct from a tensor, it is recommended to use sourceTensor.clone().detach() or sourceTensor.clone().detach().requires_grad_(True), rather than torch.tensor(sourceTensor).\n",
      "  \"labels_ids\": torch.tensor(self.labels[idx]),\n"
     ]
    },
    {
     "name": "stdout",
     "output_type": "stream",
     "text": [
      "{'loss': 0.1892, 'learning_rate': 0.0008913043478260869, 'epoch': 3.8}\n",
      "{'eval_loss': 0.13600693802943675, 'eval_r2_score': 0.5162275552061089, 'eval_mse': 0.28867107894788147, 'eval_runtime': 10.7927, 'eval_samples_per_second': 284.636, 'eval_steps_per_second': 4.447, 'epoch': 3.8}\n"
     ]
    },
    {
     "name": "stderr",
     "output_type": "stream",
     "text": [
      "C:\\Users\\Kowsher\\AppData\\Local\\Temp\\ipykernel_18312\\2303645629.py:18: UserWarning: To copy construct from a tensor, it is recommended to use sourceTensor.clone().detach() or sourceTensor.clone().detach().requires_grad_(True), rather than torch.tensor(sourceTensor).\n",
      "  \"inputs_embeds\": torch.tensor(self.tokenized_inputs[idx]),\n",
      "C:\\Users\\Kowsher\\AppData\\Local\\Temp\\ipykernel_18312\\2303645629.py:19: UserWarning: To copy construct from a tensor, it is recommended to use sourceTensor.clone().detach() or sourceTensor.clone().detach().requires_grad_(True), rather than torch.tensor(sourceTensor).\n",
      "  \"labels_ids\": torch.tensor(self.labels[idx]),\n"
     ]
    },
    {
     "name": "stdout",
     "output_type": "stream",
     "text": [
      "{'loss': 0.146, 'learning_rate': 0.0008835403726708074, 'epoch': 4.08}\n",
      "{'eval_loss': 0.12167537372874038, 'eval_r2_score': 0.5682301926398163, 'eval_mse': 0.2576406686430543, 'eval_runtime': 10.9194, 'eval_samples_per_second': 281.334, 'eval_steps_per_second': 4.396, 'epoch': 4.08}\n"
     ]
    },
    {
     "name": "stderr",
     "output_type": "stream",
     "text": [
      "C:\\Users\\Kowsher\\AppData\\Local\\Temp\\ipykernel_18312\\2303645629.py:18: UserWarning: To copy construct from a tensor, it is recommended to use sourceTensor.clone().detach() or sourceTensor.clone().detach().requires_grad_(True), rather than torch.tensor(sourceTensor).\n",
      "  \"inputs_embeds\": torch.tensor(self.tokenized_inputs[idx]),\n",
      "C:\\Users\\Kowsher\\AppData\\Local\\Temp\\ipykernel_18312\\2303645629.py:19: UserWarning: To copy construct from a tensor, it is recommended to use sourceTensor.clone().detach() or sourceTensor.clone().detach().requires_grad_(True), rather than torch.tensor(sourceTensor).\n",
      "  \"labels_ids\": torch.tensor(self.labels[idx]),\n"
     ]
    },
    {
     "name": "stdout",
     "output_type": "stream",
     "text": [
      "{'loss': 0.1973, 'learning_rate': 0.000875776397515528, 'epoch': 4.35}\n",
      "{'eval_loss': 0.11773281417993459, 'eval_r2_score': 0.5830313726073748, 'eval_mse': 0.24880868030449305, 'eval_runtime': 10.6903, 'eval_samples_per_second': 287.363, 'eval_steps_per_second': 4.49, 'epoch': 4.35}\n"
     ]
    },
    {
     "name": "stderr",
     "output_type": "stream",
     "text": [
      "C:\\Users\\Kowsher\\AppData\\Local\\Temp\\ipykernel_18312\\2303645629.py:18: UserWarning: To copy construct from a tensor, it is recommended to use sourceTensor.clone().detach() or sourceTensor.clone().detach().requires_grad_(True), rather than torch.tensor(sourceTensor).\n",
      "  \"inputs_embeds\": torch.tensor(self.tokenized_inputs[idx]),\n",
      "C:\\Users\\Kowsher\\AppData\\Local\\Temp\\ipykernel_18312\\2303645629.py:19: UserWarning: To copy construct from a tensor, it is recommended to use sourceTensor.clone().detach() or sourceTensor.clone().detach().requires_grad_(True), rather than torch.tensor(sourceTensor).\n",
      "  \"labels_ids\": torch.tensor(self.labels[idx]),\n"
     ]
    },
    {
     "name": "stdout",
     "output_type": "stream",
     "text": [
      "{'loss': 0.2187, 'learning_rate': 0.0008680124223602485, 'epoch': 4.62}\n",
      "{'eval_loss': 0.139801771794993, 'eval_r2_score': 0.5064834746096885, 'eval_mse': 0.29448545363869755, 'eval_runtime': 10.7451, 'eval_samples_per_second': 285.897, 'eval_steps_per_second': 4.467, 'epoch': 4.62}\n"
     ]
    },
    {
     "name": "stderr",
     "output_type": "stream",
     "text": [
      "C:\\Users\\Kowsher\\AppData\\Local\\Temp\\ipykernel_18312\\2303645629.py:18: UserWarning: To copy construct from a tensor, it is recommended to use sourceTensor.clone().detach() or sourceTensor.clone().detach().requires_grad_(True), rather than torch.tensor(sourceTensor).\n",
      "  \"inputs_embeds\": torch.tensor(self.tokenized_inputs[idx]),\n",
      "C:\\Users\\Kowsher\\AppData\\Local\\Temp\\ipykernel_18312\\2303645629.py:19: UserWarning: To copy construct from a tensor, it is recommended to use sourceTensor.clone().detach() or sourceTensor.clone().detach().requires_grad_(True), rather than torch.tensor(sourceTensor).\n",
      "  \"labels_ids\": torch.tensor(self.labels[idx]),\n"
     ]
    },
    {
     "name": "stdout",
     "output_type": "stream",
     "text": [
      "{'loss': 0.15, 'learning_rate': 0.000860248447204969, 'epoch': 4.89}\n",
      "{'eval_loss': 0.11073282284796597, 'eval_r2_score': 0.6095903447753641, 'eval_mse': 0.23296071865643636, 'eval_runtime': 10.6771, 'eval_samples_per_second': 287.717, 'eval_steps_per_second': 4.496, 'epoch': 4.89}\n"
     ]
    },
    {
     "name": "stderr",
     "output_type": "stream",
     "text": [
      "C:\\Users\\Kowsher\\AppData\\Local\\Temp\\ipykernel_18312\\2303645629.py:18: UserWarning: To copy construct from a tensor, it is recommended to use sourceTensor.clone().detach() or sourceTensor.clone().detach().requires_grad_(True), rather than torch.tensor(sourceTensor).\n",
      "  \"inputs_embeds\": torch.tensor(self.tokenized_inputs[idx]),\n",
      "C:\\Users\\Kowsher\\AppData\\Local\\Temp\\ipykernel_18312\\2303645629.py:19: UserWarning: To copy construct from a tensor, it is recommended to use sourceTensor.clone().detach() or sourceTensor.clone().detach().requires_grad_(True), rather than torch.tensor(sourceTensor).\n",
      "  \"labels_ids\": torch.tensor(self.labels[idx]),\n"
     ]
    },
    {
     "name": "stdout",
     "output_type": "stream",
     "text": [
      "{'loss': 0.1428, 'learning_rate': 0.0008524844720496895, 'epoch': 5.16}\n",
      "{'eval_loss': 0.11955526054527171, 'eval_r2_score': 0.5791628864143494, 'eval_mse': 0.25111703849077094, 'eval_runtime': 10.8093, 'eval_samples_per_second': 284.199, 'eval_steps_per_second': 4.441, 'epoch': 5.16}\n"
     ]
    },
    {
     "name": "stderr",
     "output_type": "stream",
     "text": [
      "C:\\Users\\Kowsher\\AppData\\Local\\Temp\\ipykernel_18312\\2303645629.py:18: UserWarning: To copy construct from a tensor, it is recommended to use sourceTensor.clone().detach() or sourceTensor.clone().detach().requires_grad_(True), rather than torch.tensor(sourceTensor).\n",
      "  \"inputs_embeds\": torch.tensor(self.tokenized_inputs[idx]),\n",
      "C:\\Users\\Kowsher\\AppData\\Local\\Temp\\ipykernel_18312\\2303645629.py:19: UserWarning: To copy construct from a tensor, it is recommended to use sourceTensor.clone().detach() or sourceTensor.clone().detach().requires_grad_(True), rather than torch.tensor(sourceTensor).\n",
      "  \"labels_ids\": torch.tensor(self.labels[idx]),\n"
     ]
    },
    {
     "name": "stdout",
     "output_type": "stream",
     "text": [
      "{'loss': 0.179, 'learning_rate': 0.00084472049689441, 'epoch': 5.43}\n",
      "{'eval_loss': 0.11571255701069583, 'eval_r2_score': 0.5917336684493918, 'eval_mse': 0.243615947322132, 'eval_runtime': 10.8481, 'eval_samples_per_second': 283.183, 'eval_steps_per_second': 4.425, 'epoch': 5.43}\n"
     ]
    },
    {
     "name": "stderr",
     "output_type": "stream",
     "text": [
      "C:\\Users\\Kowsher\\AppData\\Local\\Temp\\ipykernel_18312\\2303645629.py:18: UserWarning: To copy construct from a tensor, it is recommended to use sourceTensor.clone().detach() or sourceTensor.clone().detach().requires_grad_(True), rather than torch.tensor(sourceTensor).\n",
      "  \"inputs_embeds\": torch.tensor(self.tokenized_inputs[idx]),\n",
      "C:\\Users\\Kowsher\\AppData\\Local\\Temp\\ipykernel_18312\\2303645629.py:19: UserWarning: To copy construct from a tensor, it is recommended to use sourceTensor.clone().detach() or sourceTensor.clone().detach().requires_grad_(True), rather than torch.tensor(sourceTensor).\n",
      "  \"labels_ids\": torch.tensor(self.labels[idx]),\n"
     ]
    },
    {
     "name": "stdout",
     "output_type": "stream",
     "text": [
      "{'loss': 0.1699, 'learning_rate': 0.0008369565217391306, 'epoch': 5.71}\n",
      "{'eval_loss': 0.1240052754473298, 'eval_r2_score': 0.5632601431652355, 'eval_mse': 0.2606063388867632, 'eval_runtime': 11.1631, 'eval_samples_per_second': 275.192, 'eval_steps_per_second': 4.3, 'epoch': 5.71}\n"
     ]
    },
    {
     "name": "stderr",
     "output_type": "stream",
     "text": [
      "C:\\Users\\Kowsher\\AppData\\Local\\Temp\\ipykernel_18312\\2303645629.py:18: UserWarning: To copy construct from a tensor, it is recommended to use sourceTensor.clone().detach() or sourceTensor.clone().detach().requires_grad_(True), rather than torch.tensor(sourceTensor).\n",
      "  \"inputs_embeds\": torch.tensor(self.tokenized_inputs[idx]),\n",
      "C:\\Users\\Kowsher\\AppData\\Local\\Temp\\ipykernel_18312\\2303645629.py:19: UserWarning: To copy construct from a tensor, it is recommended to use sourceTensor.clone().detach() or sourceTensor.clone().detach().requires_grad_(True), rather than torch.tensor(sourceTensor).\n",
      "  \"labels_ids\": torch.tensor(self.labels[idx]),\n"
     ]
    },
    {
     "name": "stdout",
     "output_type": "stream",
     "text": [
      "{'loss': 0.1214, 'learning_rate': 0.0008291925465838509, 'epoch': 5.98}\n",
      "{'eval_loss': 0.11884721694020552, 'eval_r2_score': 0.5828030640174865, 'eval_mse': 0.24894491395666857, 'eval_runtime': 11.028, 'eval_samples_per_second': 278.564, 'eval_steps_per_second': 4.353, 'epoch': 5.98}\n"
     ]
    },
    {
     "name": "stderr",
     "output_type": "stream",
     "text": [
      "C:\\Users\\Kowsher\\AppData\\Local\\Temp\\ipykernel_18312\\2303645629.py:18: UserWarning: To copy construct from a tensor, it is recommended to use sourceTensor.clone().detach() or sourceTensor.clone().detach().requires_grad_(True), rather than torch.tensor(sourceTensor).\n",
      "  \"inputs_embeds\": torch.tensor(self.tokenized_inputs[idx]),\n",
      "C:\\Users\\Kowsher\\AppData\\Local\\Temp\\ipykernel_18312\\2303645629.py:19: UserWarning: To copy construct from a tensor, it is recommended to use sourceTensor.clone().detach() or sourceTensor.clone().detach().requires_grad_(True), rather than torch.tensor(sourceTensor).\n",
      "  \"labels_ids\": torch.tensor(self.labels[idx]),\n"
     ]
    },
    {
     "name": "stdout",
     "output_type": "stream",
     "text": [
      "{'loss': 0.1398, 'learning_rate': 0.0008214285714285714, 'epoch': 6.25}\n",
      "{'eval_loss': 0.1148218614000428, 'eval_r2_score': 0.595897709530556, 'eval_mse': 0.24113122905299803, 'eval_runtime': 10.9321, 'eval_samples_per_second': 281.008, 'eval_steps_per_second': 4.391, 'epoch': 6.25}\n"
     ]
    },
    {
     "name": "stderr",
     "output_type": "stream",
     "text": [
      "C:\\Users\\Kowsher\\AppData\\Local\\Temp\\ipykernel_18312\\2303645629.py:18: UserWarning: To copy construct from a tensor, it is recommended to use sourceTensor.clone().detach() or sourceTensor.clone().detach().requires_grad_(True), rather than torch.tensor(sourceTensor).\n",
      "  \"inputs_embeds\": torch.tensor(self.tokenized_inputs[idx]),\n",
      "C:\\Users\\Kowsher\\AppData\\Local\\Temp\\ipykernel_18312\\2303645629.py:19: UserWarning: To copy construct from a tensor, it is recommended to use sourceTensor.clone().detach() or sourceTensor.clone().detach().requires_grad_(True), rather than torch.tensor(sourceTensor).\n",
      "  \"labels_ids\": torch.tensor(self.labels[idx]),\n"
     ]
    },
    {
     "name": "stdout",
     "output_type": "stream",
     "text": [
      "{'loss': 0.1985, 'learning_rate': 0.0008136645962732919, 'epoch': 6.52}\n",
      "{'eval_loss': 0.10981037868440942, 'eval_r2_score': 0.6148138219628068, 'eval_mse': 0.22984382596900535, 'eval_runtime': 11.0922, 'eval_samples_per_second': 276.951, 'eval_steps_per_second': 4.327, 'epoch': 6.52}\n"
     ]
    },
    {
     "name": "stderr",
     "output_type": "stream",
     "text": [
      "C:\\Users\\Kowsher\\AppData\\Local\\Temp\\ipykernel_18312\\2303645629.py:18: UserWarning: To copy construct from a tensor, it is recommended to use sourceTensor.clone().detach() or sourceTensor.clone().detach().requires_grad_(True), rather than torch.tensor(sourceTensor).\n",
      "  \"inputs_embeds\": torch.tensor(self.tokenized_inputs[idx]),\n",
      "C:\\Users\\Kowsher\\AppData\\Local\\Temp\\ipykernel_18312\\2303645629.py:19: UserWarning: To copy construct from a tensor, it is recommended to use sourceTensor.clone().detach() or sourceTensor.clone().detach().requires_grad_(True), rather than torch.tensor(sourceTensor).\n",
      "  \"labels_ids\": torch.tensor(self.labels[idx]),\n"
     ]
    },
    {
     "name": "stdout",
     "output_type": "stream",
     "text": [
      "{'loss': 0.1454, 'learning_rate': 0.0008059006211180124, 'epoch': 6.79}\n",
      "{'eval_loss': 0.11598576702859802, 'eval_r2_score': 0.5918027380934059, 'eval_mse': 0.2435747328857277, 'eval_runtime': 10.9215, 'eval_samples_per_second': 281.281, 'eval_steps_per_second': 4.395, 'epoch': 6.79}\n"
     ]
    },
    {
     "name": "stderr",
     "output_type": "stream",
     "text": [
      "C:\\Users\\Kowsher\\AppData\\Local\\Temp\\ipykernel_18312\\2303645629.py:18: UserWarning: To copy construct from a tensor, it is recommended to use sourceTensor.clone().detach() or sourceTensor.clone().detach().requires_grad_(True), rather than torch.tensor(sourceTensor).\n",
      "  \"inputs_embeds\": torch.tensor(self.tokenized_inputs[idx]),\n",
      "C:\\Users\\Kowsher\\AppData\\Local\\Temp\\ipykernel_18312\\2303645629.py:19: UserWarning: To copy construct from a tensor, it is recommended to use sourceTensor.clone().detach() or sourceTensor.clone().detach().requires_grad_(True), rather than torch.tensor(sourceTensor).\n",
      "  \"labels_ids\": torch.tensor(self.labels[idx]),\n"
     ]
    },
    {
     "name": "stdout",
     "output_type": "stream",
     "text": [
      "{'loss': 0.1084, 'learning_rate': 0.0007981366459627329, 'epoch': 7.07}\n",
      "{'eval_loss': 0.10931719138989722, 'eval_r2_score': 0.6175227839208397, 'eval_mse': 0.2282273656276411, 'eval_runtime': 10.6778, 'eval_samples_per_second': 287.7, 'eval_steps_per_second': 4.495, 'epoch': 7.07}\n"
     ]
    },
    {
     "name": "stderr",
     "output_type": "stream",
     "text": [
      "C:\\Users\\Kowsher\\AppData\\Local\\Temp\\ipykernel_18312\\2303645629.py:18: UserWarning: To copy construct from a tensor, it is recommended to use sourceTensor.clone().detach() or sourceTensor.clone().detach().requires_grad_(True), rather than torch.tensor(sourceTensor).\n",
      "  \"inputs_embeds\": torch.tensor(self.tokenized_inputs[idx]),\n",
      "C:\\Users\\Kowsher\\AppData\\Local\\Temp\\ipykernel_18312\\2303645629.py:19: UserWarning: To copy construct from a tensor, it is recommended to use sourceTensor.clone().detach() or sourceTensor.clone().detach().requires_grad_(True), rather than torch.tensor(sourceTensor).\n",
      "  \"labels_ids\": torch.tensor(self.labels[idx]),\n"
     ]
    },
    {
     "name": "stdout",
     "output_type": "stream",
     "text": [
      "{'loss': 0.1505, 'learning_rate': 0.0007903726708074534, 'epoch': 7.34}\n",
      "{'eval_loss': 0.11559654575116374, 'eval_r2_score': 0.5966139160210688, 'eval_mse': 0.24070386262774843, 'eval_runtime': 10.7301, 'eval_samples_per_second': 286.298, 'eval_steps_per_second': 4.473, 'epoch': 7.34}\n"
     ]
    },
    {
     "name": "stderr",
     "output_type": "stream",
     "text": [
      "C:\\Users\\Kowsher\\AppData\\Local\\Temp\\ipykernel_18312\\2303645629.py:18: UserWarning: To copy construct from a tensor, it is recommended to use sourceTensor.clone().detach() or sourceTensor.clone().detach().requires_grad_(True), rather than torch.tensor(sourceTensor).\n",
      "  \"inputs_embeds\": torch.tensor(self.tokenized_inputs[idx]),\n",
      "C:\\Users\\Kowsher\\AppData\\Local\\Temp\\ipykernel_18312\\2303645629.py:19: UserWarning: To copy construct from a tensor, it is recommended to use sourceTensor.clone().detach() or sourceTensor.clone().detach().requires_grad_(True), rather than torch.tensor(sourceTensor).\n",
      "  \"labels_ids\": torch.tensor(self.labels[idx]),\n"
     ]
    },
    {
     "name": "stdout",
     "output_type": "stream",
     "text": [
      "{'loss': 0.1875, 'learning_rate': 0.000782608695652174, 'epoch': 7.61}\n",
      "{'eval_loss': 0.11495893738184619, 'eval_r2_score': 0.5976366102709323, 'eval_mse': 0.24009361238361215, 'eval_runtime': 10.6795, 'eval_samples_per_second': 287.653, 'eval_steps_per_second': 4.495, 'epoch': 7.61}\n"
     ]
    },
    {
     "name": "stderr",
     "output_type": "stream",
     "text": [
      "C:\\Users\\Kowsher\\AppData\\Local\\Temp\\ipykernel_18312\\2303645629.py:18: UserWarning: To copy construct from a tensor, it is recommended to use sourceTensor.clone().detach() or sourceTensor.clone().detach().requires_grad_(True), rather than torch.tensor(sourceTensor).\n",
      "  \"inputs_embeds\": torch.tensor(self.tokenized_inputs[idx]),\n",
      "C:\\Users\\Kowsher\\AppData\\Local\\Temp\\ipykernel_18312\\2303645629.py:19: UserWarning: To copy construct from a tensor, it is recommended to use sourceTensor.clone().detach() or sourceTensor.clone().detach().requires_grad_(True), rather than torch.tensor(sourceTensor).\n",
      "  \"labels_ids\": torch.tensor(self.labels[idx]),\n"
     ]
    },
    {
     "name": "stdout",
     "output_type": "stream",
     "text": [
      "{'loss': 0.0989, 'learning_rate': 0.0007748447204968945, 'epoch': 7.88}\n",
      "{'eval_loss': 0.10065454774324979, 'eval_r2_score': 0.6482215428203462, 'eval_mse': 0.20990915848449357, 'eval_runtime': 10.6317, 'eval_samples_per_second': 288.947, 'eval_steps_per_second': 4.515, 'epoch': 7.88}\n"
     ]
    },
    {
     "name": "stderr",
     "output_type": "stream",
     "text": [
      "C:\\Users\\Kowsher\\AppData\\Local\\Temp\\ipykernel_18312\\2303645629.py:18: UserWarning: To copy construct from a tensor, it is recommended to use sourceTensor.clone().detach() or sourceTensor.clone().detach().requires_grad_(True), rather than torch.tensor(sourceTensor).\n",
      "  \"inputs_embeds\": torch.tensor(self.tokenized_inputs[idx]),\n",
      "C:\\Users\\Kowsher\\AppData\\Local\\Temp\\ipykernel_18312\\2303645629.py:19: UserWarning: To copy construct from a tensor, it is recommended to use sourceTensor.clone().detach() or sourceTensor.clone().detach().requires_grad_(True), rather than torch.tensor(sourceTensor).\n",
      "  \"labels_ids\": torch.tensor(self.labels[idx]),\n"
     ]
    },
    {
     "name": "stdout",
     "output_type": "stream",
     "text": [
      "{'loss': 0.1343, 'learning_rate': 0.0007670807453416149, 'epoch': 8.15}\n",
      "{'eval_loss': 0.10041537851190512, 'eval_r2_score': 0.6488319439945294, 'eval_mse': 0.20954492697970498, 'eval_runtime': 10.7387, 'eval_samples_per_second': 286.068, 'eval_steps_per_second': 4.47, 'epoch': 8.15}\n"
     ]
    },
    {
     "name": "stderr",
     "output_type": "stream",
     "text": [
      "C:\\Users\\Kowsher\\AppData\\Local\\Temp\\ipykernel_18312\\2303645629.py:18: UserWarning: To copy construct from a tensor, it is recommended to use sourceTensor.clone().detach() or sourceTensor.clone().detach().requires_grad_(True), rather than torch.tensor(sourceTensor).\n",
      "  \"inputs_embeds\": torch.tensor(self.tokenized_inputs[idx]),\n",
      "C:\\Users\\Kowsher\\AppData\\Local\\Temp\\ipykernel_18312\\2303645629.py:19: UserWarning: To copy construct from a tensor, it is recommended to use sourceTensor.clone().detach() or sourceTensor.clone().detach().requires_grad_(True), rather than torch.tensor(sourceTensor).\n",
      "  \"labels_ids\": torch.tensor(self.labels[idx]),\n"
     ]
    },
    {
     "name": "stdout",
     "output_type": "stream",
     "text": [
      "{'loss': 0.1337, 'learning_rate': 0.0007593167701863354, 'epoch': 8.42}\n",
      "{'eval_loss': 0.10345206625790453, 'eval_r2_score': 0.6386622256011947, 'eval_mse': 0.2156132833170544, 'eval_runtime': 10.653, 'eval_samples_per_second': 288.37, 'eval_steps_per_second': 4.506, 'epoch': 8.42}\n"
     ]
    },
    {
     "name": "stderr",
     "output_type": "stream",
     "text": [
      "C:\\Users\\Kowsher\\AppData\\Local\\Temp\\ipykernel_18312\\2303645629.py:18: UserWarning: To copy construct from a tensor, it is recommended to use sourceTensor.clone().detach() or sourceTensor.clone().detach().requires_grad_(True), rather than torch.tensor(sourceTensor).\n",
      "  \"inputs_embeds\": torch.tensor(self.tokenized_inputs[idx]),\n",
      "C:\\Users\\Kowsher\\AppData\\Local\\Temp\\ipykernel_18312\\2303645629.py:19: UserWarning: To copy construct from a tensor, it is recommended to use sourceTensor.clone().detach() or sourceTensor.clone().detach().requires_grad_(True), rather than torch.tensor(sourceTensor).\n",
      "  \"labels_ids\": torch.tensor(self.labels[idx]),\n"
     ]
    },
    {
     "name": "stdout",
     "output_type": "stream",
     "text": [
      "{'loss': 0.142, 'learning_rate': 0.0007515527950310559, 'epoch': 8.7}\n",
      "{'eval_loss': 0.11031875386517732, 'eval_r2_score': 0.6141162921530223, 'eval_mse': 0.23026004786207854, 'eval_runtime': 10.6461, 'eval_samples_per_second': 288.556, 'eval_steps_per_second': 4.509, 'epoch': 8.7}\n"
     ]
    },
    {
     "name": "stderr",
     "output_type": "stream",
     "text": [
      "C:\\Users\\Kowsher\\AppData\\Local\\Temp\\ipykernel_18312\\2303645629.py:18: UserWarning: To copy construct from a tensor, it is recommended to use sourceTensor.clone().detach() or sourceTensor.clone().detach().requires_grad_(True), rather than torch.tensor(sourceTensor).\n",
      "  \"inputs_embeds\": torch.tensor(self.tokenized_inputs[idx]),\n",
      "C:\\Users\\Kowsher\\AppData\\Local\\Temp\\ipykernel_18312\\2303645629.py:19: UserWarning: To copy construct from a tensor, it is recommended to use sourceTensor.clone().detach() or sourceTensor.clone().detach().requires_grad_(True), rather than torch.tensor(sourceTensor).\n",
      "  \"labels_ids\": torch.tensor(self.labels[idx]),\n"
     ]
    },
    {
     "name": "stdout",
     "output_type": "stream",
     "text": [
      "{'loss': 0.0981, 'learning_rate': 0.0007437888198757764, 'epoch': 8.97}\n",
      "{'eval_loss': 0.10695597564567161, 'eval_r2_score': 0.6257142360237605, 'eval_mse': 0.2233394573927943, 'eval_runtime': 10.8274, 'eval_samples_per_second': 283.725, 'eval_steps_per_second': 4.433, 'epoch': 8.97}\n"
     ]
    },
    {
     "name": "stderr",
     "output_type": "stream",
     "text": [
      "C:\\Users\\Kowsher\\AppData\\Local\\Temp\\ipykernel_18312\\2303645629.py:18: UserWarning: To copy construct from a tensor, it is recommended to use sourceTensor.clone().detach() or sourceTensor.clone().detach().requires_grad_(True), rather than torch.tensor(sourceTensor).\n",
      "  \"inputs_embeds\": torch.tensor(self.tokenized_inputs[idx]),\n",
      "C:\\Users\\Kowsher\\AppData\\Local\\Temp\\ipykernel_18312\\2303645629.py:19: UserWarning: To copy construct from a tensor, it is recommended to use sourceTensor.clone().detach() or sourceTensor.clone().detach().requires_grad_(True), rather than torch.tensor(sourceTensor).\n",
      "  \"labels_ids\": torch.tensor(self.labels[idx]),\n"
     ]
    },
    {
     "name": "stdout",
     "output_type": "stream",
     "text": [
      "{'loss': 0.1213, 'learning_rate': 0.000736024844720497, 'epoch': 9.24}\n",
      "{'eval_loss': 0.09895200023482749, 'eval_r2_score': 0.6545585965473861, 'eval_mse': 0.20612778532770967, 'eval_runtime': 10.6118, 'eval_samples_per_second': 289.49, 'eval_steps_per_second': 4.523, 'epoch': 9.24}\n"
     ]
    },
    {
     "name": "stderr",
     "output_type": "stream",
     "text": [
      "C:\\Users\\Kowsher\\AppData\\Local\\Temp\\ipykernel_18312\\2303645629.py:18: UserWarning: To copy construct from a tensor, it is recommended to use sourceTensor.clone().detach() or sourceTensor.clone().detach().requires_grad_(True), rather than torch.tensor(sourceTensor).\n",
      "  \"inputs_embeds\": torch.tensor(self.tokenized_inputs[idx]),\n",
      "C:\\Users\\Kowsher\\AppData\\Local\\Temp\\ipykernel_18312\\2303645629.py:19: UserWarning: To copy construct from a tensor, it is recommended to use sourceTensor.clone().detach() or sourceTensor.clone().detach().requires_grad_(True), rather than torch.tensor(sourceTensor).\n",
      "  \"labels_ids\": torch.tensor(self.labels[idx]),\n"
     ]
    },
    {
     "name": "stdout",
     "output_type": "stream",
     "text": [
      "{'loss': 0.1522, 'learning_rate': 0.0007282608695652175, 'epoch': 9.51}\n",
      "{'eval_loss': 0.10662940706432911, 'eval_r2_score': 0.6264975460969227, 'eval_mse': 0.22287204969646135, 'eval_runtime': 10.6617, 'eval_samples_per_second': 288.133, 'eval_steps_per_second': 4.502, 'epoch': 9.51}\n"
     ]
    },
    {
     "name": "stderr",
     "output_type": "stream",
     "text": [
      "C:\\Users\\Kowsher\\AppData\\Local\\Temp\\ipykernel_18312\\2303645629.py:18: UserWarning: To copy construct from a tensor, it is recommended to use sourceTensor.clone().detach() or sourceTensor.clone().detach().requires_grad_(True), rather than torch.tensor(sourceTensor).\n",
      "  \"inputs_embeds\": torch.tensor(self.tokenized_inputs[idx]),\n",
      "C:\\Users\\Kowsher\\AppData\\Local\\Temp\\ipykernel_18312\\2303645629.py:19: UserWarning: To copy construct from a tensor, it is recommended to use sourceTensor.clone().detach() or sourceTensor.clone().detach().requires_grad_(True), rather than torch.tensor(sourceTensor).\n",
      "  \"labels_ids\": torch.tensor(self.labels[idx]),\n"
     ]
    },
    {
     "name": "stdout",
     "output_type": "stream",
     "text": [
      "{'loss': 0.1253, 'learning_rate': 0.000720496894409938, 'epoch': 9.78}\n",
      "{'eval_loss': 0.10275958952122421, 'eval_r2_score': 0.6398056366506986, 'eval_mse': 0.2149310003451877, 'eval_runtime': 10.6703, 'eval_samples_per_second': 287.902, 'eval_steps_per_second': 4.498, 'epoch': 9.78}\n"
     ]
    },
    {
     "name": "stderr",
     "output_type": "stream",
     "text": [
      "C:\\Users\\Kowsher\\AppData\\Local\\Temp\\ipykernel_18312\\2303645629.py:18: UserWarning: To copy construct from a tensor, it is recommended to use sourceTensor.clone().detach() or sourceTensor.clone().detach().requires_grad_(True), rather than torch.tensor(sourceTensor).\n",
      "  \"inputs_embeds\": torch.tensor(self.tokenized_inputs[idx]),\n",
      "C:\\Users\\Kowsher\\AppData\\Local\\Temp\\ipykernel_18312\\2303645629.py:19: UserWarning: To copy construct from a tensor, it is recommended to use sourceTensor.clone().detach() or sourceTensor.clone().detach().requires_grad_(True), rather than torch.tensor(sourceTensor).\n",
      "  \"labels_ids\": torch.tensor(self.labels[idx]),\n"
     ]
    },
    {
     "name": "stdout",
     "output_type": "stream",
     "text": [
      "{'loss': 0.0963, 'learning_rate': 0.0007127329192546584, 'epoch': 10.05}\n",
      "{'eval_loss': 0.11029827305862434, 'eval_r2_score': 0.6137351470757777, 'eval_mse': 0.23048748032928065, 'eval_runtime': 10.6572, 'eval_samples_per_second': 288.255, 'eval_steps_per_second': 4.504, 'epoch': 10.05}\n"
     ]
    },
    {
     "name": "stderr",
     "output_type": "stream",
     "text": [
      "C:\\Users\\Kowsher\\AppData\\Local\\Temp\\ipykernel_18312\\2303645629.py:18: UserWarning: To copy construct from a tensor, it is recommended to use sourceTensor.clone().detach() or sourceTensor.clone().detach().requires_grad_(True), rather than torch.tensor(sourceTensor).\n",
      "  \"inputs_embeds\": torch.tensor(self.tokenized_inputs[idx]),\n",
      "C:\\Users\\Kowsher\\AppData\\Local\\Temp\\ipykernel_18312\\2303645629.py:19: UserWarning: To copy construct from a tensor, it is recommended to use sourceTensor.clone().detach() or sourceTensor.clone().detach().requires_grad_(True), rather than torch.tensor(sourceTensor).\n",
      "  \"labels_ids\": torch.tensor(self.labels[idx]),\n"
     ]
    },
    {
     "name": "stdout",
     "output_type": "stream",
     "text": [
      "{'loss': 0.1288, 'learning_rate': 0.0007049689440993789, 'epoch': 10.33}\n",
      "{'eval_loss': 0.12313698876427848, 'eval_r2_score': 0.5711965490941484, 'eval_mse': 0.2558706188449909, 'eval_runtime': 10.78, 'eval_samples_per_second': 284.971, 'eval_steps_per_second': 4.453, 'epoch': 10.33}\n"
     ]
    },
    {
     "name": "stderr",
     "output_type": "stream",
     "text": [
      "C:\\Users\\Kowsher\\AppData\\Local\\Temp\\ipykernel_18312\\2303645629.py:18: UserWarning: To copy construct from a tensor, it is recommended to use sourceTensor.clone().detach() or sourceTensor.clone().detach().requires_grad_(True), rather than torch.tensor(sourceTensor).\n",
      "  \"inputs_embeds\": torch.tensor(self.tokenized_inputs[idx]),\n",
      "C:\\Users\\Kowsher\\AppData\\Local\\Temp\\ipykernel_18312\\2303645629.py:19: UserWarning: To copy construct from a tensor, it is recommended to use sourceTensor.clone().detach() or sourceTensor.clone().detach().requires_grad_(True), rather than torch.tensor(sourceTensor).\n",
      "  \"labels_ids\": torch.tensor(self.labels[idx]),\n"
     ]
    },
    {
     "name": "stdout",
     "output_type": "stream",
     "text": [
      "{'loss': 0.1612, 'learning_rate': 0.0006972049689440993, 'epoch': 10.6}\n",
      "{'eval_loss': 0.11094672973010626, 'eval_r2_score': 0.6128603935128771, 'eval_mse': 0.23100945312358398, 'eval_runtime': 10.776, 'eval_samples_per_second': 285.078, 'eval_steps_per_second': 4.454, 'epoch': 10.6}\n"
     ]
    },
    {
     "name": "stderr",
     "output_type": "stream",
     "text": [
      "C:\\Users\\Kowsher\\AppData\\Local\\Temp\\ipykernel_18312\\2303645629.py:18: UserWarning: To copy construct from a tensor, it is recommended to use sourceTensor.clone().detach() or sourceTensor.clone().detach().requires_grad_(True), rather than torch.tensor(sourceTensor).\n",
      "  \"inputs_embeds\": torch.tensor(self.tokenized_inputs[idx]),\n",
      "C:\\Users\\Kowsher\\AppData\\Local\\Temp\\ipykernel_18312\\2303645629.py:19: UserWarning: To copy construct from a tensor, it is recommended to use sourceTensor.clone().detach() or sourceTensor.clone().detach().requires_grad_(True), rather than torch.tensor(sourceTensor).\n",
      "  \"labels_ids\": torch.tensor(self.labels[idx]),\n"
     ]
    },
    {
     "name": "stdout",
     "output_type": "stream",
     "text": [
      "{'loss': 0.0866, 'learning_rate': 0.0006894409937888198, 'epoch': 10.87}\n",
      "{'eval_loss': 0.09966687495719924, 'eval_r2_score': 0.6528273900030868, 'eval_mse': 0.20716081080570575, 'eval_runtime': 10.6619, 'eval_samples_per_second': 288.129, 'eval_steps_per_second': 4.502, 'epoch': 10.87}\n"
     ]
    },
    {
     "name": "stderr",
     "output_type": "stream",
     "text": [
      "C:\\Users\\Kowsher\\AppData\\Local\\Temp\\ipykernel_18312\\2303645629.py:18: UserWarning: To copy construct from a tensor, it is recommended to use sourceTensor.clone().detach() or sourceTensor.clone().detach().requires_grad_(True), rather than torch.tensor(sourceTensor).\n",
      "  \"inputs_embeds\": torch.tensor(self.tokenized_inputs[idx]),\n",
      "C:\\Users\\Kowsher\\AppData\\Local\\Temp\\ipykernel_18312\\2303645629.py:19: UserWarning: To copy construct from a tensor, it is recommended to use sourceTensor.clone().detach() or sourceTensor.clone().detach().requires_grad_(True), rather than torch.tensor(sourceTensor).\n",
      "  \"labels_ids\": torch.tensor(self.labels[idx]),\n"
     ]
    },
    {
     "name": "stdout",
     "output_type": "stream",
     "text": [
      "{'loss': 0.1204, 'learning_rate': 0.0006816770186335403, 'epoch': 11.14}\n",
      "{'eval_loss': 0.09969023977404172, 'eval_r2_score': 0.6521318303926359, 'eval_mse': 0.20757585706429738, 'eval_runtime': 10.6966, 'eval_samples_per_second': 287.193, 'eval_steps_per_second': 4.487, 'epoch': 11.14}\n"
     ]
    },
    {
     "name": "stderr",
     "output_type": "stream",
     "text": [
      "C:\\Users\\Kowsher\\AppData\\Local\\Temp\\ipykernel_18312\\2303645629.py:18: UserWarning: To copy construct from a tensor, it is recommended to use sourceTensor.clone().detach() or sourceTensor.clone().detach().requires_grad_(True), rather than torch.tensor(sourceTensor).\n",
      "  \"inputs_embeds\": torch.tensor(self.tokenized_inputs[idx]),\n",
      "C:\\Users\\Kowsher\\AppData\\Local\\Temp\\ipykernel_18312\\2303645629.py:19: UserWarning: To copy construct from a tensor, it is recommended to use sourceTensor.clone().detach() or sourceTensor.clone().detach().requires_grad_(True), rather than torch.tensor(sourceTensor).\n",
      "  \"labels_ids\": torch.tensor(self.labels[idx]),\n"
     ]
    },
    {
     "name": "stdout",
     "output_type": "stream",
     "text": [
      "{'loss': 0.1117, 'learning_rate': 0.0006739130434782609, 'epoch': 11.41}\n",
      "{'eval_loss': 0.10223069123445776, 'eval_r2_score': 0.6441976262466553, 'eval_mse': 0.21231026328371067, 'eval_runtime': 10.6764, 'eval_samples_per_second': 287.737, 'eval_steps_per_second': 4.496, 'epoch': 11.41}\n"
     ]
    },
    {
     "name": "stderr",
     "output_type": "stream",
     "text": [
      "C:\\Users\\Kowsher\\AppData\\Local\\Temp\\ipykernel_18312\\2303645629.py:18: UserWarning: To copy construct from a tensor, it is recommended to use sourceTensor.clone().detach() or sourceTensor.clone().detach().requires_grad_(True), rather than torch.tensor(sourceTensor).\n",
      "  \"inputs_embeds\": torch.tensor(self.tokenized_inputs[idx]),\n",
      "C:\\Users\\Kowsher\\AppData\\Local\\Temp\\ipykernel_18312\\2303645629.py:19: UserWarning: To copy construct from a tensor, it is recommended to use sourceTensor.clone().detach() or sourceTensor.clone().detach().requires_grad_(True), rather than torch.tensor(sourceTensor).\n",
      "  \"labels_ids\": torch.tensor(self.labels[idx]),\n"
     ]
    },
    {
     "name": "stdout",
     "output_type": "stream",
     "text": [
      "{'loss': 0.1407, 'learning_rate': 0.0006661490683229814, 'epoch': 11.68}\n",
      "{'eval_loss': 0.11161759839257912, 'eval_r2_score': 0.6094407289457031, 'eval_mse': 0.23304999567797965, 'eval_runtime': 10.6977, 'eval_samples_per_second': 287.164, 'eval_steps_per_second': 4.487, 'epoch': 11.68}\n"
     ]
    },
    {
     "name": "stderr",
     "output_type": "stream",
     "text": [
      "C:\\Users\\Kowsher\\AppData\\Local\\Temp\\ipykernel_18312\\2303645629.py:18: UserWarning: To copy construct from a tensor, it is recommended to use sourceTensor.clone().detach() or sourceTensor.clone().detach().requires_grad_(True), rather than torch.tensor(sourceTensor).\n",
      "  \"inputs_embeds\": torch.tensor(self.tokenized_inputs[idx]),\n",
      "C:\\Users\\Kowsher\\AppData\\Local\\Temp\\ipykernel_18312\\2303645629.py:19: UserWarning: To copy construct from a tensor, it is recommended to use sourceTensor.clone().detach() or sourceTensor.clone().detach().requires_grad_(True), rather than torch.tensor(sourceTensor).\n",
      "  \"labels_ids\": torch.tensor(self.labels[idx]),\n"
     ]
    },
    {
     "name": "stdout",
     "output_type": "stream",
     "text": [
      "{'loss': 0.0907, 'learning_rate': 0.0006583850931677019, 'epoch': 11.96}\n",
      "{'eval_loss': 0.10378523757859703, 'eval_r2_score': 0.6384771956669735, 'eval_mse': 0.2157236922320807, 'eval_runtime': 10.6289, 'eval_samples_per_second': 289.023, 'eval_steps_per_second': 4.516, 'epoch': 11.96}\n"
     ]
    },
    {
     "name": "stderr",
     "output_type": "stream",
     "text": [
      "C:\\Users\\Kowsher\\AppData\\Local\\Temp\\ipykernel_18312\\2303645629.py:18: UserWarning: To copy construct from a tensor, it is recommended to use sourceTensor.clone().detach() or sourceTensor.clone().detach().requires_grad_(True), rather than torch.tensor(sourceTensor).\n",
      "  \"inputs_embeds\": torch.tensor(self.tokenized_inputs[idx]),\n",
      "C:\\Users\\Kowsher\\AppData\\Local\\Temp\\ipykernel_18312\\2303645629.py:19: UserWarning: To copy construct from a tensor, it is recommended to use sourceTensor.clone().detach() or sourceTensor.clone().detach().requires_grad_(True), rather than torch.tensor(sourceTensor).\n",
      "  \"labels_ids\": torch.tensor(self.labels[idx]),\n"
     ]
    },
    {
     "name": "stdout",
     "output_type": "stream",
     "text": [
      "{'loss': 0.1143, 'learning_rate': 0.0006506211180124224, 'epoch': 12.23}\n",
      "{'eval_loss': 0.09808156662222356, 'eval_r2_score': 0.6589842485059042, 'eval_mse': 0.20348696165190586, 'eval_runtime': 10.6537, 'eval_samples_per_second': 288.35, 'eval_steps_per_second': 4.505, 'epoch': 12.23}\n"
     ]
    },
    {
     "name": "stderr",
     "output_type": "stream",
     "text": [
      "C:\\Users\\Kowsher\\AppData\\Local\\Temp\\ipykernel_18312\\2303645629.py:18: UserWarning: To copy construct from a tensor, it is recommended to use sourceTensor.clone().detach() or sourceTensor.clone().detach().requires_grad_(True), rather than torch.tensor(sourceTensor).\n",
      "  \"inputs_embeds\": torch.tensor(self.tokenized_inputs[idx]),\n",
      "C:\\Users\\Kowsher\\AppData\\Local\\Temp\\ipykernel_18312\\2303645629.py:19: UserWarning: To copy construct from a tensor, it is recommended to use sourceTensor.clone().detach() or sourceTensor.clone().detach().requires_grad_(True), rather than torch.tensor(sourceTensor).\n",
      "  \"labels_ids\": torch.tensor(self.labels[idx]),\n"
     ]
    },
    {
     "name": "stdout",
     "output_type": "stream",
     "text": [
      "{'loss': 0.1358, 'learning_rate': 0.0006428571428571429, 'epoch': 12.5}\n",
      "{'eval_loss': 0.09913809048914524, 'eval_r2_score': 0.6543361474794411, 'eval_mse': 0.2062605225539525, 'eval_runtime': 10.8943, 'eval_samples_per_second': 281.981, 'eval_steps_per_second': 4.406, 'epoch': 12.5}\n"
     ]
    },
    {
     "name": "stderr",
     "output_type": "stream",
     "text": [
      "C:\\Users\\Kowsher\\AppData\\Local\\Temp\\ipykernel_18312\\2303645629.py:18: UserWarning: To copy construct from a tensor, it is recommended to use sourceTensor.clone().detach() or sourceTensor.clone().detach().requires_grad_(True), rather than torch.tensor(sourceTensor).\n",
      "  \"inputs_embeds\": torch.tensor(self.tokenized_inputs[idx]),\n",
      "C:\\Users\\Kowsher\\AppData\\Local\\Temp\\ipykernel_18312\\2303645629.py:19: UserWarning: To copy construct from a tensor, it is recommended to use sourceTensor.clone().detach() or sourceTensor.clone().detach().requires_grad_(True), rather than torch.tensor(sourceTensor).\n",
      "  \"labels_ids\": torch.tensor(self.labels[idx]),\n"
     ]
    },
    {
     "name": "stdout",
     "output_type": "stream",
     "text": [
      "{'loss': 0.1245, 'learning_rate': 0.0006350931677018633, 'epoch': 12.77}\n",
      "{'eval_loss': 0.1004225793686916, 'eval_r2_score': 0.6493963006534347, 'eval_mse': 0.20920817062371402, 'eval_runtime': 10.7304, 'eval_samples_per_second': 286.289, 'eval_steps_per_second': 4.473, 'epoch': 12.77}\n"
     ]
    },
    {
     "name": "stderr",
     "output_type": "stream",
     "text": [
      "C:\\Users\\Kowsher\\AppData\\Local\\Temp\\ipykernel_18312\\2303645629.py:18: UserWarning: To copy construct from a tensor, it is recommended to use sourceTensor.clone().detach() or sourceTensor.clone().detach().requires_grad_(True), rather than torch.tensor(sourceTensor).\n",
      "  \"inputs_embeds\": torch.tensor(self.tokenized_inputs[idx]),\n",
      "C:\\Users\\Kowsher\\AppData\\Local\\Temp\\ipykernel_18312\\2303645629.py:19: UserWarning: To copy construct from a tensor, it is recommended to use sourceTensor.clone().detach() or sourceTensor.clone().detach().requires_grad_(True), rather than torch.tensor(sourceTensor).\n",
      "  \"labels_ids\": torch.tensor(self.labels[idx]),\n"
     ]
    },
    {
     "name": "stdout",
     "output_type": "stream",
     "text": [
      "{'loss': 0.0885, 'learning_rate': 0.0006273291925465839, 'epoch': 13.04}\n",
      "{'eval_loss': 0.10640136120587823, 'eval_r2_score': 0.6282070779254614, 'eval_mse': 0.2218519577033131, 'eval_runtime': 10.6674, 'eval_samples_per_second': 287.979, 'eval_steps_per_second': 4.5, 'epoch': 13.04}\n"
     ]
    },
    {
     "name": "stderr",
     "output_type": "stream",
     "text": [
      "C:\\Users\\Kowsher\\AppData\\Local\\Temp\\ipykernel_18312\\2303645629.py:18: UserWarning: To copy construct from a tensor, it is recommended to use sourceTensor.clone().detach() or sourceTensor.clone().detach().requires_grad_(True), rather than torch.tensor(sourceTensor).\n",
      "  \"inputs_embeds\": torch.tensor(self.tokenized_inputs[idx]),\n",
      "C:\\Users\\Kowsher\\AppData\\Local\\Temp\\ipykernel_18312\\2303645629.py:19: UserWarning: To copy construct from a tensor, it is recommended to use sourceTensor.clone().detach() or sourceTensor.clone().detach().requires_grad_(True), rather than torch.tensor(sourceTensor).\n",
      "  \"labels_ids\": torch.tensor(self.labels[idx]),\n"
     ]
    },
    {
     "name": "stdout",
     "output_type": "stream",
     "text": [
      "{'loss': 0.1245, 'learning_rate': 0.0006195652173913044, 'epoch': 13.32}\n",
      "{'eval_loss': 0.10618578064908242, 'eval_r2_score': 0.6320835921053882, 'eval_mse': 0.21953880914985835, 'eval_runtime': 10.6308, 'eval_samples_per_second': 288.973, 'eval_steps_per_second': 4.515, 'epoch': 13.32}\n"
     ]
    },
    {
     "name": "stderr",
     "output_type": "stream",
     "text": [
      "C:\\Users\\Kowsher\\AppData\\Local\\Temp\\ipykernel_18312\\2303645629.py:18: UserWarning: To copy construct from a tensor, it is recommended to use sourceTensor.clone().detach() or sourceTensor.clone().detach().requires_grad_(True), rather than torch.tensor(sourceTensor).\n",
      "  \"inputs_embeds\": torch.tensor(self.tokenized_inputs[idx]),\n",
      "C:\\Users\\Kowsher\\AppData\\Local\\Temp\\ipykernel_18312\\2303645629.py:19: UserWarning: To copy construct from a tensor, it is recommended to use sourceTensor.clone().detach() or sourceTensor.clone().detach().requires_grad_(True), rather than torch.tensor(sourceTensor).\n",
      "  \"labels_ids\": torch.tensor(self.labels[idx]),\n"
     ]
    },
    {
     "name": "stdout",
     "output_type": "stream",
     "text": [
      "{'loss': 0.1483, 'learning_rate': 0.0006118012422360249, 'epoch': 13.59}\n",
      "{'eval_loss': 0.10789040636020919, 'eval_r2_score': 0.6250359364534706, 'eval_mse': 0.22374420444052845, 'eval_runtime': 10.7367, 'eval_samples_per_second': 286.122, 'eval_steps_per_second': 4.471, 'epoch': 13.59}\n"
     ]
    },
    {
     "name": "stderr",
     "output_type": "stream",
     "text": [
      "C:\\Users\\Kowsher\\AppData\\Local\\Temp\\ipykernel_18312\\2303645629.py:18: UserWarning: To copy construct from a tensor, it is recommended to use sourceTensor.clone().detach() or sourceTensor.clone().detach().requires_grad_(True), rather than torch.tensor(sourceTensor).\n",
      "  \"inputs_embeds\": torch.tensor(self.tokenized_inputs[idx]),\n",
      "C:\\Users\\Kowsher\\AppData\\Local\\Temp\\ipykernel_18312\\2303645629.py:19: UserWarning: To copy construct from a tensor, it is recommended to use sourceTensor.clone().detach() or sourceTensor.clone().detach().requires_grad_(True), rather than torch.tensor(sourceTensor).\n",
      "  \"labels_ids\": torch.tensor(self.labels[idx]),\n"
     ]
    },
    {
     "name": "stdout",
     "output_type": "stream",
     "text": [
      "{'loss': 0.0898, 'learning_rate': 0.0006040372670807454, 'epoch': 13.86}\n",
      "{'eval_loss': 0.09885996055724659, 'eval_r2_score': 0.657000565481169, 'eval_mse': 0.20467064196524995, 'eval_runtime': 10.6914, 'eval_samples_per_second': 287.334, 'eval_steps_per_second': 4.49, 'epoch': 13.86}\n"
     ]
    },
    {
     "name": "stderr",
     "output_type": "stream",
     "text": [
      "C:\\Users\\Kowsher\\AppData\\Local\\Temp\\ipykernel_18312\\2303645629.py:18: UserWarning: To copy construct from a tensor, it is recommended to use sourceTensor.clone().detach() or sourceTensor.clone().detach().requires_grad_(True), rather than torch.tensor(sourceTensor).\n",
      "  \"inputs_embeds\": torch.tensor(self.tokenized_inputs[idx]),\n",
      "C:\\Users\\Kowsher\\AppData\\Local\\Temp\\ipykernel_18312\\2303645629.py:19: UserWarning: To copy construct from a tensor, it is recommended to use sourceTensor.clone().detach() or sourceTensor.clone().detach().requires_grad_(True), rather than torch.tensor(sourceTensor).\n",
      "  \"labels_ids\": torch.tensor(self.labels[idx]),\n"
     ]
    },
    {
     "name": "stdout",
     "output_type": "stream",
     "text": [
      "{'loss': 0.0953, 'learning_rate': 0.0005962732919254658, 'epoch': 14.13}\n",
      "{'eval_loss': 0.09872776921558675, 'eval_r2_score': 0.6568395838366738, 'eval_mse': 0.20476670106391778, 'eval_runtime': 10.6205, 'eval_samples_per_second': 289.251, 'eval_steps_per_second': 4.52, 'epoch': 14.13}\n"
     ]
    },
    {
     "name": "stderr",
     "output_type": "stream",
     "text": [
      "C:\\Users\\Kowsher\\AppData\\Local\\Temp\\ipykernel_18312\\2303645629.py:18: UserWarning: To copy construct from a tensor, it is recommended to use sourceTensor.clone().detach() or sourceTensor.clone().detach().requires_grad_(True), rather than torch.tensor(sourceTensor).\n",
      "  \"inputs_embeds\": torch.tensor(self.tokenized_inputs[idx]),\n",
      "C:\\Users\\Kowsher\\AppData\\Local\\Temp\\ipykernel_18312\\2303645629.py:19: UserWarning: To copy construct from a tensor, it is recommended to use sourceTensor.clone().detach() or sourceTensor.clone().detach().requires_grad_(True), rather than torch.tensor(sourceTensor).\n",
      "  \"labels_ids\": torch.tensor(self.labels[idx]),\n"
     ]
    },
    {
     "name": "stdout",
     "output_type": "stream",
     "text": [
      "{'loss': 0.1243, 'learning_rate': 0.0005885093167701863, 'epoch': 14.4}\n",
      "{'eval_loss': 0.0984909979765531, 'eval_r2_score': 0.6575560076884093, 'eval_mse': 0.20433920493740199, 'eval_runtime': 10.6833, 'eval_samples_per_second': 287.55, 'eval_steps_per_second': 4.493, 'epoch': 14.4}\n"
     ]
    },
    {
     "name": "stderr",
     "output_type": "stream",
     "text": [
      "C:\\Users\\Kowsher\\AppData\\Local\\Temp\\ipykernel_18312\\2303645629.py:18: UserWarning: To copy construct from a tensor, it is recommended to use sourceTensor.clone().detach() or sourceTensor.clone().detach().requires_grad_(True), rather than torch.tensor(sourceTensor).\n",
      "  \"inputs_embeds\": torch.tensor(self.tokenized_inputs[idx]),\n",
      "C:\\Users\\Kowsher\\AppData\\Local\\Temp\\ipykernel_18312\\2303645629.py:19: UserWarning: To copy construct from a tensor, it is recommended to use sourceTensor.clone().detach() or sourceTensor.clone().detach().requires_grad_(True), rather than torch.tensor(sourceTensor).\n",
      "  \"labels_ids\": torch.tensor(self.labels[idx]),\n"
     ]
    },
    {
     "name": "stdout",
     "output_type": "stream",
     "text": [
      "{'loss': 0.1382, 'learning_rate': 0.0005807453416149069, 'epoch': 14.67}\n",
      "{'eval_loss': 0.11489806755372907, 'eval_r2_score': 0.5976245744499422, 'eval_mse': 0.24010079425903444, 'eval_runtime': 10.618, 'eval_samples_per_second': 289.321, 'eval_steps_per_second': 4.521, 'epoch': 14.67}\n"
     ]
    },
    {
     "name": "stderr",
     "output_type": "stream",
     "text": [
      "C:\\Users\\Kowsher\\AppData\\Local\\Temp\\ipykernel_18312\\2303645629.py:18: UserWarning: To copy construct from a tensor, it is recommended to use sourceTensor.clone().detach() or sourceTensor.clone().detach().requires_grad_(True), rather than torch.tensor(sourceTensor).\n",
      "  \"inputs_embeds\": torch.tensor(self.tokenized_inputs[idx]),\n",
      "C:\\Users\\Kowsher\\AppData\\Local\\Temp\\ipykernel_18312\\2303645629.py:19: UserWarning: To copy construct from a tensor, it is recommended to use sourceTensor.clone().detach() or sourceTensor.clone().detach().requires_grad_(True), rather than torch.tensor(sourceTensor).\n",
      "  \"labels_ids\": torch.tensor(self.labels[idx]),\n"
     ]
    },
    {
     "name": "stdout",
     "output_type": "stream",
     "text": [
      "{'loss': 0.0881, 'learning_rate': 0.0005729813664596274, 'epoch': 14.95}\n",
      "{'eval_loss': 0.10115228056704402, 'eval_r2_score': 0.648720591768285, 'eval_mse': 0.20961137178787698, 'eval_runtime': 10.6737, 'eval_samples_per_second': 287.811, 'eval_steps_per_second': 4.497, 'epoch': 14.95}\n"
     ]
    },
    {
     "name": "stderr",
     "output_type": "stream",
     "text": [
      "C:\\Users\\Kowsher\\AppData\\Local\\Temp\\ipykernel_18312\\2303645629.py:18: UserWarning: To copy construct from a tensor, it is recommended to use sourceTensor.clone().detach() or sourceTensor.clone().detach().requires_grad_(True), rather than torch.tensor(sourceTensor).\n",
      "  \"inputs_embeds\": torch.tensor(self.tokenized_inputs[idx]),\n",
      "C:\\Users\\Kowsher\\AppData\\Local\\Temp\\ipykernel_18312\\2303645629.py:19: UserWarning: To copy construct from a tensor, it is recommended to use sourceTensor.clone().detach() or sourceTensor.clone().detach().requires_grad_(True), rather than torch.tensor(sourceTensor).\n",
      "  \"labels_ids\": torch.tensor(self.labels[idx]),\n"
     ]
    },
    {
     "name": "stdout",
     "output_type": "stream",
     "text": [
      "{'loss': 0.1117, 'learning_rate': 0.0005652173913043478, 'epoch': 15.22}\n",
      "{'eval_loss': 0.09821043728076863, 'eval_r2_score': 0.6583785542563507, 'eval_mse': 0.2038483844952545, 'eval_runtime': 10.6695, 'eval_samples_per_second': 287.923, 'eval_steps_per_second': 4.499, 'epoch': 15.22}\n"
     ]
    },
    {
     "name": "stderr",
     "output_type": "stream",
     "text": [
      "C:\\Users\\Kowsher\\AppData\\Local\\Temp\\ipykernel_18312\\2303645629.py:18: UserWarning: To copy construct from a tensor, it is recommended to use sourceTensor.clone().detach() or sourceTensor.clone().detach().requires_grad_(True), rather than torch.tensor(sourceTensor).\n",
      "  \"inputs_embeds\": torch.tensor(self.tokenized_inputs[idx]),\n",
      "C:\\Users\\Kowsher\\AppData\\Local\\Temp\\ipykernel_18312\\2303645629.py:19: UserWarning: To copy construct from a tensor, it is recommended to use sourceTensor.clone().detach() or sourceTensor.clone().detach().requires_grad_(True), rather than torch.tensor(sourceTensor).\n",
      "  \"labels_ids\": torch.tensor(self.labels[idx]),\n"
     ]
    },
    {
     "name": "stdout",
     "output_type": "stream",
     "text": [
      "{'loss': 0.129, 'learning_rate': 0.0005574534161490683, 'epoch': 15.49}\n",
      "{'eval_loss': 0.0973339192111375, 'eval_r2_score': 0.6619436065100655, 'eval_mse': 0.20172108788780957, 'eval_runtime': 10.678, 'eval_samples_per_second': 287.693, 'eval_steps_per_second': 4.495, 'epoch': 15.49}\n"
     ]
    },
    {
     "name": "stderr",
     "output_type": "stream",
     "text": [
      "C:\\Users\\Kowsher\\AppData\\Local\\Temp\\ipykernel_18312\\2303645629.py:18: UserWarning: To copy construct from a tensor, it is recommended to use sourceTensor.clone().detach() or sourceTensor.clone().detach().requires_grad_(True), rather than torch.tensor(sourceTensor).\n",
      "  \"inputs_embeds\": torch.tensor(self.tokenized_inputs[idx]),\n",
      "C:\\Users\\Kowsher\\AppData\\Local\\Temp\\ipykernel_18312\\2303645629.py:19: UserWarning: To copy construct from a tensor, it is recommended to use sourceTensor.clone().detach() or sourceTensor.clone().detach().requires_grad_(True), rather than torch.tensor(sourceTensor).\n",
      "  \"labels_ids\": torch.tensor(self.labels[idx]),\n"
     ]
    },
    {
     "name": "stdout",
     "output_type": "stream",
     "text": [
      "{'loss': 0.1226, 'learning_rate': 0.0005496894409937888, 'epoch': 15.76}\n",
      "{'eval_loss': 0.09866064071920459, 'eval_r2_score': 0.6565537406203708, 'eval_mse': 0.20493726611066268, 'eval_runtime': 10.7178, 'eval_samples_per_second': 286.625, 'eval_steps_per_second': 4.479, 'epoch': 15.76}\n"
     ]
    },
    {
     "name": "stderr",
     "output_type": "stream",
     "text": [
      "C:\\Users\\Kowsher\\AppData\\Local\\Temp\\ipykernel_18312\\2303645629.py:18: UserWarning: To copy construct from a tensor, it is recommended to use sourceTensor.clone().detach() or sourceTensor.clone().detach().requires_grad_(True), rather than torch.tensor(sourceTensor).\n",
      "  \"inputs_embeds\": torch.tensor(self.tokenized_inputs[idx]),\n",
      "C:\\Users\\Kowsher\\AppData\\Local\\Temp\\ipykernel_18312\\2303645629.py:19: UserWarning: To copy construct from a tensor, it is recommended to use sourceTensor.clone().detach() or sourceTensor.clone().detach().requires_grad_(True), rather than torch.tensor(sourceTensor).\n",
      "  \"labels_ids\": torch.tensor(self.labels[idx]),\n"
     ]
    },
    {
     "name": "stdout",
     "output_type": "stream",
     "text": [
      "{'loss': 0.0849, 'learning_rate': 0.0005419254658385093, 'epoch': 16.03}\n",
      "{'eval_loss': 0.10402481174993365, 'eval_r2_score': 0.6370334535527777, 'eval_mse': 0.2165851852714475, 'eval_runtime': 10.6631, 'eval_samples_per_second': 288.097, 'eval_steps_per_second': 4.502, 'epoch': 16.03}\n"
     ]
    },
    {
     "name": "stderr",
     "output_type": "stream",
     "text": [
      "C:\\Users\\Kowsher\\AppData\\Local\\Temp\\ipykernel_18312\\2303645629.py:18: UserWarning: To copy construct from a tensor, it is recommended to use sourceTensor.clone().detach() or sourceTensor.clone().detach().requires_grad_(True), rather than torch.tensor(sourceTensor).\n",
      "  \"inputs_embeds\": torch.tensor(self.tokenized_inputs[idx]),\n",
      "C:\\Users\\Kowsher\\AppData\\Local\\Temp\\ipykernel_18312\\2303645629.py:19: UserWarning: To copy construct from a tensor, it is recommended to use sourceTensor.clone().detach() or sourceTensor.clone().detach().requires_grad_(True), rather than torch.tensor(sourceTensor).\n",
      "  \"labels_ids\": torch.tensor(self.labels[idx]),\n"
     ]
    },
    {
     "name": "stdout",
     "output_type": "stream",
     "text": [
      "{'loss': 0.1066, 'learning_rate': 0.0005341614906832298, 'epoch': 16.3}\n",
      "{'eval_loss': 0.09857413873866012, 'eval_r2_score': 0.658544045047965, 'eval_mse': 0.20374963475064758, 'eval_runtime': 10.7978, 'eval_samples_per_second': 284.502, 'eval_steps_per_second': 4.445, 'epoch': 16.3}\n"
     ]
    },
    {
     "name": "stderr",
     "output_type": "stream",
     "text": [
      "C:\\Users\\Kowsher\\AppData\\Local\\Temp\\ipykernel_18312\\2303645629.py:18: UserWarning: To copy construct from a tensor, it is recommended to use sourceTensor.clone().detach() or sourceTensor.clone().detach().requires_grad_(True), rather than torch.tensor(sourceTensor).\n",
      "  \"inputs_embeds\": torch.tensor(self.tokenized_inputs[idx]),\n",
      "C:\\Users\\Kowsher\\AppData\\Local\\Temp\\ipykernel_18312\\2303645629.py:19: UserWarning: To copy construct from a tensor, it is recommended to use sourceTensor.clone().detach() or sourceTensor.clone().detach().requires_grad_(True), rather than torch.tensor(sourceTensor).\n",
      "  \"labels_ids\": torch.tensor(self.labels[idx]),\n"
     ]
    },
    {
     "name": "stdout",
     "output_type": "stream",
     "text": [
      "{'loss': 0.1542, 'learning_rate': 0.0005263975155279504, 'epoch': 16.58}\n",
      "{'eval_loss': 0.10497259201270927, 'eval_r2_score': 0.6360125028989903, 'eval_mse': 0.21719439509716817, 'eval_runtime': 10.8464, 'eval_samples_per_second': 283.228, 'eval_steps_per_second': 4.425, 'epoch': 16.58}\n"
     ]
    },
    {
     "name": "stderr",
     "output_type": "stream",
     "text": [
      "C:\\Users\\Kowsher\\AppData\\Local\\Temp\\ipykernel_18312\\2303645629.py:18: UserWarning: To copy construct from a tensor, it is recommended to use sourceTensor.clone().detach() or sourceTensor.clone().detach().requires_grad_(True), rather than torch.tensor(sourceTensor).\n",
      "  \"inputs_embeds\": torch.tensor(self.tokenized_inputs[idx]),\n",
      "C:\\Users\\Kowsher\\AppData\\Local\\Temp\\ipykernel_18312\\2303645629.py:19: UserWarning: To copy construct from a tensor, it is recommended to use sourceTensor.clone().detach() or sourceTensor.clone().detach().requires_grad_(True), rather than torch.tensor(sourceTensor).\n",
      "  \"labels_ids\": torch.tensor(self.labels[idx]),\n"
     ]
    },
    {
     "name": "stdout",
     "output_type": "stream",
     "text": [
      "{'loss': 0.0883, 'learning_rate': 0.0005186335403726709, 'epoch': 16.85}\n",
      "{'eval_loss': 0.10135535804048597, 'eval_r2_score': 0.6491714207267054, 'eval_mse': 0.2093423583637998, 'eval_runtime': 10.8057, 'eval_samples_per_second': 284.293, 'eval_steps_per_second': 4.442, 'epoch': 16.85}\n"
     ]
    },
    {
     "name": "stderr",
     "output_type": "stream",
     "text": [
      "C:\\Users\\Kowsher\\AppData\\Local\\Temp\\ipykernel_18312\\2303645629.py:18: UserWarning: To copy construct from a tensor, it is recommended to use sourceTensor.clone().detach() or sourceTensor.clone().detach().requires_grad_(True), rather than torch.tensor(sourceTensor).\n",
      "  \"inputs_embeds\": torch.tensor(self.tokenized_inputs[idx]),\n",
      "C:\\Users\\Kowsher\\AppData\\Local\\Temp\\ipykernel_18312\\2303645629.py:19: UserWarning: To copy construct from a tensor, it is recommended to use sourceTensor.clone().detach() or sourceTensor.clone().detach().requires_grad_(True), rather than torch.tensor(sourceTensor).\n",
      "  \"labels_ids\": torch.tensor(self.labels[idx]),\n"
     ]
    },
    {
     "name": "stdout",
     "output_type": "stream",
     "text": [
      "{'loss': 0.0903, 'learning_rate': 0.0005108695652173914, 'epoch': 17.12}\n",
      "{'eval_loss': 0.09886908549371413, 'eval_r2_score': 0.6570007511817124, 'eval_mse': 0.2046705311561769, 'eval_runtime': 10.7418, 'eval_samples_per_second': 285.986, 'eval_steps_per_second': 4.469, 'epoch': 17.12}\n"
     ]
    },
    {
     "name": "stderr",
     "output_type": "stream",
     "text": [
      "C:\\Users\\Kowsher\\AppData\\Local\\Temp\\ipykernel_18312\\2303645629.py:18: UserWarning: To copy construct from a tensor, it is recommended to use sourceTensor.clone().detach() or sourceTensor.clone().detach().requires_grad_(True), rather than torch.tensor(sourceTensor).\n",
      "  \"inputs_embeds\": torch.tensor(self.tokenized_inputs[idx]),\n",
      "C:\\Users\\Kowsher\\AppData\\Local\\Temp\\ipykernel_18312\\2303645629.py:19: UserWarning: To copy construct from a tensor, it is recommended to use sourceTensor.clone().detach() or sourceTensor.clone().detach().requires_grad_(True), rather than torch.tensor(sourceTensor).\n",
      "  \"labels_ids\": torch.tensor(self.labels[idx]),\n"
     ]
    },
    {
     "name": "stdout",
     "output_type": "stream",
     "text": [
      "{'loss': 0.1266, 'learning_rate': 0.0005031055900621118, 'epoch': 17.39}\n",
      "{'eval_loss': 0.09712481001347438, 'eval_r2_score': 0.6629364727659739, 'eval_mse': 0.20112863625806415, 'eval_runtime': 10.9275, 'eval_samples_per_second': 281.126, 'eval_steps_per_second': 4.393, 'epoch': 17.39}\n"
     ]
    },
    {
     "name": "stderr",
     "output_type": "stream",
     "text": [
      "C:\\Users\\Kowsher\\AppData\\Local\\Temp\\ipykernel_18312\\2303645629.py:18: UserWarning: To copy construct from a tensor, it is recommended to use sourceTensor.clone().detach() or sourceTensor.clone().detach().requires_grad_(True), rather than torch.tensor(sourceTensor).\n",
      "  \"inputs_embeds\": torch.tensor(self.tokenized_inputs[idx]),\n",
      "C:\\Users\\Kowsher\\AppData\\Local\\Temp\\ipykernel_18312\\2303645629.py:19: UserWarning: To copy construct from a tensor, it is recommended to use sourceTensor.clone().detach() or sourceTensor.clone().detach().requires_grad_(True), rather than torch.tensor(sourceTensor).\n",
      "  \"labels_ids\": torch.tensor(self.labels[idx]),\n"
     ]
    },
    {
     "name": "stdout",
     "output_type": "stream",
     "text": [
      "{'loss': 0.1368, 'learning_rate': 0.0004953416149068323, 'epoch': 17.66}\n",
      "{'eval_loss': 0.11120806534188919, 'eval_r2_score': 0.6111419713852366, 'eval_mse': 0.23203485003283797, 'eval_runtime': 10.8139, 'eval_samples_per_second': 284.079, 'eval_steps_per_second': 4.439, 'epoch': 17.66}\n"
     ]
    },
    {
     "name": "stderr",
     "output_type": "stream",
     "text": [
      "C:\\Users\\Kowsher\\AppData\\Local\\Temp\\ipykernel_18312\\2303645629.py:18: UserWarning: To copy construct from a tensor, it is recommended to use sourceTensor.clone().detach() or sourceTensor.clone().detach().requires_grad_(True), rather than torch.tensor(sourceTensor).\n",
      "  \"inputs_embeds\": torch.tensor(self.tokenized_inputs[idx]),\n",
      "C:\\Users\\Kowsher\\AppData\\Local\\Temp\\ipykernel_18312\\2303645629.py:19: UserWarning: To copy construct from a tensor, it is recommended to use sourceTensor.clone().detach() or sourceTensor.clone().detach().requires_grad_(True), rather than torch.tensor(sourceTensor).\n",
      "  \"labels_ids\": torch.tensor(self.labels[idx]),\n"
     ]
    },
    {
     "ename": "KeyboardInterrupt",
     "evalue": "",
     "output_type": "error",
     "traceback": [
      "\u001b[1;31m---------------------------------------------------------------------------\u001b[0m",
      "\u001b[1;31mKeyboardInterrupt\u001b[0m                         Traceback (most recent call last)",
      "Cell \u001b[1;32mIn[9], line 71\u001b[0m\n\u001b[0;32m     40\u001b[0m training_args \u001b[38;5;241m=\u001b[39m TrainingArguments(\n\u001b[0;32m     41\u001b[0m     output_dir\u001b[38;5;241m=\u001b[39m\u001b[38;5;124m'\u001b[39m\u001b[38;5;124m./results_task1\u001b[39m\u001b[38;5;124m'\u001b[39m,\n\u001b[0;32m     42\u001b[0m     num_train_epochs\u001b[38;5;241m=\u001b[39m\u001b[38;5;241m35\u001b[39m,\n\u001b[1;32m   (...)\u001b[0m\n\u001b[0;32m     59\u001b[0m     load_best_model_at_end\u001b[38;5;241m=\u001b[39m\u001b[38;5;28;01mTrue\u001b[39;00m,\n\u001b[0;32m     60\u001b[0m )\n\u001b[0;32m     62\u001b[0m trainer \u001b[38;5;241m=\u001b[39m CustomTrainer(\n\u001b[0;32m     63\u001b[0m     model\u001b[38;5;241m=\u001b[39mmodel,\n\u001b[0;32m     64\u001b[0m     args\u001b[38;5;241m=\u001b[39mtraining_args,\n\u001b[1;32m   (...)\u001b[0m\n\u001b[0;32m     68\u001b[0m     callbacks \u001b[38;5;241m=\u001b[39m [EarlyStoppingCallback(early_stopping_patience\u001b[38;5;241m=\u001b[39m\u001b[38;5;241m20\u001b[39m)]\n\u001b[0;32m     69\u001b[0m )\n\u001b[1;32m---> 71\u001b[0m trainer\u001b[38;5;241m.\u001b[39mtrain()\n",
      "File \u001b[1;32m~\\anaconda3\\Lib\\site-packages\\transformers\\trainer.py:1555\u001b[0m, in \u001b[0;36mTrainer.train\u001b[1;34m(self, resume_from_checkpoint, trial, ignore_keys_for_eval, **kwargs)\u001b[0m\n\u001b[0;32m   1553\u001b[0m         hf_hub_utils\u001b[38;5;241m.\u001b[39menable_progress_bars()\n\u001b[0;32m   1554\u001b[0m \u001b[38;5;28;01melse\u001b[39;00m:\n\u001b[1;32m-> 1555\u001b[0m     \u001b[38;5;28;01mreturn\u001b[39;00m inner_training_loop(\n\u001b[0;32m   1556\u001b[0m         args\u001b[38;5;241m=\u001b[39margs,\n\u001b[0;32m   1557\u001b[0m         resume_from_checkpoint\u001b[38;5;241m=\u001b[39mresume_from_checkpoint,\n\u001b[0;32m   1558\u001b[0m         trial\u001b[38;5;241m=\u001b[39mtrial,\n\u001b[0;32m   1559\u001b[0m         ignore_keys_for_eval\u001b[38;5;241m=\u001b[39mignore_keys_for_eval,\n\u001b[0;32m   1560\u001b[0m     )\n",
      "File \u001b[1;32m~\\anaconda3\\Lib\\site-packages\\transformers\\trainer.py:1837\u001b[0m, in \u001b[0;36mTrainer._inner_training_loop\u001b[1;34m(self, batch_size, args, resume_from_checkpoint, trial, ignore_keys_for_eval)\u001b[0m\n\u001b[0;32m   1834\u001b[0m     \u001b[38;5;28mself\u001b[39m\u001b[38;5;241m.\u001b[39mcontrol \u001b[38;5;241m=\u001b[39m \u001b[38;5;28mself\u001b[39m\u001b[38;5;241m.\u001b[39mcallback_handler\u001b[38;5;241m.\u001b[39mon_step_begin(args, \u001b[38;5;28mself\u001b[39m\u001b[38;5;241m.\u001b[39mstate, \u001b[38;5;28mself\u001b[39m\u001b[38;5;241m.\u001b[39mcontrol)\n\u001b[0;32m   1836\u001b[0m \u001b[38;5;28;01mwith\u001b[39;00m \u001b[38;5;28mself\u001b[39m\u001b[38;5;241m.\u001b[39maccelerator\u001b[38;5;241m.\u001b[39maccumulate(model):\n\u001b[1;32m-> 1837\u001b[0m     tr_loss_step \u001b[38;5;241m=\u001b[39m \u001b[38;5;28mself\u001b[39m\u001b[38;5;241m.\u001b[39mtraining_step(model, inputs)\n\u001b[0;32m   1839\u001b[0m \u001b[38;5;28;01mif\u001b[39;00m (\n\u001b[0;32m   1840\u001b[0m     args\u001b[38;5;241m.\u001b[39mlogging_nan_inf_filter\n\u001b[0;32m   1841\u001b[0m     \u001b[38;5;129;01mand\u001b[39;00m \u001b[38;5;129;01mnot\u001b[39;00m is_torch_tpu_available()\n\u001b[0;32m   1842\u001b[0m     \u001b[38;5;129;01mand\u001b[39;00m (torch\u001b[38;5;241m.\u001b[39misnan(tr_loss_step) \u001b[38;5;129;01mor\u001b[39;00m torch\u001b[38;5;241m.\u001b[39misinf(tr_loss_step))\n\u001b[0;32m   1843\u001b[0m ):\n\u001b[0;32m   1844\u001b[0m     \u001b[38;5;66;03m# if loss is nan or inf simply add the average of previous logged losses\u001b[39;00m\n\u001b[0;32m   1845\u001b[0m     tr_loss \u001b[38;5;241m+\u001b[39m\u001b[38;5;241m=\u001b[39m tr_loss \u001b[38;5;241m/\u001b[39m (\u001b[38;5;241m1\u001b[39m \u001b[38;5;241m+\u001b[39m \u001b[38;5;28mself\u001b[39m\u001b[38;5;241m.\u001b[39mstate\u001b[38;5;241m.\u001b[39mglobal_step \u001b[38;5;241m-\u001b[39m \u001b[38;5;28mself\u001b[39m\u001b[38;5;241m.\u001b[39m_globalstep_last_logged)\n",
      "Cell \u001b[1;32mIn[8], line 19\u001b[0m, in \u001b[0;36mCustomTrainer.training_step\u001b[1;34m(self, model, inputs)\u001b[0m\n\u001b[0;32m     16\u001b[0m     loss \u001b[38;5;241m=\u001b[39m loss\u001b[38;5;241m.\u001b[39mmean()  \u001b[38;5;66;03m# mean() to average on multi-gpu parallel training\u001b[39;00m\n\u001b[0;32m     18\u001b[0m loss \u001b[38;5;241m=\u001b[39m loss \u001b[38;5;241m/\u001b[39m \u001b[38;5;28mself\u001b[39m\u001b[38;5;241m.\u001b[39mgradient_accumulation_steps\n\u001b[1;32m---> 19\u001b[0m \u001b[38;5;28mself\u001b[39m\u001b[38;5;241m.\u001b[39mscaler\u001b[38;5;241m.\u001b[39mscale(loss)\u001b[38;5;241m.\u001b[39mbackward()\n\u001b[0;32m     21\u001b[0m \u001b[38;5;28;01mreturn\u001b[39;00m loss\u001b[38;5;241m.\u001b[39mdetach()\n",
      "File \u001b[1;32m~\\anaconda3\\Lib\\site-packages\\torch\\_tensor.py:487\u001b[0m, in \u001b[0;36mTensor.backward\u001b[1;34m(self, gradient, retain_graph, create_graph, inputs)\u001b[0m\n\u001b[0;32m    477\u001b[0m \u001b[38;5;28;01mif\u001b[39;00m has_torch_function_unary(\u001b[38;5;28mself\u001b[39m):\n\u001b[0;32m    478\u001b[0m     \u001b[38;5;28;01mreturn\u001b[39;00m handle_torch_function(\n\u001b[0;32m    479\u001b[0m         Tensor\u001b[38;5;241m.\u001b[39mbackward,\n\u001b[0;32m    480\u001b[0m         (\u001b[38;5;28mself\u001b[39m,),\n\u001b[1;32m   (...)\u001b[0m\n\u001b[0;32m    485\u001b[0m         inputs\u001b[38;5;241m=\u001b[39minputs,\n\u001b[0;32m    486\u001b[0m     )\n\u001b[1;32m--> 487\u001b[0m torch\u001b[38;5;241m.\u001b[39mautograd\u001b[38;5;241m.\u001b[39mbackward(\n\u001b[0;32m    488\u001b[0m     \u001b[38;5;28mself\u001b[39m, gradient, retain_graph, create_graph, inputs\u001b[38;5;241m=\u001b[39minputs\n\u001b[0;32m    489\u001b[0m )\n",
      "File \u001b[1;32m~\\anaconda3\\Lib\\site-packages\\torch\\autograd\\__init__.py:200\u001b[0m, in \u001b[0;36mbackward\u001b[1;34m(tensors, grad_tensors, retain_graph, create_graph, grad_variables, inputs)\u001b[0m\n\u001b[0;32m    195\u001b[0m     retain_graph \u001b[38;5;241m=\u001b[39m create_graph\n\u001b[0;32m    197\u001b[0m \u001b[38;5;66;03m# The reason we repeat same the comment below is that\u001b[39;00m\n\u001b[0;32m    198\u001b[0m \u001b[38;5;66;03m# some Python versions print out the first line of a multi-line function\u001b[39;00m\n\u001b[0;32m    199\u001b[0m \u001b[38;5;66;03m# calls in the traceback and some print out the last line\u001b[39;00m\n\u001b[1;32m--> 200\u001b[0m Variable\u001b[38;5;241m.\u001b[39m_execution_engine\u001b[38;5;241m.\u001b[39mrun_backward(  \u001b[38;5;66;03m# Calls into the C++ engine to run the backward pass\u001b[39;00m\n\u001b[0;32m    201\u001b[0m     tensors, grad_tensors_, retain_graph, create_graph, inputs,\n\u001b[0;32m    202\u001b[0m     allow_unreachable\u001b[38;5;241m=\u001b[39m\u001b[38;5;28;01mTrue\u001b[39;00m, accumulate_grad\u001b[38;5;241m=\u001b[39m\u001b[38;5;28;01mTrue\u001b[39;00m)\n",
      "\u001b[1;31mKeyboardInterrupt\u001b[0m: "
     ]
    }
   ],
   "source": [
    "from transformers import BertForSequenceClassification, Trainer, TrainingArguments\n",
    "from sklearn.metrics import mean_squared_error\n",
    "from transformers import Trainer, TrainingArguments\n",
    "from transformers import EarlyStoppingCallback, IntervalStrategy\n",
    "from sklearn.metrics import r2_score, accuracy_score\n",
    "import numpy as np\n",
    "\n",
    "def compute_metrics1(p):\n",
    "\n",
    "    preds = p.predictions.flatten()\n",
    "    labels = p.label_ids.flatten()\n",
    "\n",
    "    r2 = r2_score(labels, preds)\n",
    "    mse = mean_squared_error(labels, preds)\n",
    "    \n",
    "    return {\"r2_score\": r2, \"mse\": mse}\n",
    "\n",
    "def compute_metrics_classification(p):\n",
    "    preds = np.argmax(p.predictions , axis=1)\n",
    "    labels = p.label_ids\n",
    "\n",
    "    accuracy = accuracy_score(labels, preds)\n",
    "    return {\"accuracy_score\": accuracy}\n",
    "\n",
    "def compute_metrics(p):\n",
    "\n",
    "\n",
    "    prediction_scores, labels_ids = p\n",
    "    #print('here')\n",
    "    #print(prediction_scores)\n",
    "\n",
    "    mask = labels_ids != 100\n",
    "    #print(mask)\n",
    "    masked_predictions = prediction_scores[mask]\n",
    "    masked_labels = labels_ids[mask]\n",
    "\n",
    "    mse = mean_squared_error(masked_predictions, masked_labels)\n",
    "    return {\"mse\": mse}\n",
    "\n",
    "training_args = TrainingArguments(\n",
    "    output_dir='./results_task1',\n",
    "    num_train_epochs=35,\n",
    "    label_names=[\"labels_ids\"],\n",
    "    disable_tqdm = True,\n",
    "    #label_names=[\"labels_mask\"],\n",
    "    do_eval=True,\n",
    "    learning_rate=0.001,\n",
    "    per_device_train_batch_size=batch,\n",
    "    per_device_eval_batch_size=batch,\n",
    "    logging_dir='./logs',\n",
    "    logging_strategy=\"steps\",\n",
    "    logging_steps=50,\n",
    "    evaluation_strategy=\"steps\",\n",
    "    eval_steps = 50,\n",
    "    save_strategy=\"steps\",\n",
    "    save_steps=50,\n",
    "\n",
    "    save_total_limit=2,\n",
    "    load_best_model_at_end=True,\n",
    ")\n",
    "\n",
    "trainer = CustomTrainer(\n",
    "    model=model,\n",
    "    args=training_args,\n",
    "    train_dataset=train_dataset,\n",
    "    eval_dataset=val_dataset,\n",
    "    compute_metrics=compute_metrics1, #compute_metrics1,#compute_metrics_classification,\n",
    "    callbacks = [EarlyStoppingCallback(early_stopping_patience=20)]\n",
    ")\n",
    "\n",
    "trainer.train()"
   ]
  },
  {
   "cell_type": "code",
   "execution_count": 10,
   "id": "cac7d37e",
   "metadata": {},
   "outputs": [],
   "source": [
    "model = reservoirtransformers.ReservoirTTimeSeries.from_pretrained(\"results_task1/checkpoint-3200\", config=configuration).to(\"cuda\", dtype=float)\n"
   ]
  },
  {
   "cell_type": "code",
   "execution_count": 11,
   "id": "827f3400",
   "metadata": {},
   "outputs": [],
   "source": [
    "cnt = 0\n",
    "ln = len(X_test)\n",
    "y_pred = []\n",
    "y_test1 = []\n",
    "while cnt < ln:\n",
    "    #print(cnt, ln)\n",
    "    input_ids = torch.stack(X_test[cnt:cnt+batch], dim=0)\n",
    "    #y_test1 = y_test1 + [k.detach().numpy().flatten() for k in y_test[cnt:cnt+64]]\n",
    "    \n",
    "    output = model(inputs_embeds = input_ids.to(model.device))['logits']\n",
    "    y_pred = y_pred + list(output.cpu().detach().numpy().reshape(output.size(0), -1))\n",
    "    #y_test = y_test + labels_ids\n",
    "    \n",
    "    cnt=cnt+batch\n"
   ]
  },
  {
   "cell_type": "code",
   "execution_count": 12,
   "id": "1fae404b",
   "metadata": {},
   "outputs": [
    {
     "data": {
      "text/plain": [
       "0.2289963260303043"
      ]
     },
     "execution_count": 12,
     "metadata": {},
     "output_type": "execute_result"
    }
   ],
   "source": [
    "from sklearn.metrics import mean_squared_error, mean_absolute_error\n",
    "y_test1 = [i.detach().numpy().flatten() for i in y_test]\n",
    "\n",
    "mse = mean_squared_error(y_test1, y_pred)\n",
    "mse"
   ]
  },
  {
   "cell_type": "code",
   "execution_count": null,
   "id": "3f7960a4",
   "metadata": {},
   "outputs": [],
   "source": []
  }
 ],
 "metadata": {
  "kernelspec": {
   "display_name": "Python 3 (ipykernel)",
   "language": "python",
   "name": "python3"
  },
  "language_info": {
   "codemirror_mode": {
    "name": "ipython",
    "version": 3
   },
   "file_extension": ".py",
   "mimetype": "text/x-python",
   "name": "python",
   "nbconvert_exporter": "python",
   "pygments_lexer": "ipython3",
   "version": "3.11.4"
  }
 },
 "nbformat": 4,
 "nbformat_minor": 5
}
