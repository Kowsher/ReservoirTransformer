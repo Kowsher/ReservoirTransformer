{
 "cells": [
  {
   "cell_type": "code",
   "execution_count": 1,
   "id": "3eeaaae3",
   "metadata": {},
   "outputs": [],
   "source": [
    "import reservoirtransformers\n",
    "import math\n",
    "import os\n",
    "import warnings\n",
    "from dataclasses import dataclass\n",
    "from typing import List, Optional, Tuple, Union\n",
    "\n",
    "import torch\n",
    "import torch.utils.checkpoint\n",
    "from torch import nn\n",
    "from torch.nn import BCEWithLogitsLoss, CrossEntropyLoss, MSELoss\n",
    "import torch.nn.functional as F"
   ]
  },
  {
   "cell_type": "code",
   "execution_count": 2,
   "id": "7eb58cec",
   "metadata": {},
   "outputs": [],
   "source": [
    "from configuration import ReservoirTConfig\n",
    "\n",
    "configuration = ReservoirTConfig()\n",
    "\n",
    "configuration.output_size=1\n",
    "configuration.re_output_size=4\n",
    "configuration.max_sequence_length=3399\n",
    "configuration.sequence_length=334\n",
    "configuration.pred_len=720\n",
    "configuration.hidden_size=8\n",
    "configuration.num_attention_heads=2\n",
    "#configuration.hidden_dropout_prob=0.0\n",
    "configuration.num_hidden_layers=4\n",
    "configuration.num_reservoirs = 10\n",
    "configuration.intermediate_size=64\n",
    "configuration.reservoir_size = [30, 15, 20, 25, 30, 35, 40, 45, 50, 50]\n",
    "configuration.spectral_radius = [0.6, 0.8, 0.55, 0.6, 0.5, 0.4, 0.3, 0.2, 0.81, 0.05]\n",
    "configuration.sparsity = [0.6, 0.55, 0.5, 0.45, 0.4, 0.35, 0.3, 0.25, 0.2, 0.15]\n",
    "configuration.leaky = [0.3, 0.31, 0.32, 0.33, 0.34, 0.35, 0.36, 0.37, 0.38, 0.39]\n",
    "#configuration.attention_probs_dropout_prob=0.0\n",
    "#bert_model = TabularBertForRegression(config=configuration).to(\"cpu\", dtype=float)\n",
    "model = reservoirtransformers.ReservoirTTimeSeries(config=configuration).to(\"cpu\", dtype=float)"
   ]
  },
  {
   "cell_type": "code",
   "execution_count": 3,
   "id": "0f6bf41e",
   "metadata": {},
   "outputs": [
    {
     "data": {
      "text/plain": [
       "\"\\nzero_col = np.zeros((X.shape[0], 1))\\n\\n# Concatenate the original array with the zero column along the second axis (columns)\\nX = np.hstack((X, zero_col))\\n#X =  dataset.drop(['ate'], axis = 1).values\\n\\n#X_train, X_test, y_train, y_test =train_test_split(X.values, y, test_size=0.2, shuffle=False)\\n\""
      ]
     },
     "execution_count": 3,
     "metadata": {},
     "output_type": "execute_result"
    }
   ],
   "source": [
    "import numpy as np\n",
    "# prepare data for lstm\n",
    "from sklearn.preprocessing import StandardScaler\n",
    "from pandas import read_csv\n",
    "from pandas import DataFrame\n",
    "import random\n",
    "from sklearn.model_selection import train_test_split\n",
    "from pandas import concat\n",
    "from sklearn.preprocessing import LabelEncoder\n",
    "from sklearn.preprocessing import MinMaxScaler\n",
    "dataset= read_csv('exchange_rate.csv')\n",
    "dataset=dataset.dropna()\n",
    "dataset = dataset.drop(['date'], axis = 1)\n",
    "dataset = dataset.dropna()\n",
    "#data = dataset.values[0:14000]\n",
    "\n",
    "\n",
    "y = dataset.OT.values\n",
    "\n",
    "\n",
    "X = dataset.values\n",
    "\n",
    "scaler = StandardScaler()\n",
    "X = scaler.fit_transform(X)\n",
    "\n",
    "\n",
    "\n",
    "#X=X[1:]\n",
    "\n",
    "#Reservoir_id = np.array([[0] * len(X[0])] + X[:-1].tolist())\n",
    "# Create a zero column of shape (100, 1)\n",
    "'''\n",
    "zero_col = np.zeros((X.shape[0], 1))\n",
    "\n",
    "# Concatenate the original array with the zero column along the second axis (columns)\n",
    "X = np.hstack((X, zero_col))\n",
    "#X =  dataset.drop(['ate'], axis = 1).values\n",
    "\n",
    "#X_train, X_test, y_train, y_test =train_test_split(X.values, y, test_size=0.2, shuffle=False)\n",
    "'''"
   ]
  },
  {
   "cell_type": "code",
   "execution_count": null,
   "id": "e2eec561",
   "metadata": {},
   "outputs": [],
   "source": [
    "X.shape"
   ]
  },
  {
   "cell_type": "code",
   "execution_count": null,
   "id": "cabf2dca",
   "metadata": {},
   "outputs": [],
   "source": [
    "X[0:3, -1:]"
   ]
  },
  {
   "cell_type": "code",
   "execution_count": 4,
   "id": "6d0706c5",
   "metadata": {},
   "outputs": [
    {
     "data": {
      "application/vnd.jupyter.widget-view+json": {
       "model_id": "d6b8239ae25e436592858ee5338fcc1b",
       "version_major": 2,
       "version_minor": 0
      },
      "text/plain": [
       "  0%|          | 0/6535 [00:00<?, ?it/s]"
      ]
     },
     "metadata": {},
     "output_type": "display_data"
    },
    {
     "name": "stderr",
     "output_type": "stream",
     "text": [
      "C:\\Users\\Kowsher\\AppData\\Local\\Temp\\ipykernel_13080\\1627301032.py:9: UserWarning: Creating a tensor from a list of numpy.ndarrays is extremely slow. Please consider converting the list to a single numpy.ndarray with numpy.array() before converting to a tensor. (Triggered internally at ..\\torch\\csrc\\utils\\tensor_new.cpp:248.)\n",
      "  return torch.tensor(sequences), torch.tensor(targets)\n"
     ]
    }
   ],
   "source": [
    "from tqdm.auto import tqdm\n",
    "# 1. Preprocess the data into the required format\n",
    "def create_sequences(data, seq_length, pred_length):\n",
    "    sequences = []\n",
    "    targets = []\n",
    "    for i in tqdm(range(len(data) - seq_length - pred_length + 1)):\n",
    "        sequences.append(data[i:i+seq_length])\n",
    "        targets.append(data[i+seq_length:i+seq_length+pred_length, -1:])\n",
    "    return torch.tensor(sequences), torch.tensor(targets)\n",
    "\n",
    "X, y = create_sequences(X, seq_length=configuration.sequence_length, pred_length=configuration.pred_len)\n",
    "# Zeros tensor of shape [16941, 384, 1]\n",
    "\n",
    "zeros = torch.zeros((X.size(0), X.size(1), 4), dtype=X.dtype)\n",
    "\n",
    "# Concatenate along the last dimension\n",
    "#X = torch.cat((X, zeros), dim=-1)"
   ]
  },
  {
   "cell_type": "code",
   "execution_count": null,
   "id": "ec0b5b95",
   "metadata": {},
   "outputs": [],
   "source": [
    "X.shape, y.shape"
   ]
  },
  {
   "cell_type": "code",
   "execution_count": null,
   "id": "1f79f355",
   "metadata": {},
   "outputs": [],
   "source": [
    "y"
   ]
  },
  {
   "cell_type": "code",
   "execution_count": 5,
   "id": "7955f82a",
   "metadata": {},
   "outputs": [],
   "source": [
    "\n",
    "batch=64\n",
    "indices = np.arange(len(X)) \n",
    "barrier = int(len(indices)/batch)*batch\n",
    "indices = indices[0:barrier]\n",
    "soft_border = int((configuration.sequence_length/batch))+8\n",
    "\n",
    "indices = [indices[i:i+batch] for i in range(0, len(indices), batch)]\n",
    "\n",
    "border1 = int(len(indices)*0.7)\n",
    "border2 = border1+int(len(indices)*0.1)\n",
    "border3 = border2+int(len(indices)*0.2)\n",
    "\n",
    "train_ind = indices[0:border1]\n",
    "val_ind = indices[border1-soft_border: border2]\n",
    "test_ind = indices[border2-soft_border: border3]\n",
    "\n",
    "random.shuffle(train_ind)\n",
    "random.shuffle(val_ind)\n",
    "#random.shuffle(test_ind)\n",
    "\n",
    "\n",
    "X_train = [X[item] for sublist in train_ind for item in sublist]\n",
    "y_train = [y[item] for sublist in train_ind for item in sublist]\n",
    "\n",
    "X_val = [X[item] for sublist in val_ind for item in sublist]\n",
    "y_val = [y[item] for sublist in val_ind for item in sublist]\n",
    "\n",
    "X_test = [X[item] for sublist in test_ind for item in sublist]\n",
    "y_test = [y[item] for sublist in test_ind for item in sublist]\n",
    "\n",
    "#train_indices, test_indices =train_test_split(indices,  test_size=0.2, shuffle=False)\n",
    "#indices = [item for sublist in indices for item in sublist]"
   ]
  },
  {
   "cell_type": "code",
   "execution_count": 6,
   "id": "26d5bda1",
   "metadata": {},
   "outputs": [],
   "source": [
    "import torch\n",
    "from torch.utils.data import Dataset, DataLoader\n",
    "\n",
    "class CustomDataset(Dataset):\n",
    "    def __init__(self, tokenized_inputs,  labels=None, pos=None):\n",
    "        self.tokenized_inputs = tokenized_inputs\n",
    "        self.labels = labels\n",
    "        self.pos = pos\n",
    "        self.id_list = None\n",
    "        self.re = None\n",
    "\n",
    "    def __len__(self):\n",
    "        return len(self.tokenized_inputs)\n",
    "\n",
    "    def __getitem__(self, idx):\n",
    "        if self.labels is not None:\n",
    "            return {\n",
    "                \"inputs_embeds\": torch.tensor(self.tokenized_inputs[idx]),\n",
    "                \"labels_ids\": torch.tensor(self.labels[idx]),\n",
    "                #\"id\": torch.tensor(self.id_list[idx]),  # Include the id directly\n",
    "                #\"reservoir_ids\": torch.tensor(self.re[idx]),\n",
    "            }\n",
    "        else:\n",
    "            return {\n",
    "                \"inputs_embeds\": torch.tensor(self.tokenized_inputs[idx]),\n",
    "            }\n",
    "\n",
    "# Assuming you have X_train, y_train, X_test, y_test, trainpos, and testpos defined\n",
    "\n",
    "\n",
    "train_dataset = CustomDataset(X_train, y_train)\n",
    "\n",
    "test_dataset = CustomDataset(X_test, y_test)\n",
    "\n",
    "val_dataset = CustomDataset(X_val, y_val)"
   ]
  },
  {
   "cell_type": "code",
   "execution_count": 7,
   "id": "13806390",
   "metadata": {},
   "outputs": [],
   "source": [
    "from transformers import Trainer, TrainingArguments\n",
    "from torch.utils.data import DataLoader\n",
    "from torch.cuda.amp import GradScaler\n",
    "class CustomTrainer(Trainer):\n",
    "    def __init__(self, *args, gradient_accumulation_steps=1, **kwargs):\n",
    "        super().__init__(*args, **kwargs)\n",
    "        self.gradient_accumulation_steps = gradient_accumulation_steps\n",
    "        self.scaler = GradScaler()\n",
    "\n",
    "    def training_step(self, model, inputs):\n",
    "        model.train()\n",
    "        inputs = self._prepare_inputs(inputs)\n",
    "        loss = self.compute_loss(model, inputs)\n",
    "\n",
    "        if self.args.n_gpu > 1:\n",
    "            loss = loss.mean()  # mean() to average on multi-gpu parallel training\n",
    "\n",
    "        loss = loss / self.gradient_accumulation_steps\n",
    "        self.scaler.scale(loss).backward()\n",
    "\n",
    "        return loss.detach()\n",
    "\n",
    "\n",
    "    def get_train_dataloader(self) -> DataLoader:\n",
    "        \"\"\"\n",
    "        Returns the training [`~torch.utils.data.DataLoader`].\n",
    "        Will use no sampler if `train_dataset` does not implement `__len__`, a random sampler (adapted to distributed\n",
    "        training if necessary) otherwise.\n",
    "        Subclass and override this method if you want to inject some custom behavior.\n",
    "        \"\"\"\n",
    "        if self.train_dataset is None:\n",
    "            raise ValueError(\"Trainer: training requires a train_dataset.\")\n",
    "\n",
    "        train_dataset = self.train_dataset\n",
    "\n",
    "\n",
    "        loader =  DataLoader(\n",
    "            train_dataset,\n",
    "            batch_size=self._train_batch_size,\n",
    "            drop_last=self.args.dataloader_drop_last,\n",
    "            shuffle = False,\n",
    "        )\n",
    "        return loader\n",
    "\n",
    "#bert_model = TabularBertForSequenceClassification(config=configuration).to(\"cpu\", dtype=float)\n"
   ]
  },
  {
   "cell_type": "code",
   "execution_count": 8,
   "id": "cb4d10de",
   "metadata": {
    "scrolled": true
   },
   "outputs": [
    {
     "name": "stderr",
     "output_type": "stream",
     "text": [
      "C:\\Users\\Kowsher\\AppData\\Local\\Temp\\ipykernel_13080\\2303645629.py:18: UserWarning: To copy construct from a tensor, it is recommended to use sourceTensor.clone().detach() or sourceTensor.clone().detach().requires_grad_(True), rather than torch.tensor(sourceTensor).\n",
      "  \"inputs_embeds\": torch.tensor(self.tokenized_inputs[idx]),\n",
      "C:\\Users\\Kowsher\\AppData\\Local\\Temp\\ipykernel_13080\\2303645629.py:19: UserWarning: To copy construct from a tensor, it is recommended to use sourceTensor.clone().detach() or sourceTensor.clone().detach().requires_grad_(True), rather than torch.tensor(sourceTensor).\n",
      "  \"labels_ids\": torch.tensor(self.labels[idx]),\n",
      "Could not estimate the number of tokens of the input, floating-point operations will not be computed\n"
     ]
    },
    {
     "name": "stdout",
     "output_type": "stream",
     "text": [
      "{'loss': 1.1816, 'learning_rate': 4.976525821596245e-05, 'epoch': 0.7}\n",
      "{'eval_loss': 0.5708556475215844, 'eval_r2_score': -0.3121276098118264, 'eval_mse': 0.5708556475215841, 'eval_runtime': 5.3098, 'eval_samples_per_second': 277.223, 'eval_steps_per_second': 4.332, 'epoch': 0.7}\n"
     ]
    },
    {
     "name": "stderr",
     "output_type": "stream",
     "text": [
      "C:\\Users\\Kowsher\\AppData\\Local\\Temp\\ipykernel_13080\\2303645629.py:18: UserWarning: To copy construct from a tensor, it is recommended to use sourceTensor.clone().detach() or sourceTensor.clone().detach().requires_grad_(True), rather than torch.tensor(sourceTensor).\n",
      "  \"inputs_embeds\": torch.tensor(self.tokenized_inputs[idx]),\n",
      "C:\\Users\\Kowsher\\AppData\\Local\\Temp\\ipykernel_13080\\2303645629.py:19: UserWarning: To copy construct from a tensor, it is recommended to use sourceTensor.clone().detach() or sourceTensor.clone().detach().requires_grad_(True), rather than torch.tensor(sourceTensor).\n",
      "  \"labels_ids\": torch.tensor(self.labels[idx]),\n"
     ]
    },
    {
     "name": "stdout",
     "output_type": "stream",
     "text": [
      "{'loss': 1.2107, 'learning_rate': 4.953051643192488e-05, 'epoch': 1.41}\n",
      "{'eval_loss': 0.5558881371007793, 'eval_r2_score': -0.2777243701162042, 'eval_mse': 0.555888137100779, 'eval_runtime': 5.2544, 'eval_samples_per_second': 280.145, 'eval_steps_per_second': 4.377, 'epoch': 1.41}\n"
     ]
    },
    {
     "name": "stderr",
     "output_type": "stream",
     "text": [
      "C:\\Users\\Kowsher\\AppData\\Local\\Temp\\ipykernel_13080\\2303645629.py:18: UserWarning: To copy construct from a tensor, it is recommended to use sourceTensor.clone().detach() or sourceTensor.clone().detach().requires_grad_(True), rather than torch.tensor(sourceTensor).\n",
      "  \"inputs_embeds\": torch.tensor(self.tokenized_inputs[idx]),\n",
      "C:\\Users\\Kowsher\\AppData\\Local\\Temp\\ipykernel_13080\\2303645629.py:19: UserWarning: To copy construct from a tensor, it is recommended to use sourceTensor.clone().detach() or sourceTensor.clone().detach().requires_grad_(True), rather than torch.tensor(sourceTensor).\n",
      "  \"labels_ids\": torch.tensor(self.labels[idx]),\n"
     ]
    },
    {
     "name": "stdout",
     "output_type": "stream",
     "text": [
      "{'loss': 0.8785, 'learning_rate': 4.929577464788733e-05, 'epoch': 2.11}\n",
      "{'eval_loss': 0.557500485945279, 'eval_r2_score': -0.2814303988551714, 'eval_mse': 0.557500485945279, 'eval_runtime': 5.2914, 'eval_samples_per_second': 278.189, 'eval_steps_per_second': 4.347, 'epoch': 2.11}\n"
     ]
    },
    {
     "name": "stderr",
     "output_type": "stream",
     "text": [
      "C:\\Users\\Kowsher\\AppData\\Local\\Temp\\ipykernel_13080\\2303645629.py:18: UserWarning: To copy construct from a tensor, it is recommended to use sourceTensor.clone().detach() or sourceTensor.clone().detach().requires_grad_(True), rather than torch.tensor(sourceTensor).\n",
      "  \"inputs_embeds\": torch.tensor(self.tokenized_inputs[idx]),\n",
      "C:\\Users\\Kowsher\\AppData\\Local\\Temp\\ipykernel_13080\\2303645629.py:19: UserWarning: To copy construct from a tensor, it is recommended to use sourceTensor.clone().detach() or sourceTensor.clone().detach().requires_grad_(True), rather than torch.tensor(sourceTensor).\n",
      "  \"labels_ids\": torch.tensor(self.labels[idx]),\n"
     ]
    },
    {
     "name": "stdout",
     "output_type": "stream",
     "text": [
      "{'loss': 0.9875, 'learning_rate': 4.906103286384977e-05, 'epoch': 2.82}\n",
      "{'eval_loss': 0.5382532525905724, 'eval_r2_score': -0.23719009676330738, 'eval_mse': 0.5382532525905724, 'eval_runtime': 5.1652, 'eval_samples_per_second': 284.987, 'eval_steps_per_second': 4.453, 'epoch': 2.82}\n"
     ]
    },
    {
     "name": "stderr",
     "output_type": "stream",
     "text": [
      "C:\\Users\\Kowsher\\AppData\\Local\\Temp\\ipykernel_13080\\2303645629.py:18: UserWarning: To copy construct from a tensor, it is recommended to use sourceTensor.clone().detach() or sourceTensor.clone().detach().requires_grad_(True), rather than torch.tensor(sourceTensor).\n",
      "  \"inputs_embeds\": torch.tensor(self.tokenized_inputs[idx]),\n",
      "C:\\Users\\Kowsher\\AppData\\Local\\Temp\\ipykernel_13080\\2303645629.py:19: UserWarning: To copy construct from a tensor, it is recommended to use sourceTensor.clone().detach() or sourceTensor.clone().detach().requires_grad_(True), rather than torch.tensor(sourceTensor).\n",
      "  \"labels_ids\": torch.tensor(self.labels[idx]),\n"
     ]
    },
    {
     "name": "stdout",
     "output_type": "stream",
     "text": [
      "{'loss': 1.0879, 'learning_rate': 4.882629107981221e-05, 'epoch': 3.52}\n",
      "{'eval_loss': 0.503930763323239, 'eval_r2_score': -0.15829889896108984, 'eval_mse': 0.5039307633232392, 'eval_runtime': 5.2709, 'eval_samples_per_second': 279.267, 'eval_steps_per_second': 4.364, 'epoch': 3.52}\n"
     ]
    },
    {
     "name": "stderr",
     "output_type": "stream",
     "text": [
      "C:\\Users\\Kowsher\\AppData\\Local\\Temp\\ipykernel_13080\\2303645629.py:18: UserWarning: To copy construct from a tensor, it is recommended to use sourceTensor.clone().detach() or sourceTensor.clone().detach().requires_grad_(True), rather than torch.tensor(sourceTensor).\n",
      "  \"inputs_embeds\": torch.tensor(self.tokenized_inputs[idx]),\n",
      "C:\\Users\\Kowsher\\AppData\\Local\\Temp\\ipykernel_13080\\2303645629.py:19: UserWarning: To copy construct from a tensor, it is recommended to use sourceTensor.clone().detach() or sourceTensor.clone().detach().requires_grad_(True), rather than torch.tensor(sourceTensor).\n",
      "  \"labels_ids\": torch.tensor(self.labels[idx]),\n"
     ]
    },
    {
     "name": "stdout",
     "output_type": "stream",
     "text": [
      "{'loss': 0.9814, 'learning_rate': 4.8591549295774653e-05, 'epoch': 4.23}\n",
      "{'eval_loss': 0.48952522939181475, 'eval_r2_score': -0.12518737788292023, 'eval_mse': 0.4895252293918147, 'eval_runtime': 5.3513, 'eval_samples_per_second': 275.075, 'eval_steps_per_second': 4.298, 'epoch': 4.23}\n"
     ]
    },
    {
     "name": "stderr",
     "output_type": "stream",
     "text": [
      "C:\\Users\\Kowsher\\AppData\\Local\\Temp\\ipykernel_13080\\2303645629.py:18: UserWarning: To copy construct from a tensor, it is recommended to use sourceTensor.clone().detach() or sourceTensor.clone().detach().requires_grad_(True), rather than torch.tensor(sourceTensor).\n",
      "  \"inputs_embeds\": torch.tensor(self.tokenized_inputs[idx]),\n",
      "C:\\Users\\Kowsher\\AppData\\Local\\Temp\\ipykernel_13080\\2303645629.py:19: UserWarning: To copy construct from a tensor, it is recommended to use sourceTensor.clone().detach() or sourceTensor.clone().detach().requires_grad_(True), rather than torch.tensor(sourceTensor).\n",
      "  \"labels_ids\": torch.tensor(self.labels[idx]),\n"
     ]
    },
    {
     "name": "stdout",
     "output_type": "stream",
     "text": [
      "{'loss': 0.7015, 'learning_rate': 4.835680751173709e-05, 'epoch': 4.93}\n",
      "{'eval_loss': 0.46479895643913577, 'eval_r2_score': -0.06835335062960035, 'eval_mse': 0.4647989564391358, 'eval_runtime': 5.274, 'eval_samples_per_second': 279.104, 'eval_steps_per_second': 4.361, 'epoch': 4.93}\n"
     ]
    },
    {
     "name": "stderr",
     "output_type": "stream",
     "text": [
      "C:\\Users\\Kowsher\\AppData\\Local\\Temp\\ipykernel_13080\\2303645629.py:18: UserWarning: To copy construct from a tensor, it is recommended to use sourceTensor.clone().detach() or sourceTensor.clone().detach().requires_grad_(True), rather than torch.tensor(sourceTensor).\n",
      "  \"inputs_embeds\": torch.tensor(self.tokenized_inputs[idx]),\n",
      "C:\\Users\\Kowsher\\AppData\\Local\\Temp\\ipykernel_13080\\2303645629.py:19: UserWarning: To copy construct from a tensor, it is recommended to use sourceTensor.clone().detach() or sourceTensor.clone().detach().requires_grad_(True), rather than torch.tensor(sourceTensor).\n",
      "  \"labels_ids\": torch.tensor(self.labels[idx]),\n"
     ]
    },
    {
     "name": "stdout",
     "output_type": "stream",
     "text": [
      "{'loss': 0.8904, 'learning_rate': 4.812206572769953e-05, 'epoch': 5.63}\n",
      "{'eval_loss': 0.4267659327277824, 'eval_r2_score': 0.019066613967329782, 'eval_mse': 0.4267659327277825, 'eval_runtime': 5.2792, 'eval_samples_per_second': 278.83, 'eval_steps_per_second': 4.357, 'epoch': 5.63}\n"
     ]
    },
    {
     "name": "stderr",
     "output_type": "stream",
     "text": [
      "C:\\Users\\Kowsher\\AppData\\Local\\Temp\\ipykernel_13080\\2303645629.py:18: UserWarning: To copy construct from a tensor, it is recommended to use sourceTensor.clone().detach() or sourceTensor.clone().detach().requires_grad_(True), rather than torch.tensor(sourceTensor).\n",
      "  \"inputs_embeds\": torch.tensor(self.tokenized_inputs[idx]),\n",
      "C:\\Users\\Kowsher\\AppData\\Local\\Temp\\ipykernel_13080\\2303645629.py:19: UserWarning: To copy construct from a tensor, it is recommended to use sourceTensor.clone().detach() or sourceTensor.clone().detach().requires_grad_(True), rather than torch.tensor(sourceTensor).\n",
      "  \"labels_ids\": torch.tensor(self.labels[idx]),\n"
     ]
    },
    {
     "name": "stdout",
     "output_type": "stream",
     "text": [
      "{'loss': 0.7674, 'learning_rate': 4.788732394366197e-05, 'epoch': 6.34}\n",
      "{'eval_loss': 0.3903432634653306, 'eval_r2_score': 0.10278513399913991, 'eval_mse': 0.39034326346533066, 'eval_runtime': 5.2999, 'eval_samples_per_second': 277.738, 'eval_steps_per_second': 4.34, 'epoch': 6.34}\n"
     ]
    },
    {
     "name": "stderr",
     "output_type": "stream",
     "text": [
      "C:\\Users\\Kowsher\\AppData\\Local\\Temp\\ipykernel_13080\\2303645629.py:18: UserWarning: To copy construct from a tensor, it is recommended to use sourceTensor.clone().detach() or sourceTensor.clone().detach().requires_grad_(True), rather than torch.tensor(sourceTensor).\n",
      "  \"inputs_embeds\": torch.tensor(self.tokenized_inputs[idx]),\n",
      "C:\\Users\\Kowsher\\AppData\\Local\\Temp\\ipykernel_13080\\2303645629.py:19: UserWarning: To copy construct from a tensor, it is recommended to use sourceTensor.clone().detach() or sourceTensor.clone().detach().requires_grad_(True), rather than torch.tensor(sourceTensor).\n",
      "  \"labels_ids\": torch.tensor(self.labels[idx]),\n"
     ]
    },
    {
     "name": "stdout",
     "output_type": "stream",
     "text": [
      "{'loss': 0.6113, 'learning_rate': 4.765258215962441e-05, 'epoch': 7.04}\n",
      "{'eval_loss': 0.38182794434958434, 'eval_r2_score': 0.1223578322226544, 'eval_mse': 0.3818279443495845, 'eval_runtime': 5.0681, 'eval_samples_per_second': 290.444, 'eval_steps_per_second': 4.538, 'epoch': 7.04}\n"
     ]
    },
    {
     "name": "stderr",
     "output_type": "stream",
     "text": [
      "C:\\Users\\Kowsher\\AppData\\Local\\Temp\\ipykernel_13080\\2303645629.py:18: UserWarning: To copy construct from a tensor, it is recommended to use sourceTensor.clone().detach() or sourceTensor.clone().detach().requires_grad_(True), rather than torch.tensor(sourceTensor).\n",
      "  \"inputs_embeds\": torch.tensor(self.tokenized_inputs[idx]),\n",
      "C:\\Users\\Kowsher\\AppData\\Local\\Temp\\ipykernel_13080\\2303645629.py:19: UserWarning: To copy construct from a tensor, it is recommended to use sourceTensor.clone().detach() or sourceTensor.clone().detach().requires_grad_(True), rather than torch.tensor(sourceTensor).\n",
      "  \"labels_ids\": torch.tensor(self.labels[idx]),\n"
     ]
    },
    {
     "name": "stdout",
     "output_type": "stream",
     "text": [
      "{'loss': 0.6759, 'learning_rate': 4.741784037558686e-05, 'epoch': 7.75}\n",
      "{'eval_loss': 0.36377950328508885, 'eval_r2_score': 0.16384267683723086, 'eval_mse': 0.3637795032850888, 'eval_runtime': 5.358, 'eval_samples_per_second': 274.731, 'eval_steps_per_second': 4.293, 'epoch': 7.75}\n"
     ]
    },
    {
     "name": "stderr",
     "output_type": "stream",
     "text": [
      "C:\\Users\\Kowsher\\AppData\\Local\\Temp\\ipykernel_13080\\2303645629.py:18: UserWarning: To copy construct from a tensor, it is recommended to use sourceTensor.clone().detach() or sourceTensor.clone().detach().requires_grad_(True), rather than torch.tensor(sourceTensor).\n",
      "  \"inputs_embeds\": torch.tensor(self.tokenized_inputs[idx]),\n",
      "C:\\Users\\Kowsher\\AppData\\Local\\Temp\\ipykernel_13080\\2303645629.py:19: UserWarning: To copy construct from a tensor, it is recommended to use sourceTensor.clone().detach() or sourceTensor.clone().detach().requires_grad_(True), rather than torch.tensor(sourceTensor).\n",
      "  \"labels_ids\": torch.tensor(self.labels[idx]),\n"
     ]
    },
    {
     "name": "stdout",
     "output_type": "stream",
     "text": [
      "{'loss': 0.6823, 'learning_rate': 4.71830985915493e-05, 'epoch': 8.45}\n",
      "{'eval_loss': 0.337108521565602, 'eval_r2_score': 0.22514667137045785, 'eval_mse': 0.33710852156560217, 'eval_runtime': 5.2123, 'eval_samples_per_second': 282.407, 'eval_steps_per_second': 4.413, 'epoch': 8.45}\n"
     ]
    },
    {
     "name": "stderr",
     "output_type": "stream",
     "text": [
      "C:\\Users\\Kowsher\\AppData\\Local\\Temp\\ipykernel_13080\\2303645629.py:18: UserWarning: To copy construct from a tensor, it is recommended to use sourceTensor.clone().detach() or sourceTensor.clone().detach().requires_grad_(True), rather than torch.tensor(sourceTensor).\n",
      "  \"inputs_embeds\": torch.tensor(self.tokenized_inputs[idx]),\n",
      "C:\\Users\\Kowsher\\AppData\\Local\\Temp\\ipykernel_13080\\2303645629.py:19: UserWarning: To copy construct from a tensor, it is recommended to use sourceTensor.clone().detach() or sourceTensor.clone().detach().requires_grad_(True), rather than torch.tensor(sourceTensor).\n",
      "  \"labels_ids\": torch.tensor(self.labels[idx]),\n"
     ]
    },
    {
     "name": "stdout",
     "output_type": "stream",
     "text": [
      "{'loss': 0.591, 'learning_rate': 4.694835680751174e-05, 'epoch': 9.15}\n",
      "{'eval_loss': 0.34895268316058314, 'eval_r2_score': 0.19792253596719078, 'eval_mse': 0.3489526831605831, 'eval_runtime': 5.3902, 'eval_samples_per_second': 273.09, 'eval_steps_per_second': 4.267, 'epoch': 9.15}\n"
     ]
    },
    {
     "name": "stderr",
     "output_type": "stream",
     "text": [
      "C:\\Users\\Kowsher\\AppData\\Local\\Temp\\ipykernel_13080\\2303645629.py:18: UserWarning: To copy construct from a tensor, it is recommended to use sourceTensor.clone().detach() or sourceTensor.clone().detach().requires_grad_(True), rather than torch.tensor(sourceTensor).\n",
      "  \"inputs_embeds\": torch.tensor(self.tokenized_inputs[idx]),\n",
      "C:\\Users\\Kowsher\\AppData\\Local\\Temp\\ipykernel_13080\\2303645629.py:19: UserWarning: To copy construct from a tensor, it is recommended to use sourceTensor.clone().detach() or sourceTensor.clone().detach().requires_grad_(True), rather than torch.tensor(sourceTensor).\n",
      "  \"labels_ids\": torch.tensor(self.labels[idx]),\n"
     ]
    },
    {
     "name": "stdout",
     "output_type": "stream",
     "text": [
      "{'loss': 0.5716, 'learning_rate': 4.6713615023474184e-05, 'epoch': 9.86}\n",
      "{'eval_loss': 0.3554910129740416, 'eval_r2_score': 0.18289400273371625, 'eval_mse': 0.35549101297404156, 'eval_runtime': 5.2406, 'eval_samples_per_second': 280.882, 'eval_steps_per_second': 4.389, 'epoch': 9.86}\n"
     ]
    },
    {
     "name": "stderr",
     "output_type": "stream",
     "text": [
      "C:\\Users\\Kowsher\\AppData\\Local\\Temp\\ipykernel_13080\\2303645629.py:18: UserWarning: To copy construct from a tensor, it is recommended to use sourceTensor.clone().detach() or sourceTensor.clone().detach().requires_grad_(True), rather than torch.tensor(sourceTensor).\n",
      "  \"inputs_embeds\": torch.tensor(self.tokenized_inputs[idx]),\n",
      "C:\\Users\\Kowsher\\AppData\\Local\\Temp\\ipykernel_13080\\2303645629.py:19: UserWarning: To copy construct from a tensor, it is recommended to use sourceTensor.clone().detach() or sourceTensor.clone().detach().requires_grad_(True), rather than torch.tensor(sourceTensor).\n",
      "  \"labels_ids\": torch.tensor(self.labels[idx]),\n"
     ]
    },
    {
     "name": "stdout",
     "output_type": "stream",
     "text": [
      "{'loss': 0.675, 'learning_rate': 4.647887323943662e-05, 'epoch': 10.56}\n",
      "{'eval_loss': 0.3298364598065393, 'eval_r2_score': 0.24186170792260486, 'eval_mse': 0.32983645980653953, 'eval_runtime': 5.2531, 'eval_samples_per_second': 280.218, 'eval_steps_per_second': 4.378, 'epoch': 10.56}\n"
     ]
    },
    {
     "name": "stderr",
     "output_type": "stream",
     "text": [
      "C:\\Users\\Kowsher\\AppData\\Local\\Temp\\ipykernel_13080\\2303645629.py:18: UserWarning: To copy construct from a tensor, it is recommended to use sourceTensor.clone().detach() or sourceTensor.clone().detach().requires_grad_(True), rather than torch.tensor(sourceTensor).\n",
      "  \"inputs_embeds\": torch.tensor(self.tokenized_inputs[idx]),\n",
      "C:\\Users\\Kowsher\\AppData\\Local\\Temp\\ipykernel_13080\\2303645629.py:19: UserWarning: To copy construct from a tensor, it is recommended to use sourceTensor.clone().detach() or sourceTensor.clone().detach().requires_grad_(True), rather than torch.tensor(sourceTensor).\n",
      "  \"labels_ids\": torch.tensor(self.labels[idx]),\n"
     ]
    },
    {
     "name": "stdout",
     "output_type": "stream",
     "text": [
      "{'loss': 0.6494, 'learning_rate': 4.624413145539906e-05, 'epoch': 11.27}\n",
      "{'eval_loss': 0.3341429222973531, 'eval_r2_score': 0.23196318390983872, 'eval_mse': 0.33414292229735315, 'eval_runtime': 5.3346, 'eval_samples_per_second': 275.936, 'eval_steps_per_second': 4.312, 'epoch': 11.27}\n"
     ]
    },
    {
     "name": "stderr",
     "output_type": "stream",
     "text": [
      "C:\\Users\\Kowsher\\AppData\\Local\\Temp\\ipykernel_13080\\2303645629.py:18: UserWarning: To copy construct from a tensor, it is recommended to use sourceTensor.clone().detach() or sourceTensor.clone().detach().requires_grad_(True), rather than torch.tensor(sourceTensor).\n",
      "  \"inputs_embeds\": torch.tensor(self.tokenized_inputs[idx]),\n",
      "C:\\Users\\Kowsher\\AppData\\Local\\Temp\\ipykernel_13080\\2303645629.py:19: UserWarning: To copy construct from a tensor, it is recommended to use sourceTensor.clone().detach() or sourceTensor.clone().detach().requires_grad_(True), rather than torch.tensor(sourceTensor).\n",
      "  \"labels_ids\": torch.tensor(self.labels[idx]),\n"
     ]
    },
    {
     "name": "stdout",
     "output_type": "stream",
     "text": [
      "{'loss': 0.5152, 'learning_rate': 4.60093896713615e-05, 'epoch': 11.97}\n",
      "{'eval_loss': 0.35697101084149513, 'eval_r2_score': 0.1794921864027762, 'eval_mse': 0.356971010841495, 'eval_runtime': 5.2798, 'eval_samples_per_second': 278.799, 'eval_steps_per_second': 4.356, 'epoch': 11.97}\n"
     ]
    },
    {
     "name": "stderr",
     "output_type": "stream",
     "text": [
      "C:\\Users\\Kowsher\\AppData\\Local\\Temp\\ipykernel_13080\\2303645629.py:18: UserWarning: To copy construct from a tensor, it is recommended to use sourceTensor.clone().detach() or sourceTensor.clone().detach().requires_grad_(True), rather than torch.tensor(sourceTensor).\n",
      "  \"inputs_embeds\": torch.tensor(self.tokenized_inputs[idx]),\n",
      "C:\\Users\\Kowsher\\AppData\\Local\\Temp\\ipykernel_13080\\2303645629.py:19: UserWarning: To copy construct from a tensor, it is recommended to use sourceTensor.clone().detach() or sourceTensor.clone().detach().requires_grad_(True), rather than torch.tensor(sourceTensor).\n",
      "  \"labels_ids\": torch.tensor(self.labels[idx]),\n"
     ]
    },
    {
     "name": "stdout",
     "output_type": "stream",
     "text": [
      "{'loss': 0.6386, 'learning_rate': 4.577464788732395e-05, 'epoch': 12.68}\n",
      "{'eval_loss': 0.3300457026032035, 'eval_r2_score': 0.24138075752498866, 'eval_mse': 0.33004570260320343, 'eval_runtime': 5.1746, 'eval_samples_per_second': 284.465, 'eval_steps_per_second': 4.445, 'epoch': 12.68}\n"
     ]
    },
    {
     "name": "stderr",
     "output_type": "stream",
     "text": [
      "C:\\Users\\Kowsher\\AppData\\Local\\Temp\\ipykernel_13080\\2303645629.py:18: UserWarning: To copy construct from a tensor, it is recommended to use sourceTensor.clone().detach() or sourceTensor.clone().detach().requires_grad_(True), rather than torch.tensor(sourceTensor).\n",
      "  \"inputs_embeds\": torch.tensor(self.tokenized_inputs[idx]),\n",
      "C:\\Users\\Kowsher\\AppData\\Local\\Temp\\ipykernel_13080\\2303645629.py:19: UserWarning: To copy construct from a tensor, it is recommended to use sourceTensor.clone().detach() or sourceTensor.clone().detach().requires_grad_(True), rather than torch.tensor(sourceTensor).\n",
      "  \"labels_ids\": torch.tensor(self.labels[idx]),\n"
     ]
    },
    {
     "name": "stdout",
     "output_type": "stream",
     "text": [
      "{'loss': 0.6374, 'learning_rate': 4.553990610328639e-05, 'epoch': 13.38}\n",
      "{'eval_loss': 0.32094046804179677, 'eval_r2_score': 0.2623093928353417, 'eval_mse': 0.32094046804179666, 'eval_runtime': 5.2412, 'eval_samples_per_second': 280.851, 'eval_steps_per_second': 4.388, 'epoch': 13.38}\n"
     ]
    },
    {
     "name": "stderr",
     "output_type": "stream",
     "text": [
      "C:\\Users\\Kowsher\\AppData\\Local\\Temp\\ipykernel_13080\\2303645629.py:18: UserWarning: To copy construct from a tensor, it is recommended to use sourceTensor.clone().detach() or sourceTensor.clone().detach().requires_grad_(True), rather than torch.tensor(sourceTensor).\n",
      "  \"inputs_embeds\": torch.tensor(self.tokenized_inputs[idx]),\n",
      "C:\\Users\\Kowsher\\AppData\\Local\\Temp\\ipykernel_13080\\2303645629.py:19: UserWarning: To copy construct from a tensor, it is recommended to use sourceTensor.clone().detach() or sourceTensor.clone().detach().requires_grad_(True), rather than torch.tensor(sourceTensor).\n",
      "  \"labels_ids\": torch.tensor(self.labels[idx]),\n"
     ]
    },
    {
     "name": "stdout",
     "output_type": "stream",
     "text": [
      "{'loss': 0.4879, 'learning_rate': 4.530516431924883e-05, 'epoch': 14.08}\n",
      "{'eval_loss': 0.3375696694500034, 'eval_r2_score': 0.2240867101106262, 'eval_mse': 0.3375696694500033, 'eval_runtime': 5.2849, 'eval_samples_per_second': 278.53, 'eval_steps_per_second': 4.352, 'epoch': 14.08}\n"
     ]
    },
    {
     "name": "stderr",
     "output_type": "stream",
     "text": [
      "C:\\Users\\Kowsher\\AppData\\Local\\Temp\\ipykernel_13080\\2303645629.py:18: UserWarning: To copy construct from a tensor, it is recommended to use sourceTensor.clone().detach() or sourceTensor.clone().detach().requires_grad_(True), rather than torch.tensor(sourceTensor).\n",
      "  \"inputs_embeds\": torch.tensor(self.tokenized_inputs[idx]),\n",
      "C:\\Users\\Kowsher\\AppData\\Local\\Temp\\ipykernel_13080\\2303645629.py:19: UserWarning: To copy construct from a tensor, it is recommended to use sourceTensor.clone().detach() or sourceTensor.clone().detach().requires_grad_(True), rather than torch.tensor(sourceTensor).\n",
      "  \"labels_ids\": torch.tensor(self.labels[idx]),\n"
     ]
    },
    {
     "name": "stdout",
     "output_type": "stream",
     "text": [
      "{'loss': 0.5842, 'learning_rate': 4.507042253521127e-05, 'epoch': 14.79}\n",
      "{'eval_loss': 0.31927873535808676, 'eval_r2_score': 0.2661289317045623, 'eval_mse': 0.31927873535808654, 'eval_runtime': 5.4507, 'eval_samples_per_second': 270.055, 'eval_steps_per_second': 4.22, 'epoch': 14.79}\n"
     ]
    },
    {
     "name": "stderr",
     "output_type": "stream",
     "text": [
      "C:\\Users\\Kowsher\\AppData\\Local\\Temp\\ipykernel_13080\\2303645629.py:18: UserWarning: To copy construct from a tensor, it is recommended to use sourceTensor.clone().detach() or sourceTensor.clone().detach().requires_grad_(True), rather than torch.tensor(sourceTensor).\n",
      "  \"inputs_embeds\": torch.tensor(self.tokenized_inputs[idx]),\n",
      "C:\\Users\\Kowsher\\AppData\\Local\\Temp\\ipykernel_13080\\2303645629.py:19: UserWarning: To copy construct from a tensor, it is recommended to use sourceTensor.clone().detach() or sourceTensor.clone().detach().requires_grad_(True), rather than torch.tensor(sourceTensor).\n",
      "  \"labels_ids\": torch.tensor(self.labels[idx]),\n"
     ]
    },
    {
     "name": "stdout",
     "output_type": "stream",
     "text": [
      "{'loss': 0.5926, 'learning_rate': 4.483568075117371e-05, 'epoch': 15.49}\n",
      "{'eval_loss': 0.29060672809710403, 'eval_r2_score': 0.3320323391932969, 'eval_mse': 0.290606728097104, 'eval_runtime': 5.1148, 'eval_samples_per_second': 287.795, 'eval_steps_per_second': 4.497, 'epoch': 15.49}\n"
     ]
    },
    {
     "name": "stderr",
     "output_type": "stream",
     "text": [
      "C:\\Users\\Kowsher\\AppData\\Local\\Temp\\ipykernel_13080\\2303645629.py:18: UserWarning: To copy construct from a tensor, it is recommended to use sourceTensor.clone().detach() or sourceTensor.clone().detach().requires_grad_(True), rather than torch.tensor(sourceTensor).\n",
      "  \"inputs_embeds\": torch.tensor(self.tokenized_inputs[idx]),\n",
      "C:\\Users\\Kowsher\\AppData\\Local\\Temp\\ipykernel_13080\\2303645629.py:19: UserWarning: To copy construct from a tensor, it is recommended to use sourceTensor.clone().detach() or sourceTensor.clone().detach().requires_grad_(True), rather than torch.tensor(sourceTensor).\n",
      "  \"labels_ids\": torch.tensor(self.labels[idx]),\n"
     ]
    },
    {
     "name": "stdout",
     "output_type": "stream",
     "text": [
      "{'loss': 0.5146, 'learning_rate': 4.4600938967136154e-05, 'epoch': 16.2}\n",
      "{'eval_loss': 0.29889488542912074, 'eval_r2_score': 0.3129817786583903, 'eval_mse': 0.29889488542912057, 'eval_runtime': 5.1632, 'eval_samples_per_second': 285.093, 'eval_steps_per_second': 4.455, 'epoch': 16.2}\n"
     ]
    },
    {
     "name": "stderr",
     "output_type": "stream",
     "text": [
      "C:\\Users\\Kowsher\\AppData\\Local\\Temp\\ipykernel_13080\\2303645629.py:18: UserWarning: To copy construct from a tensor, it is recommended to use sourceTensor.clone().detach() or sourceTensor.clone().detach().requires_grad_(True), rather than torch.tensor(sourceTensor).\n",
      "  \"inputs_embeds\": torch.tensor(self.tokenized_inputs[idx]),\n",
      "C:\\Users\\Kowsher\\AppData\\Local\\Temp\\ipykernel_13080\\2303645629.py:19: UserWarning: To copy construct from a tensor, it is recommended to use sourceTensor.clone().detach() or sourceTensor.clone().detach().requires_grad_(True), rather than torch.tensor(sourceTensor).\n",
      "  \"labels_ids\": torch.tensor(self.labels[idx]),\n"
     ]
    },
    {
     "name": "stdout",
     "output_type": "stream",
     "text": [
      "{'loss': 0.4745, 'learning_rate': 4.436619718309859e-05, 'epoch': 16.9}\n",
      "{'eval_loss': 0.3009406943064717, 'eval_r2_score': 0.30827942995776014, 'eval_mse': 0.30094069430647163, 'eval_runtime': 5.0791, 'eval_samples_per_second': 289.814, 'eval_steps_per_second': 4.528, 'epoch': 16.9}\n"
     ]
    },
    {
     "name": "stderr",
     "output_type": "stream",
     "text": [
      "C:\\Users\\Kowsher\\AppData\\Local\\Temp\\ipykernel_13080\\2303645629.py:18: UserWarning: To copy construct from a tensor, it is recommended to use sourceTensor.clone().detach() or sourceTensor.clone().detach().requires_grad_(True), rather than torch.tensor(sourceTensor).\n",
      "  \"inputs_embeds\": torch.tensor(self.tokenized_inputs[idx]),\n",
      "C:\\Users\\Kowsher\\AppData\\Local\\Temp\\ipykernel_13080\\2303645629.py:19: UserWarning: To copy construct from a tensor, it is recommended to use sourceTensor.clone().detach() or sourceTensor.clone().detach().requires_grad_(True), rather than torch.tensor(sourceTensor).\n",
      "  \"labels_ids\": torch.tensor(self.labels[idx]),\n"
     ]
    },
    {
     "name": "stdout",
     "output_type": "stream",
     "text": [
      "{'loss': 0.564, 'learning_rate': 4.413145539906103e-05, 'epoch': 17.61}\n",
      "{'eval_loss': 0.2754882001855328, 'eval_r2_score': 0.3667826967987773, 'eval_mse': 0.27548820018553294, 'eval_runtime': 5.1167, 'eval_samples_per_second': 287.686, 'eval_steps_per_second': 4.495, 'epoch': 17.61}\n"
     ]
    },
    {
     "name": "stderr",
     "output_type": "stream",
     "text": [
      "C:\\Users\\Kowsher\\AppData\\Local\\Temp\\ipykernel_13080\\2303645629.py:18: UserWarning: To copy construct from a tensor, it is recommended to use sourceTensor.clone().detach() or sourceTensor.clone().detach().requires_grad_(True), rather than torch.tensor(sourceTensor).\n",
      "  \"inputs_embeds\": torch.tensor(self.tokenized_inputs[idx]),\n",
      "C:\\Users\\Kowsher\\AppData\\Local\\Temp\\ipykernel_13080\\2303645629.py:19: UserWarning: To copy construct from a tensor, it is recommended to use sourceTensor.clone().detach() or sourceTensor.clone().detach().requires_grad_(True), rather than torch.tensor(sourceTensor).\n",
      "  \"labels_ids\": torch.tensor(self.labels[idx]),\n"
     ]
    },
    {
     "name": "stdout",
     "output_type": "stream",
     "text": [
      "{'loss': 0.5053, 'learning_rate': 4.389671361502348e-05, 'epoch': 18.31}\n",
      "{'eval_loss': 0.27093080901632843, 'eval_r2_score': 0.3772579873696734, 'eval_mse': 0.27093080901632854, 'eval_runtime': 5.1271, 'eval_samples_per_second': 287.1, 'eval_steps_per_second': 4.486, 'epoch': 18.31}\n"
     ]
    },
    {
     "name": "stderr",
     "output_type": "stream",
     "text": [
      "C:\\Users\\Kowsher\\AppData\\Local\\Temp\\ipykernel_13080\\2303645629.py:18: UserWarning: To copy construct from a tensor, it is recommended to use sourceTensor.clone().detach() or sourceTensor.clone().detach().requires_grad_(True), rather than torch.tensor(sourceTensor).\n",
      "  \"inputs_embeds\": torch.tensor(self.tokenized_inputs[idx]),\n",
      "C:\\Users\\Kowsher\\AppData\\Local\\Temp\\ipykernel_13080\\2303645629.py:19: UserWarning: To copy construct from a tensor, it is recommended to use sourceTensor.clone().detach() or sourceTensor.clone().detach().requires_grad_(True), rather than torch.tensor(sourceTensor).\n",
      "  \"labels_ids\": torch.tensor(self.labels[idx]),\n"
     ]
    },
    {
     "name": "stdout",
     "output_type": "stream",
     "text": [
      "{'loss': 0.4454, 'learning_rate': 4.366197183098591e-05, 'epoch': 19.01}\n",
      "{'eval_loss': 0.28909630146204746, 'eval_r2_score': 0.33550409689431515, 'eval_mse': 0.28909630146204746, 'eval_runtime': 5.1487, 'eval_samples_per_second': 285.898, 'eval_steps_per_second': 4.467, 'epoch': 19.01}\n"
     ]
    },
    {
     "name": "stderr",
     "output_type": "stream",
     "text": [
      "C:\\Users\\Kowsher\\AppData\\Local\\Temp\\ipykernel_13080\\2303645629.py:18: UserWarning: To copy construct from a tensor, it is recommended to use sourceTensor.clone().detach() or sourceTensor.clone().detach().requires_grad_(True), rather than torch.tensor(sourceTensor).\n",
      "  \"inputs_embeds\": torch.tensor(self.tokenized_inputs[idx]),\n",
      "C:\\Users\\Kowsher\\AppData\\Local\\Temp\\ipykernel_13080\\2303645629.py:19: UserWarning: To copy construct from a tensor, it is recommended to use sourceTensor.clone().detach() or sourceTensor.clone().detach().requires_grad_(True), rather than torch.tensor(sourceTensor).\n",
      "  \"labels_ids\": torch.tensor(self.labels[idx]),\n"
     ]
    },
    {
     "name": "stdout",
     "output_type": "stream",
     "text": [
      "{'loss': 0.5303, 'learning_rate': 4.342723004694836e-05, 'epoch': 19.72}\n",
      "{'eval_loss': 0.2743441305303323, 'eval_r2_score': 0.36941237277492656, 'eval_mse': 0.27434413053033224, 'eval_runtime': 5.1556, 'eval_samples_per_second': 285.512, 'eval_steps_per_second': 4.461, 'epoch': 19.72}\n"
     ]
    },
    {
     "name": "stderr",
     "output_type": "stream",
     "text": [
      "C:\\Users\\Kowsher\\AppData\\Local\\Temp\\ipykernel_13080\\2303645629.py:18: UserWarning: To copy construct from a tensor, it is recommended to use sourceTensor.clone().detach() or sourceTensor.clone().detach().requires_grad_(True), rather than torch.tensor(sourceTensor).\n",
      "  \"inputs_embeds\": torch.tensor(self.tokenized_inputs[idx]),\n",
      "C:\\Users\\Kowsher\\AppData\\Local\\Temp\\ipykernel_13080\\2303645629.py:19: UserWarning: To copy construct from a tensor, it is recommended to use sourceTensor.clone().detach() or sourceTensor.clone().detach().requires_grad_(True), rather than torch.tensor(sourceTensor).\n",
      "  \"labels_ids\": torch.tensor(self.labels[idx]),\n"
     ]
    },
    {
     "name": "stdout",
     "output_type": "stream",
     "text": [
      "{'loss': 0.5063, 'learning_rate': 4.3192488262910805e-05, 'epoch': 20.42}\n",
      "{'eval_loss': 0.2678413669943409, 'eval_r2_score': 0.3843591559287701, 'eval_mse': 0.26784136699434075, 'eval_runtime': 5.1468, 'eval_samples_per_second': 286.004, 'eval_steps_per_second': 4.469, 'epoch': 20.42}\n"
     ]
    },
    {
     "name": "stderr",
     "output_type": "stream",
     "text": [
      "C:\\Users\\Kowsher\\AppData\\Local\\Temp\\ipykernel_13080\\2303645629.py:18: UserWarning: To copy construct from a tensor, it is recommended to use sourceTensor.clone().detach() or sourceTensor.clone().detach().requires_grad_(True), rather than torch.tensor(sourceTensor).\n",
      "  \"inputs_embeds\": torch.tensor(self.tokenized_inputs[idx]),\n",
      "C:\\Users\\Kowsher\\AppData\\Local\\Temp\\ipykernel_13080\\2303645629.py:19: UserWarning: To copy construct from a tensor, it is recommended to use sourceTensor.clone().detach() or sourceTensor.clone().detach().requires_grad_(True), rather than torch.tensor(sourceTensor).\n",
      "  \"labels_ids\": torch.tensor(self.labels[idx]),\n"
     ]
    },
    {
     "name": "stdout",
     "output_type": "stream",
     "text": [
      "{'loss': 0.4498, 'learning_rate': 4.295774647887324e-05, 'epoch': 21.13}\n",
      "{'eval_loss': 0.2821099618434621, 'eval_r2_score': 0.35156239314638404, 'eval_mse': 0.282109961843462, 'eval_runtime': 5.1308, 'eval_samples_per_second': 286.894, 'eval_steps_per_second': 4.483, 'epoch': 21.13}\n"
     ]
    },
    {
     "name": "stderr",
     "output_type": "stream",
     "text": [
      "C:\\Users\\Kowsher\\AppData\\Local\\Temp\\ipykernel_13080\\2303645629.py:18: UserWarning: To copy construct from a tensor, it is recommended to use sourceTensor.clone().detach() or sourceTensor.clone().detach().requires_grad_(True), rather than torch.tensor(sourceTensor).\n",
      "  \"inputs_embeds\": torch.tensor(self.tokenized_inputs[idx]),\n",
      "C:\\Users\\Kowsher\\AppData\\Local\\Temp\\ipykernel_13080\\2303645629.py:19: UserWarning: To copy construct from a tensor, it is recommended to use sourceTensor.clone().detach() or sourceTensor.clone().detach().requires_grad_(True), rather than torch.tensor(sourceTensor).\n",
      "  \"labels_ids\": torch.tensor(self.labels[idx]),\n"
     ]
    },
    {
     "name": "stdout",
     "output_type": "stream",
     "text": [
      "{'loss': 0.4729, 'learning_rate': 4.2723004694835684e-05, 'epoch': 21.83}\n",
      "{'eval_loss': 0.2816534017090733, 'eval_r2_score': 0.3526118093349979, 'eval_mse': 0.2816534017090733, 'eval_runtime': 5.1147, 'eval_samples_per_second': 287.798, 'eval_steps_per_second': 4.497, 'epoch': 21.83}\n"
     ]
    },
    {
     "name": "stderr",
     "output_type": "stream",
     "text": [
      "C:\\Users\\Kowsher\\AppData\\Local\\Temp\\ipykernel_13080\\2303645629.py:18: UserWarning: To copy construct from a tensor, it is recommended to use sourceTensor.clone().detach() or sourceTensor.clone().detach().requires_grad_(True), rather than torch.tensor(sourceTensor).\n",
      "  \"inputs_embeds\": torch.tensor(self.tokenized_inputs[idx]),\n",
      "C:\\Users\\Kowsher\\AppData\\Local\\Temp\\ipykernel_13080\\2303645629.py:19: UserWarning: To copy construct from a tensor, it is recommended to use sourceTensor.clone().detach() or sourceTensor.clone().detach().requires_grad_(True), rather than torch.tensor(sourceTensor).\n",
      "  \"labels_ids\": torch.tensor(self.labels[idx]),\n"
     ]
    },
    {
     "name": "stdout",
     "output_type": "stream",
     "text": [
      "{'loss': 0.511, 'learning_rate': 4.248826291079812e-05, 'epoch': 22.54}\n",
      "{'eval_loss': 0.27227156194251206, 'eval_r2_score': 0.3741762294155929, 'eval_mse': 0.2722715619425121, 'eval_runtime': 4.9932, 'eval_samples_per_second': 294.803, 'eval_steps_per_second': 4.606, 'epoch': 22.54}\n"
     ]
    },
    {
     "name": "stderr",
     "output_type": "stream",
     "text": [
      "C:\\Users\\Kowsher\\AppData\\Local\\Temp\\ipykernel_13080\\2303645629.py:18: UserWarning: To copy construct from a tensor, it is recommended to use sourceTensor.clone().detach() or sourceTensor.clone().detach().requires_grad_(True), rather than torch.tensor(sourceTensor).\n",
      "  \"inputs_embeds\": torch.tensor(self.tokenized_inputs[idx]),\n",
      "C:\\Users\\Kowsher\\AppData\\Local\\Temp\\ipykernel_13080\\2303645629.py:19: UserWarning: To copy construct from a tensor, it is recommended to use sourceTensor.clone().detach() or sourceTensor.clone().detach().requires_grad_(True), rather than torch.tensor(sourceTensor).\n",
      "  \"labels_ids\": torch.tensor(self.labels[idx]),\n"
     ]
    },
    {
     "name": "stdout",
     "output_type": "stream",
     "text": [
      "{'loss': 0.4716, 'learning_rate': 4.225352112676056e-05, 'epoch': 23.24}\n",
      "{'eval_loss': 0.27125705122862814, 'eval_r2_score': 0.37650811055562594, 'eval_mse': 0.2712570512286282, 'eval_runtime': 4.9827, 'eval_samples_per_second': 295.421, 'eval_steps_per_second': 4.616, 'epoch': 23.24}\n"
     ]
    },
    {
     "name": "stderr",
     "output_type": "stream",
     "text": [
      "C:\\Users\\Kowsher\\AppData\\Local\\Temp\\ipykernel_13080\\2303645629.py:18: UserWarning: To copy construct from a tensor, it is recommended to use sourceTensor.clone().detach() or sourceTensor.clone().detach().requires_grad_(True), rather than torch.tensor(sourceTensor).\n",
      "  \"inputs_embeds\": torch.tensor(self.tokenized_inputs[idx]),\n",
      "C:\\Users\\Kowsher\\AppData\\Local\\Temp\\ipykernel_13080\\2303645629.py:19: UserWarning: To copy construct from a tensor, it is recommended to use sourceTensor.clone().detach() or sourceTensor.clone().detach().requires_grad_(True), rather than torch.tensor(sourceTensor).\n",
      "  \"labels_ids\": torch.tensor(self.labels[idx]),\n"
     ]
    },
    {
     "name": "stdout",
     "output_type": "stream",
     "text": [
      "{'loss': 0.415, 'learning_rate': 4.201877934272301e-05, 'epoch': 23.94}\n",
      "{'eval_loss': 0.28818212659757964, 'eval_r2_score': 0.33760535328911856, 'eval_mse': 0.2881821265975795, 'eval_runtime': 5.2112, 'eval_samples_per_second': 282.469, 'eval_steps_per_second': 4.414, 'epoch': 23.94}\n"
     ]
    },
    {
     "name": "stderr",
     "output_type": "stream",
     "text": [
      "C:\\Users\\Kowsher\\AppData\\Local\\Temp\\ipykernel_13080\\2303645629.py:18: UserWarning: To copy construct from a tensor, it is recommended to use sourceTensor.clone().detach() or sourceTensor.clone().detach().requires_grad_(True), rather than torch.tensor(sourceTensor).\n",
      "  \"inputs_embeds\": torch.tensor(self.tokenized_inputs[idx]),\n",
      "C:\\Users\\Kowsher\\AppData\\Local\\Temp\\ipykernel_13080\\2303645629.py:19: UserWarning: To copy construct from a tensor, it is recommended to use sourceTensor.clone().detach() or sourceTensor.clone().detach().requires_grad_(True), rather than torch.tensor(sourceTensor).\n",
      "  \"labels_ids\": torch.tensor(self.labels[idx]),\n"
     ]
    },
    {
     "name": "stdout",
     "output_type": "stream",
     "text": [
      "{'loss': 0.5137, 'learning_rate': 4.178403755868545e-05, 'epoch': 24.65}\n",
      "{'eval_loss': 0.27416714461862207, 'eval_r2_score': 0.3698191798238032, 'eval_mse': 0.27416714461862196, 'eval_runtime': 5.0604, 'eval_samples_per_second': 290.887, 'eval_steps_per_second': 4.545, 'epoch': 24.65}\n"
     ]
    },
    {
     "name": "stderr",
     "output_type": "stream",
     "text": [
      "C:\\Users\\Kowsher\\AppData\\Local\\Temp\\ipykernel_13080\\2303645629.py:18: UserWarning: To copy construct from a tensor, it is recommended to use sourceTensor.clone().detach() or sourceTensor.clone().detach().requires_grad_(True), rather than torch.tensor(sourceTensor).\n",
      "  \"inputs_embeds\": torch.tensor(self.tokenized_inputs[idx]),\n",
      "C:\\Users\\Kowsher\\AppData\\Local\\Temp\\ipykernel_13080\\2303645629.py:19: UserWarning: To copy construct from a tensor, it is recommended to use sourceTensor.clone().detach() or sourceTensor.clone().detach().requires_grad_(True), rather than torch.tensor(sourceTensor).\n",
      "  \"labels_ids\": torch.tensor(self.labels[idx]),\n"
     ]
    },
    {
     "name": "stdout",
     "output_type": "stream",
     "text": [
      "{'loss': 0.4813, 'learning_rate': 4.154929577464789e-05, 'epoch': 25.35}\n",
      "{'eval_loss': 0.270043628567101, 'eval_r2_score': 0.3792971963489855, 'eval_mse': 0.27004362856710074, 'eval_runtime': 5.1128, 'eval_samples_per_second': 287.907, 'eval_steps_per_second': 4.499, 'epoch': 25.35}\n"
     ]
    },
    {
     "name": "stderr",
     "output_type": "stream",
     "text": [
      "C:\\Users\\Kowsher\\AppData\\Local\\Temp\\ipykernel_13080\\2303645629.py:18: UserWarning: To copy construct from a tensor, it is recommended to use sourceTensor.clone().detach() or sourceTensor.clone().detach().requires_grad_(True), rather than torch.tensor(sourceTensor).\n",
      "  \"inputs_embeds\": torch.tensor(self.tokenized_inputs[idx]),\n",
      "C:\\Users\\Kowsher\\AppData\\Local\\Temp\\ipykernel_13080\\2303645629.py:19: UserWarning: To copy construct from a tensor, it is recommended to use sourceTensor.clone().detach() or sourceTensor.clone().detach().requires_grad_(True), rather than torch.tensor(sourceTensor).\n",
      "  \"labels_ids\": torch.tensor(self.labels[idx]),\n"
     ]
    },
    {
     "name": "stdout",
     "output_type": "stream",
     "text": [
      "{'loss': 0.407, 'learning_rate': 4.1314553990610335e-05, 'epoch': 26.06}\n",
      "{'eval_loss': 0.2827597019093502, 'eval_r2_score': 0.350068947503244, 'eval_mse': 0.2827597019093503, 'eval_runtime': 5.3241, 'eval_samples_per_second': 276.478, 'eval_steps_per_second': 4.32, 'epoch': 26.06}\n"
     ]
    },
    {
     "name": "stderr",
     "output_type": "stream",
     "text": [
      "C:\\Users\\Kowsher\\AppData\\Local\\Temp\\ipykernel_13080\\2303645629.py:18: UserWarning: To copy construct from a tensor, it is recommended to use sourceTensor.clone().detach() or sourceTensor.clone().detach().requires_grad_(True), rather than torch.tensor(sourceTensor).\n",
      "  \"inputs_embeds\": torch.tensor(self.tokenized_inputs[idx]),\n",
      "C:\\Users\\Kowsher\\AppData\\Local\\Temp\\ipykernel_13080\\2303645629.py:19: UserWarning: To copy construct from a tensor, it is recommended to use sourceTensor.clone().detach() or sourceTensor.clone().detach().requires_grad_(True), rather than torch.tensor(sourceTensor).\n",
      "  \"labels_ids\": torch.tensor(self.labels[idx]),\n"
     ]
    },
    {
     "name": "stdout",
     "output_type": "stream",
     "text": [
      "{'loss': 0.4695, 'learning_rate': 4.107981220657277e-05, 'epoch': 26.76}\n",
      "{'eval_loss': 0.2761739489980802, 'eval_r2_score': 0.3652064840482415, 'eval_mse': 0.2761739489980801, 'eval_runtime': 5.2086, 'eval_samples_per_second': 282.608, 'eval_steps_per_second': 4.416, 'epoch': 26.76}\n"
     ]
    },
    {
     "name": "stderr",
     "output_type": "stream",
     "text": [
      "C:\\Users\\Kowsher\\AppData\\Local\\Temp\\ipykernel_13080\\2303645629.py:18: UserWarning: To copy construct from a tensor, it is recommended to use sourceTensor.clone().detach() or sourceTensor.clone().detach().requires_grad_(True), rather than torch.tensor(sourceTensor).\n",
      "  \"inputs_embeds\": torch.tensor(self.tokenized_inputs[idx]),\n",
      "C:\\Users\\Kowsher\\AppData\\Local\\Temp\\ipykernel_13080\\2303645629.py:19: UserWarning: To copy construct from a tensor, it is recommended to use sourceTensor.clone().detach() or sourceTensor.clone().detach().requires_grad_(True), rather than torch.tensor(sourceTensor).\n",
      "  \"labels_ids\": torch.tensor(self.labels[idx]),\n"
     ]
    },
    {
     "name": "stdout",
     "output_type": "stream",
     "text": [
      "{'loss': 0.4806, 'learning_rate': 4.0845070422535214e-05, 'epoch': 27.46}\n",
      "{'eval_loss': 0.2722458207510685, 'eval_r2_score': 0.374235396261273, 'eval_mse': 0.2722458207510685, 'eval_runtime': 5.3978, 'eval_samples_per_second': 272.702, 'eval_steps_per_second': 4.261, 'epoch': 27.46}\n"
     ]
    },
    {
     "name": "stderr",
     "output_type": "stream",
     "text": [
      "C:\\Users\\Kowsher\\AppData\\Local\\Temp\\ipykernel_13080\\2303645629.py:18: UserWarning: To copy construct from a tensor, it is recommended to use sourceTensor.clone().detach() or sourceTensor.clone().detach().requires_grad_(True), rather than torch.tensor(sourceTensor).\n",
      "  \"inputs_embeds\": torch.tensor(self.tokenized_inputs[idx]),\n",
      "C:\\Users\\Kowsher\\AppData\\Local\\Temp\\ipykernel_13080\\2303645629.py:19: UserWarning: To copy construct from a tensor, it is recommended to use sourceTensor.clone().detach() or sourceTensor.clone().detach().requires_grad_(True), rather than torch.tensor(sourceTensor).\n",
      "  \"labels_ids\": torch.tensor(self.labels[idx]),\n"
     ]
    },
    {
     "name": "stdout",
     "output_type": "stream",
     "text": [
      "{'loss': 0.4276, 'learning_rate': 4.0610328638497654e-05, 'epoch': 28.17}\n",
      "{'eval_loss': 0.2767968799673516, 'eval_r2_score': 0.363774659860574, 'eval_mse': 0.27679687996735164, 'eval_runtime': 5.3327, 'eval_samples_per_second': 276.035, 'eval_steps_per_second': 4.313, 'epoch': 28.17}\n"
     ]
    },
    {
     "name": "stderr",
     "output_type": "stream",
     "text": [
      "C:\\Users\\Kowsher\\AppData\\Local\\Temp\\ipykernel_13080\\2303645629.py:18: UserWarning: To copy construct from a tensor, it is recommended to use sourceTensor.clone().detach() or sourceTensor.clone().detach().requires_grad_(True), rather than torch.tensor(sourceTensor).\n",
      "  \"inputs_embeds\": torch.tensor(self.tokenized_inputs[idx]),\n",
      "C:\\Users\\Kowsher\\AppData\\Local\\Temp\\ipykernel_13080\\2303645629.py:19: UserWarning: To copy construct from a tensor, it is recommended to use sourceTensor.clone().detach() or sourceTensor.clone().detach().requires_grad_(True), rather than torch.tensor(sourceTensor).\n",
      "  \"labels_ids\": torch.tensor(self.labels[idx]),\n"
     ]
    },
    {
     "name": "stdout",
     "output_type": "stream",
     "text": [
      "{'loss': 0.4106, 'learning_rate': 4.037558685446009e-05, 'epoch': 28.87}\n",
      "{'eval_loss': 0.28169648376442036, 'eval_r2_score': 0.3525127840305208, 'eval_mse': 0.28169648376442036, 'eval_runtime': 5.3207, 'eval_samples_per_second': 276.656, 'eval_steps_per_second': 4.323, 'epoch': 28.87}\n"
     ]
    },
    {
     "name": "stderr",
     "output_type": "stream",
     "text": [
      "C:\\Users\\Kowsher\\AppData\\Local\\Temp\\ipykernel_13080\\2303645629.py:18: UserWarning: To copy construct from a tensor, it is recommended to use sourceTensor.clone().detach() or sourceTensor.clone().detach().requires_grad_(True), rather than torch.tensor(sourceTensor).\n",
      "  \"inputs_embeds\": torch.tensor(self.tokenized_inputs[idx]),\n",
      "C:\\Users\\Kowsher\\AppData\\Local\\Temp\\ipykernel_13080\\2303645629.py:19: UserWarning: To copy construct from a tensor, it is recommended to use sourceTensor.clone().detach() or sourceTensor.clone().detach().requires_grad_(True), rather than torch.tensor(sourceTensor).\n",
      "  \"labels_ids\": torch.tensor(self.labels[idx]),\n"
     ]
    },
    {
     "name": "stdout",
     "output_type": "stream",
     "text": [
      "{'loss': 0.4726, 'learning_rate': 4.014084507042254e-05, 'epoch': 29.58}\n",
      "{'eval_loss': 0.2743190761483141, 'eval_r2_score': 0.36946996097000806, 'eval_mse': 0.2743190761483141, 'eval_runtime': 5.2836, 'eval_samples_per_second': 278.6, 'eval_steps_per_second': 4.353, 'epoch': 29.58}\n"
     ]
    },
    {
     "name": "stderr",
     "output_type": "stream",
     "text": [
      "C:\\Users\\Kowsher\\AppData\\Local\\Temp\\ipykernel_13080\\2303645629.py:18: UserWarning: To copy construct from a tensor, it is recommended to use sourceTensor.clone().detach() or sourceTensor.clone().detach().requires_grad_(True), rather than torch.tensor(sourceTensor).\n",
      "  \"inputs_embeds\": torch.tensor(self.tokenized_inputs[idx]),\n",
      "C:\\Users\\Kowsher\\AppData\\Local\\Temp\\ipykernel_13080\\2303645629.py:19: UserWarning: To copy construct from a tensor, it is recommended to use sourceTensor.clone().detach() or sourceTensor.clone().detach().requires_grad_(True), rather than torch.tensor(sourceTensor).\n",
      "  \"labels_ids\": torch.tensor(self.labels[idx]),\n"
     ]
    },
    {
     "name": "stdout",
     "output_type": "stream",
     "text": [
      "{'loss': 0.4544, 'learning_rate': 3.990610328638498e-05, 'epoch': 30.28}\n",
      "{'eval_loss': 0.27072337005537506, 'eval_r2_score': 0.37773479160065415, 'eval_mse': 0.2707233700553752, 'eval_runtime': 5.299, 'eval_samples_per_second': 277.789, 'eval_steps_per_second': 4.34, 'epoch': 30.28}\n"
     ]
    },
    {
     "name": "stderr",
     "output_type": "stream",
     "text": [
      "C:\\Users\\Kowsher\\AppData\\Local\\Temp\\ipykernel_13080\\2303645629.py:18: UserWarning: To copy construct from a tensor, it is recommended to use sourceTensor.clone().detach() or sourceTensor.clone().detach().requires_grad_(True), rather than torch.tensor(sourceTensor).\n",
      "  \"inputs_embeds\": torch.tensor(self.tokenized_inputs[idx]),\n",
      "C:\\Users\\Kowsher\\AppData\\Local\\Temp\\ipykernel_13080\\2303645629.py:19: UserWarning: To copy construct from a tensor, it is recommended to use sourceTensor.clone().detach() or sourceTensor.clone().detach().requires_grad_(True), rather than torch.tensor(sourceTensor).\n",
      "  \"labels_ids\": torch.tensor(self.labels[idx]),\n"
     ]
    },
    {
     "name": "stdout",
     "output_type": "stream",
     "text": [
      "{'loss': 0.3934, 'learning_rate': 3.967136150234742e-05, 'epoch': 30.99}\n",
      "{'eval_loss': 0.2830296673212991, 'eval_r2_score': 0.34944842448266955, 'eval_mse': 0.28302966732129897, 'eval_runtime': 5.2714, 'eval_samples_per_second': 279.245, 'eval_steps_per_second': 4.363, 'epoch': 30.99}\n"
     ]
    },
    {
     "name": "stderr",
     "output_type": "stream",
     "text": [
      "C:\\Users\\Kowsher\\AppData\\Local\\Temp\\ipykernel_13080\\2303645629.py:18: UserWarning: To copy construct from a tensor, it is recommended to use sourceTensor.clone().detach() or sourceTensor.clone().detach().requires_grad_(True), rather than torch.tensor(sourceTensor).\n",
      "  \"inputs_embeds\": torch.tensor(self.tokenized_inputs[idx]),\n",
      "C:\\Users\\Kowsher\\AppData\\Local\\Temp\\ipykernel_13080\\2303645629.py:19: UserWarning: To copy construct from a tensor, it is recommended to use sourceTensor.clone().detach() or sourceTensor.clone().detach().requires_grad_(True), rather than torch.tensor(sourceTensor).\n",
      "  \"labels_ids\": torch.tensor(self.labels[idx]),\n"
     ]
    },
    {
     "name": "stdout",
     "output_type": "stream",
     "text": [
      "{'loss': 0.4666, 'learning_rate': 3.943661971830986e-05, 'epoch': 31.69}\n",
      "{'eval_loss': 0.27278378331243813, 'eval_r2_score': 0.3729988743263797, 'eval_mse': 0.27278378331243813, 'eval_runtime': 5.2296, 'eval_samples_per_second': 281.475, 'eval_steps_per_second': 4.398, 'epoch': 31.69}\n"
     ]
    },
    {
     "name": "stderr",
     "output_type": "stream",
     "text": [
      "C:\\Users\\Kowsher\\AppData\\Local\\Temp\\ipykernel_13080\\2303645629.py:18: UserWarning: To copy construct from a tensor, it is recommended to use sourceTensor.clone().detach() or sourceTensor.clone().detach().requires_grad_(True), rather than torch.tensor(sourceTensor).\n",
      "  \"inputs_embeds\": torch.tensor(self.tokenized_inputs[idx]),\n",
      "C:\\Users\\Kowsher\\AppData\\Local\\Temp\\ipykernel_13080\\2303645629.py:19: UserWarning: To copy construct from a tensor, it is recommended to use sourceTensor.clone().detach() or sourceTensor.clone().detach().requires_grad_(True), rather than torch.tensor(sourceTensor).\n",
      "  \"labels_ids\": torch.tensor(self.labels[idx]),\n"
     ]
    },
    {
     "name": "stdout",
     "output_type": "stream",
     "text": [
      "{'loss': 0.446, 'learning_rate': 3.9201877934272305e-05, 'epoch': 32.39}\n",
      "{'eval_loss': 0.27169580796688175, 'eval_r2_score': 0.3754996159690295, 'eval_mse': 0.27169580796688186, 'eval_runtime': 5.1213, 'eval_samples_per_second': 287.427, 'eval_steps_per_second': 4.491, 'epoch': 32.39}\n"
     ]
    },
    {
     "name": "stderr",
     "output_type": "stream",
     "text": [
      "C:\\Users\\Kowsher\\AppData\\Local\\Temp\\ipykernel_13080\\2303645629.py:18: UserWarning: To copy construct from a tensor, it is recommended to use sourceTensor.clone().detach() or sourceTensor.clone().detach().requires_grad_(True), rather than torch.tensor(sourceTensor).\n",
      "  \"inputs_embeds\": torch.tensor(self.tokenized_inputs[idx]),\n",
      "C:\\Users\\Kowsher\\AppData\\Local\\Temp\\ipykernel_13080\\2303645629.py:19: UserWarning: To copy construct from a tensor, it is recommended to use sourceTensor.clone().detach() or sourceTensor.clone().detach().requires_grad_(True), rather than torch.tensor(sourceTensor).\n",
      "  \"labels_ids\": torch.tensor(self.labels[idx]),\n"
     ]
    },
    {
     "name": "stdout",
     "output_type": "stream",
     "text": [
      "{'loss': 0.3875, 'learning_rate': 3.8967136150234744e-05, 'epoch': 33.1}\n",
      "{'eval_loss': 0.278027678368631, 'eval_r2_score': 0.3609456354453081, 'eval_mse': 0.27802767836863107, 'eval_runtime': 5.2231, 'eval_samples_per_second': 281.827, 'eval_steps_per_second': 4.404, 'epoch': 33.1}\n"
     ]
    },
    {
     "name": "stderr",
     "output_type": "stream",
     "text": [
      "C:\\Users\\Kowsher\\AppData\\Local\\Temp\\ipykernel_13080\\2303645629.py:18: UserWarning: To copy construct from a tensor, it is recommended to use sourceTensor.clone().detach() or sourceTensor.clone().detach().requires_grad_(True), rather than torch.tensor(sourceTensor).\n",
      "  \"inputs_embeds\": torch.tensor(self.tokenized_inputs[idx]),\n",
      "C:\\Users\\Kowsher\\AppData\\Local\\Temp\\ipykernel_13080\\2303645629.py:19: UserWarning: To copy construct from a tensor, it is recommended to use sourceTensor.clone().detach() or sourceTensor.clone().detach().requires_grad_(True), rather than torch.tensor(sourceTensor).\n",
      "  \"labels_ids\": torch.tensor(self.labels[idx]),\n"
     ]
    },
    {
     "name": "stdout",
     "output_type": "stream",
     "text": [
      "{'loss': 0.4309, 'learning_rate': 3.8732394366197184e-05, 'epoch': 33.8}\n",
      "{'eval_loss': 0.27514320274662435, 'eval_r2_score': 0.367575683023704, 'eval_mse': 0.2751432027466244, 'eval_runtime': 5.3271, 'eval_samples_per_second': 276.325, 'eval_steps_per_second': 4.318, 'epoch': 33.8}\n"
     ]
    },
    {
     "name": "stderr",
     "output_type": "stream",
     "text": [
      "C:\\Users\\Kowsher\\AppData\\Local\\Temp\\ipykernel_13080\\2303645629.py:18: UserWarning: To copy construct from a tensor, it is recommended to use sourceTensor.clone().detach() or sourceTensor.clone().detach().requires_grad_(True), rather than torch.tensor(sourceTensor).\n",
      "  \"inputs_embeds\": torch.tensor(self.tokenized_inputs[idx]),\n",
      "C:\\Users\\Kowsher\\AppData\\Local\\Temp\\ipykernel_13080\\2303645629.py:19: UserWarning: To copy construct from a tensor, it is recommended to use sourceTensor.clone().detach() or sourceTensor.clone().detach().requires_grad_(True), rather than torch.tensor(sourceTensor).\n",
      "  \"labels_ids\": torch.tensor(self.labels[idx]),\n"
     ]
    },
    {
     "name": "stdout",
     "output_type": "stream",
     "text": [
      "{'loss': 0.4557, 'learning_rate': 3.8497652582159623e-05, 'epoch': 34.51}\n",
      "{'eval_loss': 0.2734626925967407, 'eval_r2_score': 0.37143838242206295, 'eval_mse': 0.27346269259674066, 'eval_runtime': 5.1439, 'eval_samples_per_second': 286.163, 'eval_steps_per_second': 4.471, 'epoch': 34.51}\n"
     ]
    },
    {
     "name": "stderr",
     "output_type": "stream",
     "text": [
      "C:\\Users\\Kowsher\\AppData\\Local\\Temp\\ipykernel_13080\\2303645629.py:18: UserWarning: To copy construct from a tensor, it is recommended to use sourceTensor.clone().detach() or sourceTensor.clone().detach().requires_grad_(True), rather than torch.tensor(sourceTensor).\n",
      "  \"inputs_embeds\": torch.tensor(self.tokenized_inputs[idx]),\n",
      "C:\\Users\\Kowsher\\AppData\\Local\\Temp\\ipykernel_13080\\2303645629.py:19: UserWarning: To copy construct from a tensor, it is recommended to use sourceTensor.clone().detach() or sourceTensor.clone().detach().requires_grad_(True), rather than torch.tensor(sourceTensor).\n",
      "  \"labels_ids\": torch.tensor(self.labels[idx]),\n"
     ]
    },
    {
     "name": "stdout",
     "output_type": "stream",
     "text": [
      "{'loss': 0.414, 'learning_rate': 3.826291079812207e-05, 'epoch': 35.21}\n",
      "{'eval_loss': 0.2726511935189537, 'eval_r2_score': 0.3733036356606424, 'eval_mse': 0.2726511935189538, 'eval_runtime': 5.3791, 'eval_samples_per_second': 273.654, 'eval_steps_per_second': 4.276, 'epoch': 35.21}\n"
     ]
    },
    {
     "name": "stderr",
     "output_type": "stream",
     "text": [
      "C:\\Users\\Kowsher\\AppData\\Local\\Temp\\ipykernel_13080\\2303645629.py:18: UserWarning: To copy construct from a tensor, it is recommended to use sourceTensor.clone().detach() or sourceTensor.clone().detach().requires_grad_(True), rather than torch.tensor(sourceTensor).\n",
      "  \"inputs_embeds\": torch.tensor(self.tokenized_inputs[idx]),\n",
      "C:\\Users\\Kowsher\\AppData\\Local\\Temp\\ipykernel_13080\\2303645629.py:19: UserWarning: To copy construct from a tensor, it is recommended to use sourceTensor.clone().detach() or sourceTensor.clone().detach().requires_grad_(True), rather than torch.tensor(sourceTensor).\n",
      "  \"labels_ids\": torch.tensor(self.labels[idx]),\n"
     ]
    },
    {
     "name": "stdout",
     "output_type": "stream",
     "text": [
      "{'loss': 0.3784, 'learning_rate': 3.802816901408451e-05, 'epoch': 35.92}\n",
      "{'eval_loss': 0.27985558702722924, 'eval_r2_score': 0.3567441364681606, 'eval_mse': 0.2798555870272293, 'eval_runtime': 5.2242, 'eval_samples_per_second': 281.764, 'eval_steps_per_second': 4.403, 'epoch': 35.92}\n"
     ]
    },
    {
     "name": "stderr",
     "output_type": "stream",
     "text": [
      "C:\\Users\\Kowsher\\AppData\\Local\\Temp\\ipykernel_13080\\2303645629.py:18: UserWarning: To copy construct from a tensor, it is recommended to use sourceTensor.clone().detach() or sourceTensor.clone().detach().requires_grad_(True), rather than torch.tensor(sourceTensor).\n",
      "  \"inputs_embeds\": torch.tensor(self.tokenized_inputs[idx]),\n",
      "C:\\Users\\Kowsher\\AppData\\Local\\Temp\\ipykernel_13080\\2303645629.py:19: UserWarning: To copy construct from a tensor, it is recommended to use sourceTensor.clone().detach() or sourceTensor.clone().detach().requires_grad_(True), rather than torch.tensor(sourceTensor).\n",
      "  \"labels_ids\": torch.tensor(self.labels[idx]),\n"
     ]
    },
    {
     "name": "stdout",
     "output_type": "stream",
     "text": [
      "{'loss': 0.4548, 'learning_rate': 3.779342723004695e-05, 'epoch': 36.62}\n",
      "{'eval_loss': 0.27259897032292885, 'eval_r2_score': 0.3734236721316393, 'eval_mse': 0.27259897032292874, 'eval_runtime': 5.2373, 'eval_samples_per_second': 281.061, 'eval_steps_per_second': 4.392, 'epoch': 36.62}\n"
     ]
    },
    {
     "name": "stderr",
     "output_type": "stream",
     "text": [
      "C:\\Users\\Kowsher\\AppData\\Local\\Temp\\ipykernel_13080\\2303645629.py:18: UserWarning: To copy construct from a tensor, it is recommended to use sourceTensor.clone().detach() or sourceTensor.clone().detach().requires_grad_(True), rather than torch.tensor(sourceTensor).\n",
      "  \"inputs_embeds\": torch.tensor(self.tokenized_inputs[idx]),\n",
      "C:\\Users\\Kowsher\\AppData\\Local\\Temp\\ipykernel_13080\\2303645629.py:19: UserWarning: To copy construct from a tensor, it is recommended to use sourceTensor.clone().detach() or sourceTensor.clone().detach().requires_grad_(True), rather than torch.tensor(sourceTensor).\n",
      "  \"labels_ids\": torch.tensor(self.labels[idx]),\n"
     ]
    },
    {
     "name": "stdout",
     "output_type": "stream",
     "text": [
      "{'loss': 0.4151, 'learning_rate': 3.755868544600939e-05, 'epoch': 37.32}\n",
      "{'eval_loss': 0.271008550299206, 'eval_r2_score': 0.3770792968651149, 'eval_mse': 0.271008550299206, 'eval_runtime': 5.1992, 'eval_samples_per_second': 283.121, 'eval_steps_per_second': 4.424, 'epoch': 37.32}\n"
     ]
    },
    {
     "name": "stderr",
     "output_type": "stream",
     "text": [
      "C:\\Users\\Kowsher\\AppData\\Local\\Temp\\ipykernel_13080\\2303645629.py:18: UserWarning: To copy construct from a tensor, it is recommended to use sourceTensor.clone().detach() or sourceTensor.clone().detach().requires_grad_(True), rather than torch.tensor(sourceTensor).\n",
      "  \"inputs_embeds\": torch.tensor(self.tokenized_inputs[idx]),\n",
      "C:\\Users\\Kowsher\\AppData\\Local\\Temp\\ipykernel_13080\\2303645629.py:19: UserWarning: To copy construct from a tensor, it is recommended to use sourceTensor.clone().detach() or sourceTensor.clone().detach().requires_grad_(True), rather than torch.tensor(sourceTensor).\n",
      "  \"labels_ids\": torch.tensor(self.labels[idx]),\n"
     ]
    },
    {
     "name": "stdout",
     "output_type": "stream",
     "text": [
      "{'loss': 0.3846, 'learning_rate': 3.7323943661971835e-05, 'epoch': 38.03}\n",
      "{'eval_loss': 0.27661205017621104, 'eval_r2_score': 0.3641994962848508, 'eval_mse': 0.27661205017621104, 'eval_runtime': 5.13, 'eval_samples_per_second': 286.941, 'eval_steps_per_second': 4.483, 'epoch': 38.03}\n"
     ]
    },
    {
     "name": "stderr",
     "output_type": "stream",
     "text": [
      "C:\\Users\\Kowsher\\AppData\\Local\\Temp\\ipykernel_13080\\2303645629.py:18: UserWarning: To copy construct from a tensor, it is recommended to use sourceTensor.clone().detach() or sourceTensor.clone().detach().requires_grad_(True), rather than torch.tensor(sourceTensor).\n",
      "  \"inputs_embeds\": torch.tensor(self.tokenized_inputs[idx]),\n",
      "C:\\Users\\Kowsher\\AppData\\Local\\Temp\\ipykernel_13080\\2303645629.py:19: UserWarning: To copy construct from a tensor, it is recommended to use sourceTensor.clone().detach() or sourceTensor.clone().detach().requires_grad_(True), rather than torch.tensor(sourceTensor).\n",
      "  \"labels_ids\": torch.tensor(self.labels[idx]),\n"
     ]
    },
    {
     "name": "stdout",
     "output_type": "stream",
     "text": [
      "{'loss': 0.427, 'learning_rate': 3.7089201877934274e-05, 'epoch': 38.73}\n",
      "{'eval_loss': 0.2713965978023061, 'eval_r2_score': 0.37618735886827315, 'eval_mse': 0.2713965978023061, 'eval_runtime': 5.2173, 'eval_samples_per_second': 282.139, 'eval_steps_per_second': 4.408, 'epoch': 38.73}\n"
     ]
    },
    {
     "name": "stderr",
     "output_type": "stream",
     "text": [
      "C:\\Users\\Kowsher\\AppData\\Local\\Temp\\ipykernel_13080\\2303645629.py:18: UserWarning: To copy construct from a tensor, it is recommended to use sourceTensor.clone().detach() or sourceTensor.clone().detach().requires_grad_(True), rather than torch.tensor(sourceTensor).\n",
      "  \"inputs_embeds\": torch.tensor(self.tokenized_inputs[idx]),\n",
      "C:\\Users\\Kowsher\\AppData\\Local\\Temp\\ipykernel_13080\\2303645629.py:19: UserWarning: To copy construct from a tensor, it is recommended to use sourceTensor.clone().detach() or sourceTensor.clone().detach().requires_grad_(True), rather than torch.tensor(sourceTensor).\n",
      "  \"labels_ids\": torch.tensor(self.labels[idx]),\n"
     ]
    },
    {
     "name": "stdout",
     "output_type": "stream",
     "text": [
      "{'loss': 0.4269, 'learning_rate': 3.6854460093896714e-05, 'epoch': 39.44}\n",
      "{'eval_loss': 0.27173059862850046, 'eval_r2_score': 0.3754196486640343, 'eval_mse': 0.2717305986285006, 'eval_runtime': 5.1812, 'eval_samples_per_second': 284.101, 'eval_steps_per_second': 4.439, 'epoch': 39.44}\n"
     ]
    },
    {
     "name": "stderr",
     "output_type": "stream",
     "text": [
      "C:\\Users\\Kowsher\\AppData\\Local\\Temp\\ipykernel_13080\\2303645629.py:18: UserWarning: To copy construct from a tensor, it is recommended to use sourceTensor.clone().detach() or sourceTensor.clone().detach().requires_grad_(True), rather than torch.tensor(sourceTensor).\n",
      "  \"inputs_embeds\": torch.tensor(self.tokenized_inputs[idx]),\n",
      "C:\\Users\\Kowsher\\AppData\\Local\\Temp\\ipykernel_13080\\2303645629.py:19: UserWarning: To copy construct from a tensor, it is recommended to use sourceTensor.clone().detach() or sourceTensor.clone().detach().requires_grad_(True), rather than torch.tensor(sourceTensor).\n",
      "  \"labels_ids\": torch.tensor(self.labels[idx]),\n"
     ]
    },
    {
     "name": "stdout",
     "output_type": "stream",
     "text": [
      "{'loss': 0.3724, 'learning_rate': 3.661971830985916e-05, 'epoch': 40.14}\n",
      "{'eval_loss': 0.2730443169675596, 'eval_r2_score': 0.3724000304616406, 'eval_mse': 0.27304431696755954, 'eval_runtime': 5.4035, 'eval_samples_per_second': 272.415, 'eval_steps_per_second': 4.256, 'epoch': 40.14}\n"
     ]
    },
    {
     "name": "stderr",
     "output_type": "stream",
     "text": [
      "C:\\Users\\Kowsher\\AppData\\Local\\Temp\\ipykernel_13080\\2303645629.py:18: UserWarning: To copy construct from a tensor, it is recommended to use sourceTensor.clone().detach() or sourceTensor.clone().detach().requires_grad_(True), rather than torch.tensor(sourceTensor).\n",
      "  \"inputs_embeds\": torch.tensor(self.tokenized_inputs[idx]),\n",
      "C:\\Users\\Kowsher\\AppData\\Local\\Temp\\ipykernel_13080\\2303645629.py:19: UserWarning: To copy construct from a tensor, it is recommended to use sourceTensor.clone().detach() or sourceTensor.clone().detach().requires_grad_(True), rather than torch.tensor(sourceTensor).\n",
      "  \"labels_ids\": torch.tensor(self.labels[idx]),\n"
     ]
    },
    {
     "name": "stdout",
     "output_type": "stream",
     "text": [
      "{'loss': 0.4041, 'learning_rate': 3.638497652582159e-05, 'epoch': 40.85}\n",
      "{'eval_loss': 0.27372010008524794, 'eval_r2_score': 0.37084672413838105, 'eval_mse': 0.273720100085248, 'eval_runtime': 5.1381, 'eval_samples_per_second': 286.488, 'eval_steps_per_second': 4.476, 'epoch': 40.85}\n"
     ]
    },
    {
     "name": "stderr",
     "output_type": "stream",
     "text": [
      "C:\\Users\\Kowsher\\AppData\\Local\\Temp\\ipykernel_13080\\2303645629.py:18: UserWarning: To copy construct from a tensor, it is recommended to use sourceTensor.clone().detach() or sourceTensor.clone().detach().requires_grad_(True), rather than torch.tensor(sourceTensor).\n",
      "  \"inputs_embeds\": torch.tensor(self.tokenized_inputs[idx]),\n",
      "C:\\Users\\Kowsher\\AppData\\Local\\Temp\\ipykernel_13080\\2303645629.py:19: UserWarning: To copy construct from a tensor, it is recommended to use sourceTensor.clone().detach() or sourceTensor.clone().detach().requires_grad_(True), rather than torch.tensor(sourceTensor).\n",
      "  \"labels_ids\": torch.tensor(self.labels[idx]),\n"
     ]
    },
    {
     "name": "stdout",
     "output_type": "stream",
     "text": [
      "{'loss': 0.4295, 'learning_rate': 3.615023474178404e-05, 'epoch': 41.55}\n",
      "{'eval_loss': 0.2723255690427374, 'eval_r2_score': 0.3740520925910923, 'eval_mse': 0.27232556904273747, 'eval_runtime': 5.0962, 'eval_samples_per_second': 288.842, 'eval_steps_per_second': 4.513, 'epoch': 41.55}\n"
     ]
    },
    {
     "name": "stderr",
     "output_type": "stream",
     "text": [
      "C:\\Users\\Kowsher\\AppData\\Local\\Temp\\ipykernel_13080\\2303645629.py:18: UserWarning: To copy construct from a tensor, it is recommended to use sourceTensor.clone().detach() or sourceTensor.clone().detach().requires_grad_(True), rather than torch.tensor(sourceTensor).\n",
      "  \"inputs_embeds\": torch.tensor(self.tokenized_inputs[idx]),\n",
      "C:\\Users\\Kowsher\\AppData\\Local\\Temp\\ipykernel_13080\\2303645629.py:19: UserWarning: To copy construct from a tensor, it is recommended to use sourceTensor.clone().detach() or sourceTensor.clone().detach().requires_grad_(True), rather than torch.tensor(sourceTensor).\n",
      "  \"labels_ids\": torch.tensor(self.labels[idx]),\n"
     ]
    },
    {
     "name": "stdout",
     "output_type": "stream",
     "text": [
      "{'loss': 0.3904, 'learning_rate': 3.5915492957746486e-05, 'epoch': 42.25}\n",
      "{'eval_loss': 0.26994440785625523, 'eval_r2_score': 0.37952525791714364, 'eval_mse': 0.2699444078562552, 'eval_runtime': 5.1174, 'eval_samples_per_second': 287.645, 'eval_steps_per_second': 4.494, 'epoch': 42.25}\n"
     ]
    },
    {
     "name": "stderr",
     "output_type": "stream",
     "text": [
      "C:\\Users\\Kowsher\\AppData\\Local\\Temp\\ipykernel_13080\\2303645629.py:18: UserWarning: To copy construct from a tensor, it is recommended to use sourceTensor.clone().detach() or sourceTensor.clone().detach().requires_grad_(True), rather than torch.tensor(sourceTensor).\n",
      "  \"inputs_embeds\": torch.tensor(self.tokenized_inputs[idx]),\n",
      "C:\\Users\\Kowsher\\AppData\\Local\\Temp\\ipykernel_13080\\2303645629.py:19: UserWarning: To copy construct from a tensor, it is recommended to use sourceTensor.clone().detach() or sourceTensor.clone().detach().requires_grad_(True), rather than torch.tensor(sourceTensor).\n",
      "  \"labels_ids\": torch.tensor(self.labels[idx]),\n"
     ]
    },
    {
     "name": "stdout",
     "output_type": "stream",
     "text": [
      "{'loss': 0.3831, 'learning_rate': 3.568075117370892e-05, 'epoch': 42.96}\n",
      "{'eval_loss': 0.2743817631420633, 'eval_r2_score': 0.369325873168422, 'eval_mse': 0.2743817631420632, 'eval_runtime': 5.3115, 'eval_samples_per_second': 277.135, 'eval_steps_per_second': 4.33, 'epoch': 42.96}\n"
     ]
    },
    {
     "name": "stderr",
     "output_type": "stream",
     "text": [
      "C:\\Users\\Kowsher\\AppData\\Local\\Temp\\ipykernel_13080\\2303645629.py:18: UserWarning: To copy construct from a tensor, it is recommended to use sourceTensor.clone().detach() or sourceTensor.clone().detach().requires_grad_(True), rather than torch.tensor(sourceTensor).\n",
      "  \"inputs_embeds\": torch.tensor(self.tokenized_inputs[idx]),\n",
      "C:\\Users\\Kowsher\\AppData\\Local\\Temp\\ipykernel_13080\\2303645629.py:19: UserWarning: To copy construct from a tensor, it is recommended to use sourceTensor.clone().detach() or sourceTensor.clone().detach().requires_grad_(True), rather than torch.tensor(sourceTensor).\n",
      "  \"labels_ids\": torch.tensor(self.labels[idx]),\n"
     ]
    },
    {
     "name": "stdout",
     "output_type": "stream",
     "text": [
      "{'loss': 0.418, 'learning_rate': 3.5446009389671365e-05, 'epoch': 43.66}\n",
      "{'eval_loss': 0.2700649511308992, 'eval_r2_score': 0.37924818584205, 'eval_mse': 0.2700649511308993, 'eval_runtime': 5.3059, 'eval_samples_per_second': 277.429, 'eval_steps_per_second': 4.335, 'epoch': 43.66}\n"
     ]
    },
    {
     "name": "stderr",
     "output_type": "stream",
     "text": [
      "C:\\Users\\Kowsher\\AppData\\Local\\Temp\\ipykernel_13080\\2303645629.py:18: UserWarning: To copy construct from a tensor, it is recommended to use sourceTensor.clone().detach() or sourceTensor.clone().detach().requires_grad_(True), rather than torch.tensor(sourceTensor).\n",
      "  \"inputs_embeds\": torch.tensor(self.tokenized_inputs[idx]),\n",
      "C:\\Users\\Kowsher\\AppData\\Local\\Temp\\ipykernel_13080\\2303645629.py:19: UserWarning: To copy construct from a tensor, it is recommended to use sourceTensor.clone().detach() or sourceTensor.clone().detach().requires_grad_(True), rather than torch.tensor(sourceTensor).\n",
      "  \"labels_ids\": torch.tensor(self.labels[idx]),\n"
     ]
    },
    {
     "name": "stdout",
     "output_type": "stream",
     "text": [
      "{'loss': 0.4097, 'learning_rate': 3.5211267605633805e-05, 'epoch': 44.37}\n",
      "{'eval_loss': 0.2705553738699233, 'eval_r2_score': 0.37812093551327264, 'eval_mse': 0.27055537386992345, 'eval_runtime': 5.2839, 'eval_samples_per_second': 278.582, 'eval_steps_per_second': 4.353, 'epoch': 44.37}\n"
     ]
    },
    {
     "name": "stderr",
     "output_type": "stream",
     "text": [
      "C:\\Users\\Kowsher\\AppData\\Local\\Temp\\ipykernel_13080\\2303645629.py:18: UserWarning: To copy construct from a tensor, it is recommended to use sourceTensor.clone().detach() or sourceTensor.clone().detach().requires_grad_(True), rather than torch.tensor(sourceTensor).\n",
      "  \"inputs_embeds\": torch.tensor(self.tokenized_inputs[idx]),\n",
      "C:\\Users\\Kowsher\\AppData\\Local\\Temp\\ipykernel_13080\\2303645629.py:19: UserWarning: To copy construct from a tensor, it is recommended to use sourceTensor.clone().detach() or sourceTensor.clone().detach().requires_grad_(True), rather than torch.tensor(sourceTensor).\n",
      "  \"labels_ids\": torch.tensor(self.labels[idx]),\n"
     ]
    },
    {
     "name": "stdout",
     "output_type": "stream",
     "text": [
      "{'loss': 0.3585, 'learning_rate': 3.4976525821596244e-05, 'epoch': 45.07}\n",
      "{'eval_loss': 0.27189315350885346, 'eval_r2_score': 0.37504601174277974, 'eval_mse': 0.2718931535088535, 'eval_runtime': 5.3561, 'eval_samples_per_second': 274.826, 'eval_steps_per_second': 4.294, 'epoch': 45.07}\n"
     ]
    },
    {
     "name": "stderr",
     "output_type": "stream",
     "text": [
      "C:\\Users\\Kowsher\\AppData\\Local\\Temp\\ipykernel_13080\\2303645629.py:18: UserWarning: To copy construct from a tensor, it is recommended to use sourceTensor.clone().detach() or sourceTensor.clone().detach().requires_grad_(True), rather than torch.tensor(sourceTensor).\n",
      "  \"inputs_embeds\": torch.tensor(self.tokenized_inputs[idx]),\n",
      "C:\\Users\\Kowsher\\AppData\\Local\\Temp\\ipykernel_13080\\2303645629.py:19: UserWarning: To copy construct from a tensor, it is recommended to use sourceTensor.clone().detach() or sourceTensor.clone().detach().requires_grad_(True), rather than torch.tensor(sourceTensor).\n",
      "  \"labels_ids\": torch.tensor(self.labels[idx]),\n"
     ]
    },
    {
     "name": "stdout",
     "output_type": "stream",
     "text": [
      "{'loss': 0.4073, 'learning_rate': 3.474178403755869e-05, 'epoch': 45.77}\n",
      "{'eval_loss': 0.26967296864119095, 'eval_r2_score': 0.38014916851523917, 'eval_mse': 0.2696729686411909, 'eval_runtime': 5.2183, 'eval_samples_per_second': 282.083, 'eval_steps_per_second': 4.408, 'epoch': 45.77}\n"
     ]
    },
    {
     "name": "stderr",
     "output_type": "stream",
     "text": [
      "C:\\Users\\Kowsher\\AppData\\Local\\Temp\\ipykernel_13080\\2303645629.py:18: UserWarning: To copy construct from a tensor, it is recommended to use sourceTensor.clone().detach() or sourceTensor.clone().detach().requires_grad_(True), rather than torch.tensor(sourceTensor).\n",
      "  \"inputs_embeds\": torch.tensor(self.tokenized_inputs[idx]),\n",
      "C:\\Users\\Kowsher\\AppData\\Local\\Temp\\ipykernel_13080\\2303645629.py:19: UserWarning: To copy construct from a tensor, it is recommended to use sourceTensor.clone().detach() or sourceTensor.clone().detach().requires_grad_(True), rather than torch.tensor(sourceTensor).\n",
      "  \"labels_ids\": torch.tensor(self.labels[idx]),\n"
     ]
    },
    {
     "name": "stdout",
     "output_type": "stream",
     "text": [
      "{'loss': 0.4156, 'learning_rate': 3.450704225352113e-05, 'epoch': 46.48}\n",
      "{'eval_loss': 0.271122676020373, 'eval_r2_score': 0.37681697571548056, 'eval_mse': 0.27112267602037315, 'eval_runtime': 5.3503, 'eval_samples_per_second': 275.122, 'eval_steps_per_second': 4.299, 'epoch': 46.48}\n"
     ]
    },
    {
     "name": "stderr",
     "output_type": "stream",
     "text": [
      "C:\\Users\\Kowsher\\AppData\\Local\\Temp\\ipykernel_13080\\2303645629.py:18: UserWarning: To copy construct from a tensor, it is recommended to use sourceTensor.clone().detach() or sourceTensor.clone().detach().requires_grad_(True), rather than torch.tensor(sourceTensor).\n",
      "  \"inputs_embeds\": torch.tensor(self.tokenized_inputs[idx]),\n",
      "C:\\Users\\Kowsher\\AppData\\Local\\Temp\\ipykernel_13080\\2303645629.py:19: UserWarning: To copy construct from a tensor, it is recommended to use sourceTensor.clone().detach() or sourceTensor.clone().detach().requires_grad_(True), rather than torch.tensor(sourceTensor).\n",
      "  \"labels_ids\": torch.tensor(self.labels[idx]),\n"
     ]
    },
    {
     "name": "stdout",
     "output_type": "stream",
     "text": [
      "{'loss': 0.3728, 'learning_rate': 3.427230046948357e-05, 'epoch': 47.18}\n",
      "{'eval_loss': 0.26936818168218724, 'eval_r2_score': 0.3808497298318446, 'eval_mse': 0.2693681816821872, 'eval_runtime': 5.2133, 'eval_samples_per_second': 282.354, 'eval_steps_per_second': 4.412, 'epoch': 47.18}\n"
     ]
    },
    {
     "name": "stderr",
     "output_type": "stream",
     "text": [
      "C:\\Users\\Kowsher\\AppData\\Local\\Temp\\ipykernel_13080\\2303645629.py:18: UserWarning: To copy construct from a tensor, it is recommended to use sourceTensor.clone().detach() or sourceTensor.clone().detach().requires_grad_(True), rather than torch.tensor(sourceTensor).\n",
      "  \"inputs_embeds\": torch.tensor(self.tokenized_inputs[idx]),\n",
      "C:\\Users\\Kowsher\\AppData\\Local\\Temp\\ipykernel_13080\\2303645629.py:19: UserWarning: To copy construct from a tensor, it is recommended to use sourceTensor.clone().detach() or sourceTensor.clone().detach().requires_grad_(True), rather than torch.tensor(sourceTensor).\n",
      "  \"labels_ids\": torch.tensor(self.labels[idx]),\n"
     ]
    },
    {
     "ename": "KeyboardInterrupt",
     "evalue": "",
     "output_type": "error",
     "traceback": [
      "\u001b[1;31m---------------------------------------------------------------------------\u001b[0m",
      "\u001b[1;31mKeyboardInterrupt\u001b[0m                         Traceback (most recent call last)",
      "Cell \u001b[1;32mIn[8], line 68\u001b[0m\n\u001b[0;32m     37\u001b[0m training_args \u001b[38;5;241m=\u001b[39m TrainingArguments(\n\u001b[0;32m     38\u001b[0m     output_dir\u001b[38;5;241m=\u001b[39m\u001b[38;5;124m'\u001b[39m\u001b[38;5;124m./results_task1\u001b[39m\u001b[38;5;124m'\u001b[39m,\n\u001b[0;32m     39\u001b[0m     num_train_epochs\u001b[38;5;241m=\u001b[39m\u001b[38;5;241m150\u001b[39m,\n\u001b[1;32m   (...)\u001b[0m\n\u001b[0;32m     56\u001b[0m     load_best_model_at_end\u001b[38;5;241m=\u001b[39m\u001b[38;5;28;01mTrue\u001b[39;00m,\n\u001b[0;32m     57\u001b[0m )\n\u001b[0;32m     59\u001b[0m trainer \u001b[38;5;241m=\u001b[39m CustomTrainer(\n\u001b[0;32m     60\u001b[0m     model\u001b[38;5;241m=\u001b[39mmodel,\n\u001b[0;32m     61\u001b[0m     args\u001b[38;5;241m=\u001b[39mtraining_args,\n\u001b[1;32m   (...)\u001b[0m\n\u001b[0;32m     65\u001b[0m     callbacks \u001b[38;5;241m=\u001b[39m [EarlyStoppingCallback(early_stopping_patience\u001b[38;5;241m=\u001b[39m\u001b[38;5;241m100\u001b[39m)]\n\u001b[0;32m     66\u001b[0m )\n\u001b[1;32m---> 68\u001b[0m trainer\u001b[38;5;241m.\u001b[39mtrain()\n",
      "File \u001b[1;32m~\\anaconda3\\Lib\\site-packages\\transformers\\trainer.py:1555\u001b[0m, in \u001b[0;36mTrainer.train\u001b[1;34m(self, resume_from_checkpoint, trial, ignore_keys_for_eval, **kwargs)\u001b[0m\n\u001b[0;32m   1553\u001b[0m         hf_hub_utils\u001b[38;5;241m.\u001b[39menable_progress_bars()\n\u001b[0;32m   1554\u001b[0m \u001b[38;5;28;01melse\u001b[39;00m:\n\u001b[1;32m-> 1555\u001b[0m     \u001b[38;5;28;01mreturn\u001b[39;00m inner_training_loop(\n\u001b[0;32m   1556\u001b[0m         args\u001b[38;5;241m=\u001b[39margs,\n\u001b[0;32m   1557\u001b[0m         resume_from_checkpoint\u001b[38;5;241m=\u001b[39mresume_from_checkpoint,\n\u001b[0;32m   1558\u001b[0m         trial\u001b[38;5;241m=\u001b[39mtrial,\n\u001b[0;32m   1559\u001b[0m         ignore_keys_for_eval\u001b[38;5;241m=\u001b[39mignore_keys_for_eval,\n\u001b[0;32m   1560\u001b[0m     )\n",
      "File \u001b[1;32m~\\anaconda3\\Lib\\site-packages\\transformers\\trainer.py:1837\u001b[0m, in \u001b[0;36mTrainer._inner_training_loop\u001b[1;34m(self, batch_size, args, resume_from_checkpoint, trial, ignore_keys_for_eval)\u001b[0m\n\u001b[0;32m   1834\u001b[0m     \u001b[38;5;28mself\u001b[39m\u001b[38;5;241m.\u001b[39mcontrol \u001b[38;5;241m=\u001b[39m \u001b[38;5;28mself\u001b[39m\u001b[38;5;241m.\u001b[39mcallback_handler\u001b[38;5;241m.\u001b[39mon_step_begin(args, \u001b[38;5;28mself\u001b[39m\u001b[38;5;241m.\u001b[39mstate, \u001b[38;5;28mself\u001b[39m\u001b[38;5;241m.\u001b[39mcontrol)\n\u001b[0;32m   1836\u001b[0m \u001b[38;5;28;01mwith\u001b[39;00m \u001b[38;5;28mself\u001b[39m\u001b[38;5;241m.\u001b[39maccelerator\u001b[38;5;241m.\u001b[39maccumulate(model):\n\u001b[1;32m-> 1837\u001b[0m     tr_loss_step \u001b[38;5;241m=\u001b[39m \u001b[38;5;28mself\u001b[39m\u001b[38;5;241m.\u001b[39mtraining_step(model, inputs)\n\u001b[0;32m   1839\u001b[0m \u001b[38;5;28;01mif\u001b[39;00m (\n\u001b[0;32m   1840\u001b[0m     args\u001b[38;5;241m.\u001b[39mlogging_nan_inf_filter\n\u001b[0;32m   1841\u001b[0m     \u001b[38;5;129;01mand\u001b[39;00m \u001b[38;5;129;01mnot\u001b[39;00m is_torch_tpu_available()\n\u001b[0;32m   1842\u001b[0m     \u001b[38;5;129;01mand\u001b[39;00m (torch\u001b[38;5;241m.\u001b[39misnan(tr_loss_step) \u001b[38;5;129;01mor\u001b[39;00m torch\u001b[38;5;241m.\u001b[39misinf(tr_loss_step))\n\u001b[0;32m   1843\u001b[0m ):\n\u001b[0;32m   1844\u001b[0m     \u001b[38;5;66;03m# if loss is nan or inf simply add the average of previous logged losses\u001b[39;00m\n\u001b[0;32m   1845\u001b[0m     tr_loss \u001b[38;5;241m+\u001b[39m\u001b[38;5;241m=\u001b[39m tr_loss \u001b[38;5;241m/\u001b[39m (\u001b[38;5;241m1\u001b[39m \u001b[38;5;241m+\u001b[39m \u001b[38;5;28mself\u001b[39m\u001b[38;5;241m.\u001b[39mstate\u001b[38;5;241m.\u001b[39mglobal_step \u001b[38;5;241m-\u001b[39m \u001b[38;5;28mself\u001b[39m\u001b[38;5;241m.\u001b[39m_globalstep_last_logged)\n",
      "Cell \u001b[1;32mIn[7], line 19\u001b[0m, in \u001b[0;36mCustomTrainer.training_step\u001b[1;34m(self, model, inputs)\u001b[0m\n\u001b[0;32m     16\u001b[0m     loss \u001b[38;5;241m=\u001b[39m loss\u001b[38;5;241m.\u001b[39mmean()  \u001b[38;5;66;03m# mean() to average on multi-gpu parallel training\u001b[39;00m\n\u001b[0;32m     18\u001b[0m loss \u001b[38;5;241m=\u001b[39m loss \u001b[38;5;241m/\u001b[39m \u001b[38;5;28mself\u001b[39m\u001b[38;5;241m.\u001b[39mgradient_accumulation_steps\n\u001b[1;32m---> 19\u001b[0m \u001b[38;5;28mself\u001b[39m\u001b[38;5;241m.\u001b[39mscaler\u001b[38;5;241m.\u001b[39mscale(loss)\u001b[38;5;241m.\u001b[39mbackward()\n\u001b[0;32m     21\u001b[0m \u001b[38;5;28;01mreturn\u001b[39;00m loss\u001b[38;5;241m.\u001b[39mdetach()\n",
      "File \u001b[1;32m~\\anaconda3\\Lib\\site-packages\\torch\\_tensor.py:487\u001b[0m, in \u001b[0;36mTensor.backward\u001b[1;34m(self, gradient, retain_graph, create_graph, inputs)\u001b[0m\n\u001b[0;32m    477\u001b[0m \u001b[38;5;28;01mif\u001b[39;00m has_torch_function_unary(\u001b[38;5;28mself\u001b[39m):\n\u001b[0;32m    478\u001b[0m     \u001b[38;5;28;01mreturn\u001b[39;00m handle_torch_function(\n\u001b[0;32m    479\u001b[0m         Tensor\u001b[38;5;241m.\u001b[39mbackward,\n\u001b[0;32m    480\u001b[0m         (\u001b[38;5;28mself\u001b[39m,),\n\u001b[1;32m   (...)\u001b[0m\n\u001b[0;32m    485\u001b[0m         inputs\u001b[38;5;241m=\u001b[39minputs,\n\u001b[0;32m    486\u001b[0m     )\n\u001b[1;32m--> 487\u001b[0m torch\u001b[38;5;241m.\u001b[39mautograd\u001b[38;5;241m.\u001b[39mbackward(\n\u001b[0;32m    488\u001b[0m     \u001b[38;5;28mself\u001b[39m, gradient, retain_graph, create_graph, inputs\u001b[38;5;241m=\u001b[39minputs\n\u001b[0;32m    489\u001b[0m )\n",
      "File \u001b[1;32m~\\anaconda3\\Lib\\site-packages\\torch\\autograd\\__init__.py:200\u001b[0m, in \u001b[0;36mbackward\u001b[1;34m(tensors, grad_tensors, retain_graph, create_graph, grad_variables, inputs)\u001b[0m\n\u001b[0;32m    195\u001b[0m     retain_graph \u001b[38;5;241m=\u001b[39m create_graph\n\u001b[0;32m    197\u001b[0m \u001b[38;5;66;03m# The reason we repeat same the comment below is that\u001b[39;00m\n\u001b[0;32m    198\u001b[0m \u001b[38;5;66;03m# some Python versions print out the first line of a multi-line function\u001b[39;00m\n\u001b[0;32m    199\u001b[0m \u001b[38;5;66;03m# calls in the traceback and some print out the last line\u001b[39;00m\n\u001b[1;32m--> 200\u001b[0m Variable\u001b[38;5;241m.\u001b[39m_execution_engine\u001b[38;5;241m.\u001b[39mrun_backward(  \u001b[38;5;66;03m# Calls into the C++ engine to run the backward pass\u001b[39;00m\n\u001b[0;32m    201\u001b[0m     tensors, grad_tensors_, retain_graph, create_graph, inputs,\n\u001b[0;32m    202\u001b[0m     allow_unreachable\u001b[38;5;241m=\u001b[39m\u001b[38;5;28;01mTrue\u001b[39;00m, accumulate_grad\u001b[38;5;241m=\u001b[39m\u001b[38;5;28;01mTrue\u001b[39;00m)\n",
      "\u001b[1;31mKeyboardInterrupt\u001b[0m: "
     ]
    }
   ],
   "source": [
    "from transformers import BertForSequenceClassification, Trainer, TrainingArguments\n",
    "from sklearn.metrics import mean_squared_error\n",
    "from transformers import Trainer, TrainingArguments\n",
    "from transformers import EarlyStoppingCallback, IntervalStrategy\n",
    "from sklearn.metrics import r2_score, accuracy_score\n",
    "import numpy as np\n",
    "\n",
    "def compute_metrics1(p):\n",
    "\n",
    "    preds = p.predictions.flatten()\n",
    "    labels = p.label_ids.flatten()\n",
    "\n",
    "    r2 = r2_score(labels, preds)\n",
    "    mse = mean_squared_error(labels, preds)\n",
    "    \n",
    "    return {\"r2_score\": r2, \"mse\": mse}\n",
    "\n",
    "def compute_metrics_classification(p):\n",
    "    preds = np.argmax(p.predictions , axis=1)\n",
    "    labels = p.label_ids\n",
    "    accuracy = accuracy_score(labels, preds)\n",
    "    return {\"accuracy_score\": accuracy}\n",
    "\n",
    "def compute_metrics(p):\n",
    "    prediction_scores, labels_ids = p\n",
    "    #print('here')\n",
    "    #print(prediction_scores)\n",
    "\n",
    "    mask = labels_ids != 100\n",
    "    #print(mask)\n",
    "    masked_predictions = prediction_scores[mask]\n",
    "    masked_labels = labels_ids[mask]\n",
    "\n",
    "    mse = mean_squared_error(masked_predictions, masked_labels)\n",
    "    return {\"mse\": mse}\n",
    "\n",
    "training_args = TrainingArguments(\n",
    "    output_dir='./results_task1',\n",
    "    num_train_epochs=150,\n",
    "    label_names=[\"labels_ids\"],\n",
    "    disable_tqdm = True,\n",
    "    #label_names=[\"labels_mask\"],\n",
    "    do_eval=True,\n",
    "    #learning_rate=0.001,\n",
    "    per_device_train_batch_size=batch,\n",
    "    per_device_eval_batch_size=batch,\n",
    "    logging_dir='./logs',\n",
    "    logging_strategy=\"steps\",\n",
    "    logging_steps=50,\n",
    "    evaluation_strategy=\"steps\",\n",
    "    eval_steps = 50,\n",
    "    save_strategy=\"steps\",\n",
    "    save_steps=50,\n",
    "\n",
    "    save_total_limit=2,\n",
    "    load_best_model_at_end=True,\n",
    ")\n",
    "\n",
    "trainer = CustomTrainer(\n",
    "    model=model,\n",
    "    args=training_args,\n",
    "    train_dataset=train_dataset,\n",
    "    eval_dataset=val_dataset,\n",
    "    compute_metrics=compute_metrics1, #compute_metrics1,#compute_metrics_classification,\n",
    "    callbacks = [EarlyStoppingCallback(early_stopping_patience=10)]\n",
    ")\n",
    "\n",
    "trainer.train()"
   ]
  },
  {
   "cell_type": "code",
   "execution_count": 10,
   "id": "cac7d37e",
   "metadata": {},
   "outputs": [],
   "source": [
    "model = reservoirtransformers.ReservoirTTimeSeries.from_pretrained(\"results_task1/checkpoint-1450\", config=configuration).to(\"cuda\", dtype=float)\n"
   ]
  },
  {
   "cell_type": "code",
   "execution_count": 11,
   "id": "827f3400",
   "metadata": {},
   "outputs": [],
   "source": [
    "cnt = 0\n",
    "ln = len(X_test)\n",
    "y_pred = []\n",
    "y_test1 = []\n",
    "while cnt < ln:\n",
    "    #print(cnt, ln)\n",
    "    input_ids = torch.stack(X_test[cnt:cnt+batch], dim=0)\n",
    "    #y_test1 = y_test1 + [k.detach().numpy().flatten() for k in y_test[cnt:cnt+64]]\n",
    "    \n",
    "    output = model(inputs_embeds = input_ids.to(model.device))['logits']\n",
    "    y_pred = y_pred + list(output.cpu().detach().numpy().reshape(output.size(0), -1))\n",
    "    #y_test = y_test + labels_ids\n",
    "    \n",
    "    cnt=cnt+batch\n"
   ]
  },
  {
   "cell_type": "code",
   "execution_count": 12,
   "id": "1fae404b",
   "metadata": {},
   "outputs": [
    {
     "data": {
      "text/plain": [
       "0.4507105596573034"
      ]
     },
     "execution_count": 12,
     "metadata": {},
     "output_type": "execute_result"
    }
   ],
   "source": [
    "from sklearn.metrics import mean_squared_error, mean_absolute_error\n",
    "y_test1 = [i.detach().numpy().flatten() for i in y_test]\n",
    "\n",
    "mse = mean_squared_error(y_test1, y_pred)\n",
    "mse"
   ]
  }
 ],
 "metadata": {
  "kernelspec": {
   "display_name": "Python 3 (ipykernel)",
   "language": "python",
   "name": "python3"
  },
  "language_info": {
   "codemirror_mode": {
    "name": "ipython",
    "version": 3
   },
   "file_extension": ".py",
   "mimetype": "text/x-python",
   "name": "python",
   "nbconvert_exporter": "python",
   "pygments_lexer": "ipython3",
   "version": "3.11.4"
  }
 },
 "nbformat": 4,
 "nbformat_minor": 5
}
